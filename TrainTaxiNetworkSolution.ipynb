{
 "cells": [
  {
   "cell_type": "markdown",
   "metadata": {},
   "source": [
    "# Taxinet Training"
   ]
  },
  {
   "cell_type": "markdown",
   "metadata": {},
   "source": [
    "In this notebook, we will use the taxinet data we generated from the last exercise to train a neural network to estimate our current crosstrack error and heading error from a downsampled runway image."
   ]
  },
  {
   "cell_type": "markdown",
   "metadata": {},
   "source": [
    "First, lets import some of the python packages we will need. One of the packages we will be importing from in [tensorflow](https://www.tensorflow.org/). Tensorflow is a very popular machine learning package that implements a lot of the functions we need for training neural networks for us."
   ]
  },
  {
   "cell_type": "code",
   "execution_count": 2,
   "metadata": {},
   "outputs": [],
   "source": [
    "import h5py\n",
    "import numpy as np\n",
    "import matplotlib.pyplot as plt\n",
    "\n",
    "from tensorflow.keras.models import Sequential\n",
    "from tensorflow.keras.layers import Dense\n",
    "\n",
    "from tensorflow.keras.optimizers import SGD"
   ]
  },
  {
   "cell_type": "markdown",
   "metadata": {},
   "source": [
    "## Get the data ready\n",
    "\n",
    "We have generated a dataset 20,000 downsampled images using the code from the data generation notebook for you. The data is stored in the file called `taxi_ai4all_data.h5`. Run the following cell to read all of the training images into a numpy array called `X` and all of the labels into a numpy array called `y`."
   ]
  },
  {
   "cell_type": "code",
   "execution_count": 4,
   "metadata": {},
   "outputs": [],
   "source": [
    "f = h5py.File('taxi_ai4all_data.h5', 'r')\n",
    "X = np.array(f['X'])\n",
    "y = np.array(f['y'])"
   ]
  },
  {
   "cell_type": "markdown",
   "metadata": {},
   "source": [
    "In order to check whether we are overfitting, we need to create a separate training and test set from our data. We will use the first 18,000 images as our training set and set aside the last 2000 images as the test set. Run the cell below to split the data:"
   ]
  },
  {
   "cell_type": "code",
   "execution_count": 5,
   "metadata": {},
   "outputs": [],
   "source": [
    "# Split into train and test sets\n",
    "X_train = X[:, :18000]\n",
    "y_train = y[:, :18000]\n",
    "\n",
    "X_test = X[:, 18000:]\n",
    "y_test = y[:, 18000:]"
   ]
  },
  {
   "cell_type": "markdown",
   "metadata": {},
   "source": [
    "## Choose your network architecture\n",
    "\n",
    "Next, we will start selecting some of the **hyperparameters** of our network such as the number of layers and the sizes of the layers. The function below takes in a list of layer sizes and returns a tensorflow neural network model with the corresponding network:"
   ]
  },
  {
   "cell_type": "code",
   "execution_count": 6,
   "metadata": {},
   "outputs": [],
   "source": [
    "def build_model(layer_sizes):\n",
    "    model = Sequential()\n",
    "    for i in range(1, len(layer_sizes) - 1):\n",
    "        model.add(Dense(layer_sizes[i], activation = 'relu'))\n",
    "    model.add(Dense(layer_sizes[-1]))\n",
    "    return model"
   ]
  },
  {
   "cell_type": "markdown",
   "metadata": {},
   "source": [
    "Fill in the cell below with your desired layer sizes:"
   ]
  },
  {
   "cell_type": "code",
   "execution_count": 10,
   "metadata": {},
   "outputs": [],
   "source": [
    "layer_sizes = [128, 64, 32, 16, 2] # Fill in your desired layer sizes!\n",
    "model = build_model(layer_sizes)"
   ]
  },
  {
   "cell_type": "markdown",
   "metadata": {},
   "source": [
    "## Set up your optimizer\n",
    "\n",
    "We will use tensorflow \"stochastic gradient descent\" or SGD optimizer which work similarly to the gradient descent optimizer we learned about earlier! Fill in the cell below with your learning rate to create the optimizer:"
   ]
  },
  {
   "cell_type": "code",
   "execution_count": 7,
   "metadata": {},
   "outputs": [],
   "source": [
    "learning_rate = 0.001 # Fill in your learning rate!\n",
    "opt = SGD(learning_rate=learning_rate)"
   ]
  },
  {
   "cell_type": "markdown",
   "metadata": {},
   "source": [
    "## Compile the model with your loss function\n",
    "\n",
    "The following cell tells tensorflow to use our SGD optimizer with a mean squared error loss."
   ]
  },
  {
   "cell_type": "code",
   "execution_count": 14,
   "metadata": {},
   "outputs": [],
   "source": [
    "model.compile(optimizer=opt, loss='mse')"
   ]
  },
  {
   "cell_type": "markdown",
   "metadata": {},
   "source": [
    "## Training time!\n",
    "\n",
    "Run the cell below to train the model. The training will run for 100 epochs. You can think of an epoch like an iteration of gradient descent. At each epoch, tensorflow will print out our training and validation (test) loss. Before running the cell, discuss with your group what should happen to these values during training.\n",
    "\n",
    "Once you are ready, run the cell to train your model!"
   ]
  },
  {
   "cell_type": "code",
   "execution_count": 13,
   "metadata": {},
   "outputs": [
    {
     "name": "stdout",
     "output_type": "stream",
     "text": [
      "Epoch 1/100\n",
      "282/282 [==============================] - 0s 940us/step - loss: 81.5176 - val_loss: 77.9311\n",
      "Epoch 2/100\n",
      "282/282 [==============================] - 0s 653us/step - loss: 66.1253 - val_loss: 58.1775\n",
      "Epoch 3/100\n",
      "282/282 [==============================] - 0s 648us/step - loss: 55.6473 - val_loss: 52.0073\n",
      "Epoch 4/100\n",
      "282/282 [==============================] - 0s 635us/step - loss: 48.6993 - val_loss: 51.4221\n",
      "Epoch 5/100\n",
      "282/282 [==============================] - 0s 641us/step - loss: 43.3026 - val_loss: 68.1218\n",
      "Epoch 6/100\n",
      "282/282 [==============================] - 0s 615us/step - loss: 38.6452 - val_loss: 28.4062\n",
      "Epoch 7/100\n",
      "282/282 [==============================] - 0s 634us/step - loss: 35.6238 - val_loss: 32.3937\n",
      "Epoch 8/100\n",
      "282/282 [==============================] - 0s 646us/step - loss: 31.1754 - val_loss: 61.0127\n",
      "Epoch 9/100\n",
      "282/282 [==============================] - 0s 661us/step - loss: 26.9643 - val_loss: 24.3706\n",
      "Epoch 10/100\n",
      "282/282 [==============================] - 0s 650us/step - loss: 26.6817 - val_loss: 24.5221\n",
      "Epoch 11/100\n",
      "282/282 [==============================] - 0s 621us/step - loss: 20.5384 - val_loss: 24.7391\n",
      "Epoch 12/100\n",
      "282/282 [==============================] - 0s 620us/step - loss: 16.3305 - val_loss: 35.9091\n",
      "Epoch 13/100\n",
      "282/282 [==============================] - 0s 626us/step - loss: 13.9909 - val_loss: 6.3522\n",
      "Epoch 14/100\n",
      "282/282 [==============================] - 0s 614us/step - loss: 11.2528 - val_loss: 5.3876\n",
      "Epoch 15/100\n",
      "282/282 [==============================] - 0s 664us/step - loss: 9.5331 - val_loss: 9.9647\n",
      "Epoch 16/100\n",
      "282/282 [==============================] - 0s 685us/step - loss: 8.2323 - val_loss: 8.1252\n",
      "Epoch 17/100\n",
      "282/282 [==============================] - 0s 759us/step - loss: 6.5811 - val_loss: 10.8766\n",
      "Epoch 18/100\n",
      "282/282 [==============================] - 0s 953us/step - loss: 6.7881 - val_loss: 8.3388\n",
      "Epoch 19/100\n",
      "282/282 [==============================] - 0s 615us/step - loss: 5.6039 - val_loss: 11.5101\n",
      "Epoch 20/100\n",
      "282/282 [==============================] - 0s 611us/step - loss: 4.7033 - val_loss: 3.1625\n",
      "Epoch 21/100\n",
      "282/282 [==============================] - 0s 700us/step - loss: 4.4267 - val_loss: 15.0527\n",
      "Epoch 22/100\n",
      "282/282 [==============================] - 0s 719us/step - loss: 4.3074 - val_loss: 9.8500\n",
      "Epoch 23/100\n",
      "282/282 [==============================] - 0s 638us/step - loss: 3.8940 - val_loss: 2.2262\n",
      "Epoch 24/100\n",
      "282/282 [==============================] - 0s 676us/step - loss: 3.3868 - val_loss: 6.2344\n",
      "Epoch 25/100\n",
      "282/282 [==============================] - 0s 778us/step - loss: 3.2663 - val_loss: 3.9820\n",
      "Epoch 26/100\n",
      "282/282 [==============================] - 0s 650us/step - loss: 2.8903 - val_loss: 3.3668\n",
      "Epoch 27/100\n",
      "282/282 [==============================] - 0s 676us/step - loss: 3.0565 - val_loss: 10.6654\n",
      "Epoch 28/100\n",
      "282/282 [==============================] - 0s 571us/step - loss: 2.5796 - val_loss: 2.3263\n",
      "Epoch 29/100\n",
      "282/282 [==============================] - 0s 643us/step - loss: 2.4063 - val_loss: 1.8807\n",
      "Epoch 30/100\n",
      "282/282 [==============================] - 0s 666us/step - loss: 2.4403 - val_loss: 1.7312\n",
      "Epoch 31/100\n",
      "282/282 [==============================] - 0s 638us/step - loss: 2.3365 - val_loss: 1.8117\n",
      "Epoch 32/100\n",
      "282/282 [==============================] - 0s 638us/step - loss: 2.0844 - val_loss: 1.4223\n",
      "Epoch 33/100\n",
      "282/282 [==============================] - 0s 651us/step - loss: 2.1388 - val_loss: 1.5238\n",
      "Epoch 34/100\n",
      "282/282 [==============================] - 0s 652us/step - loss: 2.0465 - val_loss: 1.2493\n",
      "Epoch 35/100\n",
      "282/282 [==============================] - 0s 652us/step - loss: 1.8587 - val_loss: 1.1203\n",
      "Epoch 36/100\n",
      "282/282 [==============================] - 0s 672us/step - loss: 1.8661 - val_loss: 1.1008\n",
      "Epoch 37/100\n",
      "282/282 [==============================] - 0s 640us/step - loss: 1.5868 - val_loss: 1.9810\n",
      "Epoch 38/100\n",
      "282/282 [==============================] - 0s 895us/step - loss: 1.5415 - val_loss: 1.1604\n",
      "Epoch 39/100\n",
      "282/282 [==============================] - 0s 667us/step - loss: 1.5091 - val_loss: 2.1126\n",
      "Epoch 40/100\n",
      "282/282 [==============================] - 0s 645us/step - loss: 1.5970 - val_loss: 2.1034\n",
      "Epoch 41/100\n",
      "282/282 [==============================] - 0s 640us/step - loss: 1.5355 - val_loss: 2.1524\n",
      "Epoch 42/100\n",
      "282/282 [==============================] - 0s 624us/step - loss: 1.4707 - val_loss: 4.6836\n",
      "Epoch 43/100\n",
      "282/282 [==============================] - 0s 672us/step - loss: 1.4990 - val_loss: 1.3159\n",
      "Epoch 44/100\n",
      "282/282 [==============================] - 0s 662us/step - loss: 1.4137 - val_loss: 2.6434\n",
      "Epoch 45/100\n",
      "282/282 [==============================] - 0s 666us/step - loss: 1.2147 - val_loss: 2.4590\n",
      "Epoch 46/100\n",
      "282/282 [==============================] - 0s 639us/step - loss: 1.3647 - val_loss: 1.0122\n",
      "Epoch 47/100\n",
      "282/282 [==============================] - 0s 665us/step - loss: 1.3115 - val_loss: 1.9959\n",
      "Epoch 48/100\n",
      "282/282 [==============================] - 0s 677us/step - loss: 1.1372 - val_loss: 1.0950\n",
      "Epoch 49/100\n",
      "282/282 [==============================] - 0s 651us/step - loss: 1.2305 - val_loss: 1.9507\n",
      "Epoch 50/100\n",
      "282/282 [==============================] - 0s 593us/step - loss: 1.0233 - val_loss: 1.5142\n",
      "Epoch 51/100\n",
      "282/282 [==============================] - 0s 646us/step - loss: 1.1096 - val_loss: 1.5202\n",
      "Epoch 52/100\n",
      "282/282 [==============================] - 0s 681us/step - loss: 1.0881 - val_loss: 0.8675\n",
      "Epoch 53/100\n",
      "282/282 [==============================] - 0s 649us/step - loss: 1.2289 - val_loss: 0.7606\n",
      "Epoch 54/100\n",
      "282/282 [==============================] - 0s 662us/step - loss: 1.1666 - val_loss: 2.9692\n",
      "Epoch 55/100\n",
      "282/282 [==============================] - 0s 671us/step - loss: 0.9821 - val_loss: 0.8744\n",
      "Epoch 56/100\n",
      "282/282 [==============================] - 0s 652us/step - loss: 1.0236 - val_loss: 0.7734\n",
      "Epoch 57/100\n",
      "282/282 [==============================] - 0s 679us/step - loss: 0.9920 - val_loss: 0.9625\n",
      "Epoch 58/100\n",
      "282/282 [==============================] - 0s 633us/step - loss: 0.9837 - val_loss: 0.9292\n",
      "Epoch 59/100\n",
      "282/282 [==============================] - 0s 658us/step - loss: 0.8916 - val_loss: 0.6942\n",
      "Epoch 60/100\n",
      "282/282 [==============================] - 0s 656us/step - loss: 0.8156 - val_loss: 0.6988\n",
      "Epoch 61/100\n",
      "282/282 [==============================] - 0s 670us/step - loss: 0.9174 - val_loss: 1.3301\n",
      "Epoch 62/100\n",
      "282/282 [==============================] - 0s 650us/step - loss: 0.9589 - val_loss: 1.2243\n",
      "Epoch 63/100\n",
      "282/282 [==============================] - 0s 685us/step - loss: 0.9273 - val_loss: 1.6491\n",
      "Epoch 64/100\n",
      "282/282 [==============================] - 0s 634us/step - loss: 0.8750 - val_loss: 1.5414\n",
      "Epoch 65/100\n",
      "282/282 [==============================] - 0s 646us/step - loss: 0.8681 - val_loss: 0.6860\n",
      "Epoch 66/100\n",
      "282/282 [==============================] - 0s 673us/step - loss: 0.9122 - val_loss: 0.8814\n",
      "Epoch 67/100\n",
      "282/282 [==============================] - 0s 911us/step - loss: 0.8220 - val_loss: 1.5224\n",
      "Epoch 68/100\n",
      "282/282 [==============================] - 0s 652us/step - loss: 0.8720 - val_loss: 0.8189\n",
      "Epoch 69/100\n",
      "282/282 [==============================] - 0s 771us/step - loss: 0.8491 - val_loss: 0.7192\n",
      "Epoch 70/100\n",
      "282/282 [==============================] - 0s 649us/step - loss: 0.7510 - val_loss: 1.1764\n",
      "Epoch 71/100\n",
      "282/282 [==============================] - 0s 725us/step - loss: 0.8803 - val_loss: 0.8381\n",
      "Epoch 72/100\n",
      "282/282 [==============================] - 0s 657us/step - loss: 0.7682 - val_loss: 0.6711\n",
      "Epoch 73/100\n",
      "282/282 [==============================] - 0s 682us/step - loss: 0.8227 - val_loss: 0.7147\n",
      "Epoch 74/100\n",
      "282/282 [==============================] - 0s 698us/step - loss: 0.7927 - val_loss: 0.7518\n",
      "Epoch 75/100\n",
      "282/282 [==============================] - 0s 782us/step - loss: 0.7234 - val_loss: 2.1467\n",
      "Epoch 76/100\n",
      "282/282 [==============================] - 0s 649us/step - loss: 0.7618 - val_loss: 0.8726\n",
      "Epoch 77/100\n",
      "282/282 [==============================] - 0s 734us/step - loss: 0.7695 - val_loss: 1.0350\n",
      "Epoch 78/100\n",
      "282/282 [==============================] - 0s 813us/step - loss: 0.7599 - val_loss: 0.6077\n",
      "Epoch 79/100\n",
      "282/282 [==============================] - 0s 796us/step - loss: 0.7171 - val_loss: 0.7820\n",
      "Epoch 80/100\n",
      "282/282 [==============================] - 0s 709us/step - loss: 0.7878 - val_loss: 0.9486\n",
      "Epoch 81/100\n",
      "282/282 [==============================] - 0s 789us/step - loss: 0.7070 - val_loss: 0.6460\n",
      "Epoch 82/100\n",
      "282/282 [==============================] - 0s 747us/step - loss: 0.7138 - val_loss: 0.9146\n",
      "Epoch 83/100\n",
      "282/282 [==============================] - 0s 687us/step - loss: 0.7379 - val_loss: 0.7109\n",
      "Epoch 84/100\n",
      "282/282 [==============================] - 0s 703us/step - loss: 0.6269 - val_loss: 0.8691\n",
      "Epoch 85/100\n",
      "282/282 [==============================] - 0s 692us/step - loss: 0.7618 - val_loss: 0.6679\n",
      "Epoch 86/100\n",
      "282/282 [==============================] - 0s 697us/step - loss: 0.7297 - val_loss: 1.4934\n",
      "Epoch 87/100\n",
      "282/282 [==============================] - 0s 701us/step - loss: 0.6636 - val_loss: 0.9636\n",
      "Epoch 88/100\n",
      "282/282 [==============================] - 0s 701us/step - loss: 0.7435 - val_loss: 1.0689\n",
      "Epoch 89/100\n",
      "282/282 [==============================] - 0s 696us/step - loss: 0.6707 - val_loss: 0.6975\n",
      "Epoch 90/100\n",
      "282/282 [==============================] - 0s 792us/step - loss: 0.6439 - val_loss: 0.7340\n",
      "Epoch 91/100\n",
      "282/282 [==============================] - 0s 719us/step - loss: 0.6286 - val_loss: 0.7412\n",
      "Epoch 92/100\n",
      "282/282 [==============================] - 0s 584us/step - loss: 0.7080 - val_loss: 0.6257\n",
      "Epoch 93/100\n",
      "282/282 [==============================] - 0s 682us/step - loss: 0.6018 - val_loss: 0.6017\n",
      "Epoch 94/100\n",
      "282/282 [==============================] - 0s 683us/step - loss: 0.6319 - val_loss: 0.5411\n",
      "Epoch 95/100\n",
      "282/282 [==============================] - 0s 632us/step - loss: 0.6592 - val_loss: 0.8932\n",
      "Epoch 96/100\n",
      "282/282 [==============================] - 0s 672us/step - loss: 0.6685 - val_loss: 0.8968\n",
      "Epoch 97/100\n",
      "282/282 [==============================] - 0s 689us/step - loss: 0.5805 - val_loss: 0.7530\n",
      "Epoch 98/100\n",
      "282/282 [==============================] - 0s 698us/step - loss: 0.6212 - val_loss: 0.9201\n",
      "Epoch 99/100\n",
      "282/282 [==============================] - 0s 659us/step - loss: 0.6192 - val_loss: 1.0569\n",
      "Epoch 100/100\n",
      "282/282 [==============================] - 0s 691us/step - loss: 0.6225 - val_loss: 0.6082\n"
     ]
    },
    {
     "data": {
      "text/plain": [
       "<tensorflow.python.keras.callbacks.History at 0x7f57b414f100>"
      ]
     },
     "execution_count": 13,
     "metadata": {},
     "output_type": "execute_result"
    }
   ],
   "source": [
    "model.fit(X_train.T, y_train.T, epochs=100, batch_size=64, validation_data=(X_test.T, y_test.T), verbose=1)"
   ]
  },
  {
   "cell_type": "markdown",
   "metadata": {},
   "source": [
    "## Evaluation\n",
    "\n",
    "Let's see how our training did! Run the cell below to get our model's predictions on the train and test sets."
   ]
  },
  {
   "cell_type": "code",
   "execution_count": 15,
   "metadata": {},
   "outputs": [],
   "source": [
    "y_train_pred = model.predict(X_train.T)\n",
    "y_test_pred = model.predict(X_test.T)"
   ]
  },
  {
   "cell_type": "markdown",
   "metadata": {},
   "source": [
    "First, let's check out our model evaluations on the first 10 images in our test set. Run the cell create a plot with this information. This might be a nice plot to include in your final presentation :)."
   ]
  },
  {
   "cell_type": "code",
   "execution_count": 29,
   "metadata": {},
   "outputs": [
    {
     "data": {
      "image/png": "[encoded data removed]",
      "text/plain": [
       "<Figure size 1440x360 with 10 Axes>"
      ]
     },
     "metadata": {
      "needs_background": "light"
     },
     "output_type": "display_data"
    }
   ],
   "source": [
    "fig = plt.figure()\n",
    "\n",
    "for i in range(10):\n",
    "    ax = fig.add_subplot(2, 5, i + 1)\n",
    "    img = np.reshape(X_test[:, i], (8, 16))\n",
    "    imgplot = plt.imshow(img, cmap='gray', clim=(0, 1))\n",
    "    title_string = 'True: cte = ' + \\\n",
    "                    str(round(y_test[0, i], 3)) +  \\\n",
    "                    ', he = ' + \\\n",
    "                    str(round(y_test[1, i], 3)) + \\\n",
    "                    '\\nPred: cte = ' + \\\n",
    "                    str(round(y_test_pred[i, 0], 3)) +  \\\n",
    "                    ', he = ' + \\\n",
    "                    str(round(y_test_pred[i, 1], 3))\n",
    "    ax.set_title(title_string)\n",
    "    plt.axis('off')\n",
    "\n",
    "fig.set_figwidth(20)\n",
    "fig.set_figheight(5)\n"
   ]
  },
  {
   "cell_type": "markdown",
   "metadata": {},
   "source": [
    "How did it do on these examples? Looking at predictions on a few examples can give you an idea of whether your model is working, but in order to get the whole picture, we want to analyze some metrics across all of the examples in our data. To do that, let's compute the absolute value of the prediction errors for the train and test set:"
   ]
  },
  {
   "cell_type": "code",
   "execution_count": 30,
   "metadata": {},
   "outputs": [],
   "source": [
    "errors_train = np.abs(y_train_pred.T - y_train)\n",
    "errors_test = np.abs(y_test_pred.T - y_test)"
   ]
  },
  {
   "cell_type": "markdown",
   "metadata": {},
   "source": [
    "But how can we analyze all 20,000 errors at once? A histogram is a good way to visualize the distribution of a set of data, so let's try to create one of those using matplotlib's `hist` function. Run the cell below to plot the errors on the training and test set. (Another plot this might be good for your final presentation :))."
   ]
  },
  {
   "cell_type": "code",
   "execution_count": 35,
   "metadata": {},
   "outputs": [
    {
     "data": {
      "image/png": "[encoded data removed]",
      "text/plain": [
       "<Figure size 720x720 with 4 Axes>"
      ]
     },
     "metadata": {
      "needs_background": "light"
     },
     "output_type": "display_data"
    }
   ],
   "source": [
    "fig = plt.figure()\n",
    "\n",
    "plt.subplot(221)\n",
    "plt.hist(errors_train[0, :])\n",
    "plt.xlabel('Absolute Value of the Error')\n",
    "plt.ylabel('Number of examples')\n",
    "plt.title('Training CTE Error Distribution')\n",
    "\n",
    "plt.subplot(222)\n",
    "plt.hist(errors_test[0, :])\n",
    "plt.xlabel('Absolute Value of the Error')\n",
    "plt.ylabel('Number of examples')\n",
    "plt.title('Testing CTE Error Distribution')\n",
    "\n",
    "plt.subplot(223)\n",
    "plt.hist(errors_train[1, :])\n",
    "plt.xlabel('Absolute Value of the Error')\n",
    "plt.ylabel('Number of examples')\n",
    "plt.title('Training HE Error Distribution')\n",
    "\n",
    "plt.subplot(224)\n",
    "plt.hist(errors_test[1, :])\n",
    "plt.xlabel('Absolute Value of the Error')\n",
    "plt.ylabel('Number of examples')\n",
    "plt.title('Testing HE Error Distribution')\n",
    "\n",
    "fig.set_figwidth(10)\n",
    "fig.set_figheight(10)\n",
    "\n",
    "plt.show()\n"
   ]
  },
  {
   "cell_type": "markdown",
   "metadata": {},
   "source": [
    "What do you notice about the two distributions. Is it what you expect? Discuss with your group."
   ]
  },
  {
   "cell_type": "markdown",
   "metadata": {},
   "source": [
    "## Analyze the results and make changes\n",
    "\n",
    "Now that you have trained a network and done some analysis, it's time to go back and try to make some changes to improve your model. Try tuning some of the **hyperparameters** to observe their affect on the training and the effectiveness of the final model. Some hyperparameters to try changing include:\n",
    "- number of layers\n",
    "- number of neurons in each layer\n",
    "- learning rate\n",
    "- number of epochs\n",
    "- batch size\n",
    "\n",
    "As you go back through the training cycle and test out your changes, discuss the following questions with your group. When we come back together, we will ask each group to share their findings.\n",
    "1. How do the number of layers and the number of neurons in each layer seem to affect the training?\n",
    "2. How does changing the learning rate affect the training?\n",
    "3. Does increasing the number of epochs help? Could we decrease it?\n",
    "4. Do the train and validation (test accuracy) seem to match each other closely? If so, why? If not, why not?\n",
    "5. If you recreate the model with the same hyperparameters, you won't always get the same final mse and predictions. Why do you think this is?\n",
    "\n",
    "In order to effectively control the aircraft, you should try to get your mse below 1.0."
   ]
  },
  {
   "cell_type": "markdown",
   "metadata": {},
   "source": [
    "## Save the model for later!\n",
    "Once you are satisfied with your model, run the following line to save the model to a file called `Taxinet.h5`. This will allow us to use it in the next notebook where we make it taxi down the runway!"
   ]
  },
  {
   "cell_type": "code",
   "execution_count": 36,
   "metadata": {},
   "outputs": [],
   "source": [
    "model.save('Taxinet.h5')"
   ]
  }
 ],
 "metadata": {
  "interpreter": {
   "hash": "36cf16204b8548560b1c020c4e8fb5b57f0e4c58016f52f2d4be01e192833930"
  },
  "kernelspec": {
   "display_name": "Python 3.9.2 64-bit",
   "name": "python3"
  },
  "language_info": {
   "codemirror_mode": {
    "name": "ipython",
    "version": 3
   },
   "file_extension": ".py",
   "mimetype": "text/x-python",
   "name": "python",
   "nbconvert_exporter": "python",
   "pygments_lexer": "ipython3",
   "version": "3.9.2"
  },
  "orig_nbformat": 4
 },
 "nbformat": 4,
 "nbformat_minor": 2
}
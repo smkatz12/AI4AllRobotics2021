{
 "metadata": {
  "language_info": {
   "codemirror_mode": {
    "name": "ipython",
    "version": 3
   },
   "file_extension": ".py",
   "mimetype": "text/x-python",
   "name": "python",
   "nbconvert_exporter": "python",
   "pygments_lexer": "ipython3",
   "version": "3.9.2"
  },
  "orig_nbformat": 4,
  "kernelspec": {
   "name": "python3",
   "display_name": "Python 3.9.2 64-bit"
  },
  "interpreter": {
   "hash": "36cf16204b8548560b1c020c4e8fb5b57f0e4c58016f52f2d4be01e192833930"
  }
 },
 "nbformat": 4,
 "nbformat_minor": 2,
 "cells": [
  {
   "cell_type": "code",
   "execution_count": 8,
   "metadata": {},
   "outputs": [],
   "source": [
    "import h5py\n",
    "import numpy as np\n",
    "import matplotlib.pyplot as plt"
   ]
  },
  {
   "cell_type": "code",
   "execution_count": 49,
   "metadata": {},
   "outputs": [],
   "source": [
    "f = h5py.File('taxi_ai4all_data.h5', 'r')\n",
    "X = np.array(f['X'])\n",
    "y = np.array(f['y'])"
   ]
  },
  {
   "cell_type": "code",
   "execution_count": 50,
   "metadata": {},
   "outputs": [],
   "source": [
    "# Split into training and validation sets\n",
    "X_train = X[:, :18000]\n",
    "y_train = y[:, :18000]\n",
    "\n",
    "X_val = X[:, 18000:]\n",
    "y_val = y[:, 18000:]"
   ]
  },
  {
   "cell_type": "code",
   "execution_count": 32,
   "metadata": {},
   "outputs": [],
   "source": [
    "from tensorflow.keras.models import Sequential\n",
    "from tensorflow.keras.layers import Dense"
   ]
  },
  {
   "cell_type": "code",
   "execution_count": 33,
   "metadata": {},
   "outputs": [],
   "source": [
    "def build_model(layer_sizes):\n",
    "    model = Sequential()\n",
    "    for i in range(1, len(layer_sizes) - 1):\n",
    "        model.add(Dense(layer_sizes[i], activation = 'relu'))\n",
    "    model.add(Dense(layer_sizes[-1]))\n",
    "    return model"
   ]
  },
  {
   "cell_type": "code",
   "execution_count": 57,
   "metadata": {},
   "outputs": [],
   "source": [
    "model = build_model([128, 64, 32, 16, 2])"
   ]
  },
  {
   "cell_type": "code",
   "execution_count": 35,
   "metadata": {},
   "outputs": [],
   "source": [
    "from tensorflow.keras.optimizers import SGD"
   ]
  },
  {
   "cell_type": "code",
   "execution_count": 37,
   "metadata": {},
   "outputs": [],
   "source": [
    "opt = SGD(learning_rate=0.001, momentum=0.9)"
   ]
  },
  {
   "cell_type": "code",
   "execution_count": 58,
   "metadata": {},
   "outputs": [],
   "source": [
    "model.compile(optimizer=opt, loss='mse', metrics='mse')"
   ]
  },
  {
   "cell_type": "code",
   "execution_count": 59,
   "metadata": {},
   "outputs": [
    {
     "output_type": "stream",
     "name": "stdout",
     "text": [
      "Epoch 1/100\n",
      "282/282 [==============================] - 1s 1ms/step - loss: 59.3916 - mse: 59.3916 - val_loss: 61.4135 - val_mse: 61.4135\n",
      "Epoch 2/100\n",
      "282/282 [==============================] - 0s 848us/step - loss: 33.1213 - mse: 33.1213 - val_loss: 25.6286 - val_mse: 25.6286\n",
      "Epoch 3/100\n",
      "282/282 [==============================] - 0s 788us/step - loss: 15.0994 - mse: 15.0994 - val_loss: 14.6489 - val_mse: 14.6489\n",
      "Epoch 4/100\n",
      "282/282 [==============================] - 0s 804us/step - loss: 5.1841 - mse: 5.1841 - val_loss: 12.9028 - val_mse: 12.9028\n",
      "Epoch 5/100\n",
      "282/282 [==============================] - 0s 762us/step - loss: 3.2608 - mse: 3.2608 - val_loss: 7.3281 - val_mse: 7.3281\n",
      "Epoch 6/100\n",
      "282/282 [==============================] - 0s 809us/step - loss: 2.1011 - mse: 2.1011 - val_loss: 1.5690 - val_mse: 1.5690\n",
      "Epoch 7/100\n",
      "282/282 [==============================] - 0s 780us/step - loss: 1.7169 - mse: 1.7169 - val_loss: 1.1500 - val_mse: 1.1500\n",
      "Epoch 8/100\n",
      "282/282 [==============================] - 0s 783us/step - loss: 2.0128 - mse: 2.0128 - val_loss: 1.2385 - val_mse: 1.2385\n",
      "Epoch 9/100\n",
      "282/282 [==============================] - 0s 837us/step - loss: 1.2540 - mse: 1.2540 - val_loss: 0.9160 - val_mse: 0.9160\n",
      "Epoch 10/100\n",
      "282/282 [==============================] - 0s 768us/step - loss: 1.1484 - mse: 1.1484 - val_loss: 1.0113 - val_mse: 1.0113\n",
      "Epoch 11/100\n",
      "282/282 [==============================] - 0s 794us/step - loss: 1.1510 - mse: 1.1510 - val_loss: 1.5329 - val_mse: 1.5329\n",
      "Epoch 12/100\n",
      "282/282 [==============================] - 0s 826us/step - loss: 1.1955 - mse: 1.1955 - val_loss: 3.4325 - val_mse: 3.4325\n",
      "Epoch 13/100\n",
      "282/282 [==============================] - 0s 830us/step - loss: 1.0381 - mse: 1.0381 - val_loss: 0.8218 - val_mse: 0.8218\n",
      "Epoch 14/100\n",
      "282/282 [==============================] - 0s 766us/step - loss: 0.8679 - mse: 0.8679 - val_loss: 2.0148 - val_mse: 2.0148\n",
      "Epoch 15/100\n",
      "282/282 [==============================] - 0s 806us/step - loss: 0.9287 - mse: 0.9287 - val_loss: 0.6583 - val_mse: 0.6583\n",
      "Epoch 16/100\n",
      "282/282 [==============================] - 0s 790us/step - loss: 0.8069 - mse: 0.8069 - val_loss: 1.0113 - val_mse: 1.0113\n",
      "Epoch 17/100\n",
      "282/282 [==============================] - 0s 810us/step - loss: 0.7644 - mse: 0.7644 - val_loss: 0.6598 - val_mse: 0.6598\n",
      "Epoch 18/100\n",
      "282/282 [==============================] - 0s 770us/step - loss: 0.8268 - mse: 0.8268 - val_loss: 1.0401 - val_mse: 1.0401\n",
      "Epoch 19/100\n",
      "282/282 [==============================] - 0s 780us/step - loss: 0.7379 - mse: 0.7379 - val_loss: 1.2907 - val_mse: 1.2907\n",
      "Epoch 20/100\n",
      "282/282 [==============================] - 0s 819us/step - loss: 0.7356 - mse: 0.7356 - val_loss: 0.7087 - val_mse: 0.7087\n",
      "Epoch 21/100\n",
      "282/282 [==============================] - 0s 844us/step - loss: 0.7438 - mse: 0.7438 - val_loss: 0.5490 - val_mse: 0.5490\n",
      "Epoch 22/100\n",
      "282/282 [==============================] - 0s 832us/step - loss: 0.7032 - mse: 0.7032 - val_loss: 0.5538 - val_mse: 0.5538\n",
      "Epoch 23/100\n",
      "282/282 [==============================] - 0s 857us/step - loss: 0.6364 - mse: 0.6364 - val_loss: 0.5887 - val_mse: 0.5887\n",
      "Epoch 24/100\n",
      "282/282 [==============================] - 0s 873us/step - loss: 0.5688 - mse: 0.5688 - val_loss: 0.6183 - val_mse: 0.6183\n",
      "Epoch 25/100\n",
      "282/282 [==============================] - 0s 922us/step - loss: 0.6175 - mse: 0.6175 - val_loss: 0.8653 - val_mse: 0.8653\n",
      "Epoch 26/100\n",
      "282/282 [==============================] - 0s 823us/step - loss: 0.5773 - mse: 0.5773 - val_loss: 0.7551 - val_mse: 0.7551\n",
      "Epoch 27/100\n",
      "282/282 [==============================] - 0s 864us/step - loss: 0.5802 - mse: 0.5802 - val_loss: 0.5686 - val_mse: 0.5686\n",
      "Epoch 28/100\n",
      "282/282 [==============================] - 0s 825us/step - loss: 0.5606 - mse: 0.5606 - val_loss: 0.7945 - val_mse: 0.7945\n",
      "Epoch 29/100\n",
      "282/282 [==============================] - 0s 905us/step - loss: 0.6821 - mse: 0.6821 - val_loss: 1.0138 - val_mse: 1.0138\n",
      "Epoch 30/100\n",
      "282/282 [==============================] - 0s 798us/step - loss: 0.5738 - mse: 0.5738 - val_loss: 0.4389 - val_mse: 0.4389\n",
      "Epoch 31/100\n",
      "282/282 [==============================] - 0s 840us/step - loss: 0.4936 - mse: 0.4936 - val_loss: 0.4951 - val_mse: 0.4951\n",
      "Epoch 32/100\n",
      "282/282 [==============================] - 0s 815us/step - loss: 0.5931 - mse: 0.5931 - val_loss: 0.4925 - val_mse: 0.4925\n",
      "Epoch 33/100\n",
      "282/282 [==============================] - 0s 855us/step - loss: 0.6031 - mse: 0.6031 - val_loss: 1.7109 - val_mse: 1.7109\n",
      "Epoch 34/100\n",
      "282/282 [==============================] - 0s 841us/step - loss: 0.5016 - mse: 0.5016 - val_loss: 0.5954 - val_mse: 0.5954\n",
      "Epoch 35/100\n",
      "282/282 [==============================] - 0s 847us/step - loss: 0.5125 - mse: 0.5125 - val_loss: 0.6773 - val_mse: 0.6773\n",
      "Epoch 36/100\n",
      "282/282 [==============================] - 0s 795us/step - loss: 0.5245 - mse: 0.5245 - val_loss: 0.4746 - val_mse: 0.4746\n",
      "Epoch 37/100\n",
      "282/282 [==============================] - 0s 918us/step - loss: 0.5197 - mse: 0.5197 - val_loss: 0.4677 - val_mse: 0.4677\n",
      "Epoch 38/100\n",
      "282/282 [==============================] - 0s 769us/step - loss: 0.5282 - mse: 0.5282 - val_loss: 0.4033 - val_mse: 0.4033\n",
      "Epoch 39/100\n",
      "282/282 [==============================] - 0s 860us/step - loss: 0.4663 - mse: 0.4663 - val_loss: 0.4632 - val_mse: 0.4632\n",
      "Epoch 40/100\n",
      "282/282 [==============================] - 0s 847us/step - loss: 0.4943 - mse: 0.4943 - val_loss: 0.6604 - val_mse: 0.6604\n",
      "Epoch 41/100\n",
      "282/282 [==============================] - 0s 816us/step - loss: 0.4663 - mse: 0.4663 - val_loss: 0.5797 - val_mse: 0.5797\n",
      "Epoch 42/100\n",
      "282/282 [==============================] - 0s 865us/step - loss: 0.4438 - mse: 0.4438 - val_loss: 0.5769 - val_mse: 0.5769\n",
      "Epoch 43/100\n",
      "282/282 [==============================] - 0s 800us/step - loss: 0.4675 - mse: 0.4675 - val_loss: 1.1432 - val_mse: 1.1432\n",
      "Epoch 44/100\n",
      "282/282 [==============================] - 0s 839us/step - loss: 0.4362 - mse: 0.4362 - val_loss: 0.3655 - val_mse: 0.3655\n",
      "Epoch 45/100\n",
      "282/282 [==============================] - 0s 802us/step - loss: 0.4436 - mse: 0.4436 - val_loss: 0.4028 - val_mse: 0.4028\n",
      "Epoch 46/100\n",
      "282/282 [==============================] - 0s 908us/step - loss: 0.4604 - mse: 0.4604 - val_loss: 0.4556 - val_mse: 0.4556\n",
      "Epoch 47/100\n",
      "282/282 [==============================] - 0s 828us/step - loss: 0.4788 - mse: 0.4788 - val_loss: 0.6172 - val_mse: 0.6172\n",
      "Epoch 48/100\n",
      "282/282 [==============================] - 0s 852us/step - loss: 0.4425 - mse: 0.4425 - val_loss: 0.3749 - val_mse: 0.3749\n",
      "Epoch 49/100\n",
      "282/282 [==============================] - 0s 842us/step - loss: 0.4063 - mse: 0.4063 - val_loss: 0.4961 - val_mse: 0.4961\n",
      "Epoch 50/100\n",
      "282/282 [==============================] - 0s 888us/step - loss: 0.4420 - mse: 0.4420 - val_loss: 0.4000 - val_mse: 0.4000\n",
      "Epoch 51/100\n",
      "282/282 [==============================] - 0s 857us/step - loss: 0.4405 - mse: 0.4405 - val_loss: 0.7652 - val_mse: 0.7652\n",
      "Epoch 52/100\n",
      "282/282 [==============================] - 0s 847us/step - loss: 0.4331 - mse: 0.4331 - val_loss: 0.5307 - val_mse: 0.5307\n",
      "Epoch 53/100\n",
      "282/282 [==============================] - 0s 874us/step - loss: 0.3753 - mse: 0.3753 - val_loss: 0.3564 - val_mse: 0.3564\n",
      "Epoch 54/100\n",
      "282/282 [==============================] - 0s 802us/step - loss: 0.3829 - mse: 0.3829 - val_loss: 0.3112 - val_mse: 0.3112\n",
      "Epoch 55/100\n",
      "282/282 [==============================] - 0s 870us/step - loss: 0.3755 - mse: 0.3755 - val_loss: 0.3932 - val_mse: 0.3932\n",
      "Epoch 56/100\n",
      "282/282 [==============================] - 0s 844us/step - loss: 0.3884 - mse: 0.3884 - val_loss: 0.3852 - val_mse: 0.3852\n",
      "Epoch 57/100\n",
      "282/282 [==============================] - 0s 870us/step - loss: 0.4345 - mse: 0.4345 - val_loss: 0.6496 - val_mse: 0.6496\n",
      "Epoch 58/100\n",
      "282/282 [==============================] - 0s 879us/step - loss: 0.3966 - mse: 0.3966 - val_loss: 0.3709 - val_mse: 0.3709\n",
      "Epoch 59/100\n",
      "282/282 [==============================] - 0s 851us/step - loss: 0.3826 - mse: 0.3826 - val_loss: 0.4571 - val_mse: 0.4571\n",
      "Epoch 60/100\n",
      "282/282 [==============================] - 0s 863us/step - loss: 0.3779 - mse: 0.3779 - val_loss: 0.3851 - val_mse: 0.3851\n",
      "Epoch 61/100\n",
      "282/282 [==============================] - 0s 807us/step - loss: 0.3697 - mse: 0.3697 - val_loss: 0.3527 - val_mse: 0.3527\n",
      "Epoch 62/100\n",
      "282/282 [==============================] - 0s 840us/step - loss: 0.3810 - mse: 0.3810 - val_loss: 0.3811 - val_mse: 0.3811\n",
      "Epoch 63/100\n",
      "282/282 [==============================] - 0s 858us/step - loss: 0.3633 - mse: 0.3633 - val_loss: 0.5377 - val_mse: 0.5377\n",
      "Epoch 64/100\n",
      "282/282 [==============================] - 0s 884us/step - loss: 0.3659 - mse: 0.3659 - val_loss: 0.5359 - val_mse: 0.5359\n",
      "Epoch 65/100\n",
      "282/282 [==============================] - 0s 864us/step - loss: 0.4023 - mse: 0.4023 - val_loss: 0.4610 - val_mse: 0.4610\n",
      "Epoch 66/100\n",
      "282/282 [==============================] - 0s 1ms/step - loss: 0.4173 - mse: 0.4173 - val_loss: 0.3909 - val_mse: 0.3909\n",
      "Epoch 67/100\n",
      "282/282 [==============================] - 0s 884us/step - loss: 0.3698 - mse: 0.3698 - val_loss: 0.3463 - val_mse: 0.3463\n",
      "Epoch 68/100\n",
      "282/282 [==============================] - 0s 845us/step - loss: 0.4448 - mse: 0.4448 - val_loss: 0.5083 - val_mse: 0.5083\n",
      "Epoch 69/100\n",
      "282/282 [==============================] - 0s 864us/step - loss: 0.3513 - mse: 0.3513 - val_loss: 0.3578 - val_mse: 0.3578\n",
      "Epoch 70/100\n",
      "282/282 [==============================] - 0s 810us/step - loss: 0.3486 - mse: 0.3486 - val_loss: 0.3840 - val_mse: 0.3840\n",
      "Epoch 71/100\n",
      "282/282 [==============================] - 0s 923us/step - loss: 0.3360 - mse: 0.3360 - val_loss: 0.2846 - val_mse: 0.2846\n",
      "Epoch 72/100\n",
      "282/282 [==============================] - 0s 924us/step - loss: 0.3807 - mse: 0.3807 - val_loss: 0.4121 - val_mse: 0.4121\n",
      "Epoch 73/100\n",
      "282/282 [==============================] - 0s 798us/step - loss: 0.3551 - mse: 0.3551 - val_loss: 0.4642 - val_mse: 0.4642\n",
      "Epoch 74/100\n",
      "282/282 [==============================] - 0s 844us/step - loss: 0.3341 - mse: 0.3341 - val_loss: 0.3741 - val_mse: 0.3741\n",
      "Epoch 75/100\n",
      "282/282 [==============================] - 0s 950us/step - loss: 0.3973 - mse: 0.3973 - val_loss: 0.9269 - val_mse: 0.9269\n",
      "Epoch 76/100\n",
      "282/282 [==============================] - 0s 815us/step - loss: 0.3591 - mse: 0.3591 - val_loss: 0.3450 - val_mse: 0.3450\n",
      "Epoch 77/100\n",
      "282/282 [==============================] - 0s 880us/step - loss: 0.3193 - mse: 0.3193 - val_loss: 0.5432 - val_mse: 0.5432\n",
      "Epoch 78/100\n",
      "282/282 [==============================] - 0s 841us/step - loss: 0.3839 - mse: 0.3839 - val_loss: 0.3249 - val_mse: 0.3249\n",
      "Epoch 79/100\n",
      "282/282 [==============================] - 0s 871us/step - loss: 0.3159 - mse: 0.3159 - val_loss: 0.2941 - val_mse: 0.2941\n",
      "Epoch 80/100\n",
      "282/282 [==============================] - 0s 835us/step - loss: 0.3175 - mse: 0.3175 - val_loss: 0.3405 - val_mse: 0.3405\n",
      "Epoch 81/100\n",
      "282/282 [==============================] - 0s 860us/step - loss: 0.3188 - mse: 0.3188 - val_loss: 0.2996 - val_mse: 0.2996\n",
      "Epoch 82/100\n",
      "282/282 [==============================] - 0s 806us/step - loss: 0.3165 - mse: 0.3165 - val_loss: 0.5989 - val_mse: 0.5989\n",
      "Epoch 83/100\n",
      "282/282 [==============================] - 0s 828us/step - loss: 0.3303 - mse: 0.3303 - val_loss: 0.3574 - val_mse: 0.3574\n",
      "Epoch 84/100\n",
      "282/282 [==============================] - 0s 821us/step - loss: 0.3416 - mse: 0.3416 - val_loss: 0.2894 - val_mse: 0.2894\n",
      "Epoch 85/100\n",
      "282/282 [==============================] - 0s 867us/step - loss: 0.3283 - mse: 0.3283 - val_loss: 0.4946 - val_mse: 0.4946\n",
      "Epoch 86/100\n",
      "282/282 [==============================] - 0s 809us/step - loss: 0.3250 - mse: 0.3250 - val_loss: 0.4008 - val_mse: 0.4008\n",
      "Epoch 87/100\n",
      "282/282 [==============================] - 0s 855us/step - loss: 0.3322 - mse: 0.3322 - val_loss: 0.2936 - val_mse: 0.2936\n",
      "Epoch 88/100\n",
      "282/282 [==============================] - 0s 827us/step - loss: 0.3257 - mse: 0.3257 - val_loss: 0.2864 - val_mse: 0.2864\n",
      "Epoch 89/100\n",
      "282/282 [==============================] - 0s 847us/step - loss: 0.3089 - mse: 0.3089 - val_loss: 0.4416 - val_mse: 0.4416\n",
      "Epoch 90/100\n",
      "282/282 [==============================] - 0s 831us/step - loss: 0.3180 - mse: 0.3180 - val_loss: 0.2935 - val_mse: 0.2935\n",
      "Epoch 91/100\n",
      "282/282 [==============================] - 0s 887us/step - loss: 0.3141 - mse: 0.3141 - val_loss: 0.3061 - val_mse: 0.3061\n",
      "Epoch 92/100\n",
      "282/282 [==============================] - 0s 919us/step - loss: 0.3015 - mse: 0.3015 - val_loss: 0.4220 - val_mse: 0.4220\n",
      "Epoch 93/100\n",
      "282/282 [==============================] - 0s 842us/step - loss: 0.3164 - mse: 0.3164 - val_loss: 0.4593 - val_mse: 0.4593\n",
      "Epoch 94/100\n",
      "282/282 [==============================] - 0s 800us/step - loss: 0.3176 - mse: 0.3176 - val_loss: 0.3084 - val_mse: 0.3084\n",
      "Epoch 95/100\n",
      "282/282 [==============================] - 0s 867us/step - loss: 0.3094 - mse: 0.3094 - val_loss: 0.6509 - val_mse: 0.6509\n",
      "Epoch 96/100\n",
      "282/282 [==============================] - 0s 858us/step - loss: 0.3138 - mse: 0.3138 - val_loss: 0.2923 - val_mse: 0.2923\n",
      "Epoch 97/100\n",
      "282/282 [==============================] - 0s 862us/step - loss: 0.3034 - mse: 0.3034 - val_loss: 0.3172 - val_mse: 0.3172\n",
      "Epoch 98/100\n",
      "282/282 [==============================] - 0s 831us/step - loss: 0.3092 - mse: 0.3092 - val_loss: 0.2995 - val_mse: 0.2995\n",
      "Epoch 99/100\n",
      "282/282 [==============================] - 0s 796us/step - loss: 0.2814 - mse: 0.2814 - val_loss: 0.2709 - val_mse: 0.2709\n",
      "Epoch 100/100\n",
      "282/282 [==============================] - 0s 871us/step - loss: 0.2860 - mse: 0.2860 - val_loss: 0.3249 - val_mse: 0.3249\n"
     ]
    },
    {
     "output_type": "execute_result",
     "data": {
      "text/plain": [
       "<tensorflow.python.keras.callbacks.History at 0x7f5778d36370>"
      ]
     },
     "metadata": {},
     "execution_count": 59
    }
   ],
   "source": [
    "model.fit(X_train.T, y_train.T, epochs=100, batch_size=64, validation_data=(X_val.T, y_val.T), verbose=1)"
   ]
  },
  {
   "cell_type": "code",
   "execution_count": 62,
   "metadata": {},
   "outputs": [],
   "source": [
    "y_pred = model.predict(X.T)"
   ]
  },
  {
   "cell_type": "code",
   "execution_count": 65,
   "metadata": {},
   "outputs": [],
   "source": [
    "errors = np.abs(y_pred.T - y)"
   ]
  },
  {
   "cell_type": "code",
   "execution_count": 67,
   "metadata": {},
   "outputs": [],
   "source": [
    "import matplotlib.pyplot as plt"
   ]
  },
  {
   "cell_type": "code",
   "execution_count": 69,
   "metadata": {},
   "outputs": [
    {
     "output_type": "execute_result",
     "data": {
      "text/plain": [
       "(array([9.747e+03, 6.608e+03, 2.732e+03, 7.210e+02, 1.450e+02, 3.500e+01,\n",
       "        6.000e+00, 3.000e+00, 0.000e+00, 3.000e+00]),\n",
       " array([1.38240914e-06, 1.86461868e-01, 3.72922353e-01, 5.59382838e-01,\n",
       "        7.45843324e-01, 9.32303809e-01, 1.11876429e+00, 1.30522478e+00,\n",
       "        1.49168526e+00, 1.67814575e+00, 1.86460624e+00]),\n",
       " <BarContainer object of 10 artists>)"
      ]
     },
     "metadata": {},
     "execution_count": 69
    },
    {
     "output_type": "display_data",
     "data": {
      "text/plain": "<Figure size 432x288 with 1 Axes>",
      "image/svg+xml": "<?xml version=\"1.0\" encoding=\"utf-8\" standalone=\"no\"?>\n<!DOCTYPE svg PUBLIC \"-//W3C//DTD SVG 1.1//EN\"\n  \"http://www.w3.org/Graphics/SVG/1.1/DTD/svg11.dtd\">\n<svg height=\"248.518125pt\" version=\"1.1\" viewBox=\"0 0 388.0125 248.518125\" width=\"388.0125pt\" xmlns=\"http://www.w3.org/2000/svg\" xmlns:xlink=\"http://www.w3.org/1999/xlink\">\n <metadata>\n  <rdf:RDF xmlns:cc=\"http://creativecommons.org/ns#\" xmlns:dc=\"http://purl.org/dc/elements/1.1/\" xmlns:rdf=\"http://www.w3.org/1999/02/22-rdf-syntax-ns#\">\n   <cc:Work>\n    <dc:type rdf:resource=\"http://purl.org/dc/dcmitype/StillImage\"/>\n    <dc:date>2021-06-24T17:48:09.062357</dc:date>\n    <dc:format>image/svg+xml</dc:format>\n    <dc:creator>\n     <cc:Agent>\n      <dc:title>Matplotlib v3.4.2, https://matplotlib.org/</dc:title>\n     </cc:Agent>\n    </dc:creator>\n   </cc:Work>\n  </rdf:RDF>\n </metadata>\n <defs>\n  <style type=\"text/css\">*{stroke-linecap:butt;stroke-linejoin:round;}</style>\n </defs>\n <g id=\"figure_1\">\n  <g id=\"patch_1\">\n   <path d=\"M 0 248.518125 \nL 388.0125 248.518125 \nL 388.0125 0 \nL 0 0 \nz\n\" style=\"fill:none;\"/>\n  </g>\n  <g id=\"axes_1\">\n   <g id=\"patch_2\">\n    <path d=\"M 46.0125 224.64 \nL 380.8125 224.64 \nL 380.8125 7.2 \nL 46.0125 7.2 \nz\n\" style=\"fill:#ffffff;\"/>\n   </g>\n   <g id=\"patch_3\">\n    <path clip-path=\"url(#p112f183bc3)\" d=\"M 61.230682 224.64 \nL 91.667045 224.64 \nL 91.667045 17.554286 \nL 61.230682 17.554286 \nz\n\" style=\"fill:#1f77b4;\"/>\n   </g>\n   <g id=\"patch_4\">\n    <path clip-path=\"url(#p112f183bc3)\" d=\"M 91.667045 224.64 \nL 122.103409 224.64 \nL 122.103409 84.245786 \nL 91.667045 84.245786 \nz\n\" style=\"fill:#1f77b4;\"/>\n   </g>\n   <g id=\"patch_5\">\n    <path clip-path=\"url(#p112f183bc3)\" d=\"M 122.103409 224.64 \nL 152.539773 224.64 \nL 152.539773 166.595661 \nL 122.103409 166.595661 \nz\n\" style=\"fill:#1f77b4;\"/>\n   </g>\n   <g id=\"patch_6\">\n    <path clip-path=\"url(#p112f183bc3)\" d=\"M 152.539773 224.64 \nL 182.976136 224.64 \nL 182.976136 209.321564 \nL 152.539773 209.321564 \nz\n\" style=\"fill:#1f77b4;\"/>\n   </g>\n   <g id=\"patch_7\">\n    <path clip-path=\"url(#p112f183bc3)\" d=\"M 182.976136 224.64 \nL 213.4125 224.64 \nL 213.4125 221.559316 \nL 182.976136 221.559316 \nz\n\" style=\"fill:#1f77b4;\"/>\n   </g>\n   <g id=\"patch_8\">\n    <path clip-path=\"url(#p112f183bc3)\" d=\"M 213.4125 224.64 \nL 243.848864 224.64 \nL 243.848864 223.896387 \nL 213.4125 223.896387 \nz\n\" style=\"fill:#1f77b4;\"/>\n   </g>\n   <g id=\"patch_9\">\n    <path clip-path=\"url(#p112f183bc3)\" d=\"M 243.848864 224.64 \nL 274.285227 224.64 \nL 274.285227 224.512523 \nL 243.848864 224.512523 \nz\n\" style=\"fill:#1f77b4;\"/>\n   </g>\n   <g id=\"patch_10\">\n    <path clip-path=\"url(#p112f183bc3)\" d=\"M 274.285227 224.64 \nL 304.721591 224.64 \nL 304.721591 224.576262 \nL 274.285227 224.576262 \nz\n\" style=\"fill:#1f77b4;\"/>\n   </g>\n   <g id=\"patch_11\">\n    <path clip-path=\"url(#p112f183bc3)\" d=\"M 304.721591 224.64 \nL 335.157955 224.64 \nL 335.157955 224.64 \nL 304.721591 224.64 \nz\n\" style=\"fill:#1f77b4;\"/>\n   </g>\n   <g id=\"patch_12\">\n    <path clip-path=\"url(#p112f183bc3)\" d=\"M 335.157955 224.64 \nL 365.594318 224.64 \nL 365.594318 224.576262 \nL 335.157955 224.576262 \nz\n\" style=\"fill:#1f77b4;\"/>\n   </g>\n   <g id=\"matplotlib.axis_1\">\n    <g id=\"xtick_1\">\n     <g id=\"line2d_1\">\n      <defs>\n       <path d=\"M 0 0 \nL 0 3.5 \n\" id=\"m8370312d5a\" style=\"stroke:#000000;stroke-width:0.8;\"/>\n      </defs>\n      <g>\n       <use style=\"stroke:#000000;stroke-width:0.8;\" x=\"61.230456\" xlink:href=\"#m8370312d5a\" y=\"224.64\"/>\n      </g>\n     </g>\n     <g id=\"text_1\">\n      <!-- 0.00 -->\n      <g transform=\"translate(50.097644 239.238437)scale(0.1 -0.1)\">\n       <defs>\n        <path d=\"M 2034 4250 \nQ 1547 4250 1301 3770 \nQ 1056 3291 1056 2328 \nQ 1056 1369 1301 889 \nQ 1547 409 2034 409 \nQ 2525 409 2770 889 \nQ 3016 1369 3016 2328 \nQ 3016 3291 2770 3770 \nQ 2525 4250 2034 4250 \nz\nM 2034 4750 \nQ 2819 4750 3233 4129 \nQ 3647 3509 3647 2328 \nQ 3647 1150 3233 529 \nQ 2819 -91 2034 -91 \nQ 1250 -91 836 529 \nQ 422 1150 422 2328 \nQ 422 3509 836 4129 \nQ 1250 4750 2034 4750 \nz\n\" id=\"DejaVuSans-30\" transform=\"scale(0.015625)\"/>\n        <path d=\"M 684 794 \nL 1344 794 \nL 1344 0 \nL 684 0 \nL 684 794 \nz\n\" id=\"DejaVuSans-2e\" transform=\"scale(0.015625)\"/>\n       </defs>\n       <use xlink:href=\"#DejaVuSans-30\"/>\n       <use x=\"63.623047\" xlink:href=\"#DejaVuSans-2e\"/>\n       <use x=\"95.410156\" xlink:href=\"#DejaVuSans-30\"/>\n       <use x=\"159.033203\" xlink:href=\"#DejaVuSans-30\"/>\n      </g>\n     </g>\n    </g>\n    <g id=\"xtick_2\">\n     <g id=\"line2d_2\">\n      <g>\n       <use style=\"stroke:#000000;stroke-width:0.8;\" x=\"102.038517\" xlink:href=\"#m8370312d5a\" y=\"224.64\"/>\n      </g>\n     </g>\n     <g id=\"text_2\">\n      <!-- 0.25 -->\n      <g transform=\"translate(90.905705 239.238437)scale(0.1 -0.1)\">\n       <defs>\n        <path d=\"M 1228 531 \nL 3431 531 \nL 3431 0 \nL 469 0 \nL 469 531 \nQ 828 903 1448 1529 \nQ 2069 2156 2228 2338 \nQ 2531 2678 2651 2914 \nQ 2772 3150 2772 3378 \nQ 2772 3750 2511 3984 \nQ 2250 4219 1831 4219 \nQ 1534 4219 1204 4116 \nQ 875 4013 500 3803 \nL 500 4441 \nQ 881 4594 1212 4672 \nQ 1544 4750 1819 4750 \nQ 2544 4750 2975 4387 \nQ 3406 4025 3406 3419 \nQ 3406 3131 3298 2873 \nQ 3191 2616 2906 2266 \nQ 2828 2175 2409 1742 \nQ 1991 1309 1228 531 \nz\n\" id=\"DejaVuSans-32\" transform=\"scale(0.015625)\"/>\n        <path d=\"M 691 4666 \nL 3169 4666 \nL 3169 4134 \nL 1269 4134 \nL 1269 2991 \nQ 1406 3038 1543 3061 \nQ 1681 3084 1819 3084 \nQ 2600 3084 3056 2656 \nQ 3513 2228 3513 1497 \nQ 3513 744 3044 326 \nQ 2575 -91 1722 -91 \nQ 1428 -91 1123 -41 \nQ 819 9 494 109 \nL 494 744 \nQ 775 591 1075 516 \nQ 1375 441 1709 441 \nQ 2250 441 2565 725 \nQ 2881 1009 2881 1497 \nQ 2881 1984 2565 2268 \nQ 2250 2553 1709 2553 \nQ 1456 2553 1204 2497 \nQ 953 2441 691 2322 \nL 691 4666 \nz\n\" id=\"DejaVuSans-35\" transform=\"scale(0.015625)\"/>\n       </defs>\n       <use xlink:href=\"#DejaVuSans-30\"/>\n       <use x=\"63.623047\" xlink:href=\"#DejaVuSans-2e\"/>\n       <use x=\"95.410156\" xlink:href=\"#DejaVuSans-32\"/>\n       <use x=\"159.033203\" xlink:href=\"#DejaVuSans-35\"/>\n      </g>\n     </g>\n    </g>\n    <g id=\"xtick_3\">\n     <g id=\"line2d_3\">\n      <g>\n       <use style=\"stroke:#000000;stroke-width:0.8;\" x=\"142.846579\" xlink:href=\"#m8370312d5a\" y=\"224.64\"/>\n      </g>\n     </g>\n     <g id=\"text_3\">\n      <!-- 0.50 -->\n      <g transform=\"translate(131.713766 239.238437)scale(0.1 -0.1)\">\n       <use xlink:href=\"#DejaVuSans-30\"/>\n       <use x=\"63.623047\" xlink:href=\"#DejaVuSans-2e\"/>\n       <use x=\"95.410156\" xlink:href=\"#DejaVuSans-35\"/>\n       <use x=\"159.033203\" xlink:href=\"#DejaVuSans-30\"/>\n      </g>\n     </g>\n    </g>\n    <g id=\"xtick_4\">\n     <g id=\"line2d_4\">\n      <g>\n       <use style=\"stroke:#000000;stroke-width:0.8;\" x=\"183.65464\" xlink:href=\"#m8370312d5a\" y=\"224.64\"/>\n      </g>\n     </g>\n     <g id=\"text_4\">\n      <!-- 0.75 -->\n      <g transform=\"translate(172.521827 239.238437)scale(0.1 -0.1)\">\n       <defs>\n        <path d=\"M 525 4666 \nL 3525 4666 \nL 3525 4397 \nL 1831 0 \nL 1172 0 \nL 2766 4134 \nL 525 4134 \nL 525 4666 \nz\n\" id=\"DejaVuSans-37\" transform=\"scale(0.015625)\"/>\n       </defs>\n       <use xlink:href=\"#DejaVuSans-30\"/>\n       <use x=\"63.623047\" xlink:href=\"#DejaVuSans-2e\"/>\n       <use x=\"95.410156\" xlink:href=\"#DejaVuSans-37\"/>\n       <use x=\"159.033203\" xlink:href=\"#DejaVuSans-35\"/>\n      </g>\n     </g>\n    </g>\n    <g id=\"xtick_5\">\n     <g id=\"line2d_5\">\n      <g>\n       <use style=\"stroke:#000000;stroke-width:0.8;\" x=\"224.462701\" xlink:href=\"#m8370312d5a\" y=\"224.64\"/>\n      </g>\n     </g>\n     <g id=\"text_5\">\n      <!-- 1.00 -->\n      <g transform=\"translate(213.329889 239.238437)scale(0.1 -0.1)\">\n       <defs>\n        <path d=\"M 794 531 \nL 1825 531 \nL 1825 4091 \nL 703 3866 \nL 703 4441 \nL 1819 4666 \nL 2450 4666 \nL 2450 531 \nL 3481 531 \nL 3481 0 \nL 794 0 \nL 794 531 \nz\n\" id=\"DejaVuSans-31\" transform=\"scale(0.015625)\"/>\n       </defs>\n       <use xlink:href=\"#DejaVuSans-31\"/>\n       <use x=\"63.623047\" xlink:href=\"#DejaVuSans-2e\"/>\n       <use x=\"95.410156\" xlink:href=\"#DejaVuSans-30\"/>\n       <use x=\"159.033203\" xlink:href=\"#DejaVuSans-30\"/>\n      </g>\n     </g>\n    </g>\n    <g id=\"xtick_6\">\n     <g id=\"line2d_6\">\n      <g>\n       <use style=\"stroke:#000000;stroke-width:0.8;\" x=\"265.270763\" xlink:href=\"#m8370312d5a\" y=\"224.64\"/>\n      </g>\n     </g>\n     <g id=\"text_6\">\n      <!-- 1.25 -->\n      <g transform=\"translate(254.13795 239.238437)scale(0.1 -0.1)\">\n       <use xlink:href=\"#DejaVuSans-31\"/>\n       <use x=\"63.623047\" xlink:href=\"#DejaVuSans-2e\"/>\n       <use x=\"95.410156\" xlink:href=\"#DejaVuSans-32\"/>\n       <use x=\"159.033203\" xlink:href=\"#DejaVuSans-35\"/>\n      </g>\n     </g>\n    </g>\n    <g id=\"xtick_7\">\n     <g id=\"line2d_7\">\n      <g>\n       <use style=\"stroke:#000000;stroke-width:0.8;\" x=\"306.078824\" xlink:href=\"#m8370312d5a\" y=\"224.64\"/>\n      </g>\n     </g>\n     <g id=\"text_7\">\n      <!-- 1.50 -->\n      <g transform=\"translate(294.946011 239.238437)scale(0.1 -0.1)\">\n       <use xlink:href=\"#DejaVuSans-31\"/>\n       <use x=\"63.623047\" xlink:href=\"#DejaVuSans-2e\"/>\n       <use x=\"95.410156\" xlink:href=\"#DejaVuSans-35\"/>\n       <use x=\"159.033203\" xlink:href=\"#DejaVuSans-30\"/>\n      </g>\n     </g>\n    </g>\n    <g id=\"xtick_8\">\n     <g id=\"line2d_8\">\n      <g>\n       <use style=\"stroke:#000000;stroke-width:0.8;\" x=\"346.886885\" xlink:href=\"#m8370312d5a\" y=\"224.64\"/>\n      </g>\n     </g>\n     <g id=\"text_8\">\n      <!-- 1.75 -->\n      <g transform=\"translate(335.754073 239.238437)scale(0.1 -0.1)\">\n       <use xlink:href=\"#DejaVuSans-31\"/>\n       <use x=\"63.623047\" xlink:href=\"#DejaVuSans-2e\"/>\n       <use x=\"95.410156\" xlink:href=\"#DejaVuSans-37\"/>\n       <use x=\"159.033203\" xlink:href=\"#DejaVuSans-35\"/>\n      </g>\n     </g>\n    </g>\n   </g>\n   <g id=\"matplotlib.axis_2\">\n    <g id=\"ytick_1\">\n     <g id=\"line2d_9\">\n      <defs>\n       <path d=\"M 0 0 \nL -3.5 0 \n\" id=\"mc078fbe7e2\" style=\"stroke:#000000;stroke-width:0.8;\"/>\n      </defs>\n      <g>\n       <use style=\"stroke:#000000;stroke-width:0.8;\" x=\"46.0125\" xlink:href=\"#mc078fbe7e2\" y=\"224.64\"/>\n      </g>\n     </g>\n     <g id=\"text_9\">\n      <!-- 0 -->\n      <g transform=\"translate(32.65 228.439219)scale(0.1 -0.1)\">\n       <use xlink:href=\"#DejaVuSans-30\"/>\n      </g>\n     </g>\n    </g>\n    <g id=\"ytick_2\">\n     <g id=\"line2d_10\">\n      <g>\n       <use style=\"stroke:#000000;stroke-width:0.8;\" x=\"46.0125\" xlink:href=\"#mc078fbe7e2\" y=\"182.147805\"/>\n      </g>\n     </g>\n     <g id=\"text_10\">\n      <!-- 2000 -->\n      <g transform=\"translate(13.5625 185.947023)scale(0.1 -0.1)\">\n       <use xlink:href=\"#DejaVuSans-32\"/>\n       <use x=\"63.623047\" xlink:href=\"#DejaVuSans-30\"/>\n       <use x=\"127.246094\" xlink:href=\"#DejaVuSans-30\"/>\n       <use x=\"190.869141\" xlink:href=\"#DejaVuSans-30\"/>\n      </g>\n     </g>\n    </g>\n    <g id=\"ytick_3\">\n     <g id=\"line2d_11\">\n      <g>\n       <use style=\"stroke:#000000;stroke-width:0.8;\" x=\"46.0125\" xlink:href=\"#mc078fbe7e2\" y=\"139.655609\"/>\n      </g>\n     </g>\n     <g id=\"text_11\">\n      <!-- 4000 -->\n      <g transform=\"translate(13.5625 143.454828)scale(0.1 -0.1)\">\n       <defs>\n        <path d=\"M 2419 4116 \nL 825 1625 \nL 2419 1625 \nL 2419 4116 \nz\nM 2253 4666 \nL 3047 4666 \nL 3047 1625 \nL 3713 1625 \nL 3713 1100 \nL 3047 1100 \nL 3047 0 \nL 2419 0 \nL 2419 1100 \nL 313 1100 \nL 313 1709 \nL 2253 4666 \nz\n\" id=\"DejaVuSans-34\" transform=\"scale(0.015625)\"/>\n       </defs>\n       <use xlink:href=\"#DejaVuSans-34\"/>\n       <use x=\"63.623047\" xlink:href=\"#DejaVuSans-30\"/>\n       <use x=\"127.246094\" xlink:href=\"#DejaVuSans-30\"/>\n       <use x=\"190.869141\" xlink:href=\"#DejaVuSans-30\"/>\n      </g>\n     </g>\n    </g>\n    <g id=\"ytick_4\">\n     <g id=\"line2d_12\">\n      <g>\n       <use style=\"stroke:#000000;stroke-width:0.8;\" x=\"46.0125\" xlink:href=\"#mc078fbe7e2\" y=\"97.163414\"/>\n      </g>\n     </g>\n     <g id=\"text_12\">\n      <!-- 6000 -->\n      <g transform=\"translate(13.5625 100.962633)scale(0.1 -0.1)\">\n       <defs>\n        <path d=\"M 2113 2584 \nQ 1688 2584 1439 2293 \nQ 1191 2003 1191 1497 \nQ 1191 994 1439 701 \nQ 1688 409 2113 409 \nQ 2538 409 2786 701 \nQ 3034 994 3034 1497 \nQ 3034 2003 2786 2293 \nQ 2538 2584 2113 2584 \nz\nM 3366 4563 \nL 3366 3988 \nQ 3128 4100 2886 4159 \nQ 2644 4219 2406 4219 \nQ 1781 4219 1451 3797 \nQ 1122 3375 1075 2522 \nQ 1259 2794 1537 2939 \nQ 1816 3084 2150 3084 \nQ 2853 3084 3261 2657 \nQ 3669 2231 3669 1497 \nQ 3669 778 3244 343 \nQ 2819 -91 2113 -91 \nQ 1303 -91 875 529 \nQ 447 1150 447 2328 \nQ 447 3434 972 4092 \nQ 1497 4750 2381 4750 \nQ 2619 4750 2861 4703 \nQ 3103 4656 3366 4563 \nz\n\" id=\"DejaVuSans-36\" transform=\"scale(0.015625)\"/>\n       </defs>\n       <use xlink:href=\"#DejaVuSans-36\"/>\n       <use x=\"63.623047\" xlink:href=\"#DejaVuSans-30\"/>\n       <use x=\"127.246094\" xlink:href=\"#DejaVuSans-30\"/>\n       <use x=\"190.869141\" xlink:href=\"#DejaVuSans-30\"/>\n      </g>\n     </g>\n    </g>\n    <g id=\"ytick_5\">\n     <g id=\"line2d_13\">\n      <g>\n       <use style=\"stroke:#000000;stroke-width:0.8;\" x=\"46.0125\" xlink:href=\"#mc078fbe7e2\" y=\"54.671218\"/>\n      </g>\n     </g>\n     <g id=\"text_13\">\n      <!-- 8000 -->\n      <g transform=\"translate(13.5625 58.470437)scale(0.1 -0.1)\">\n       <defs>\n        <path d=\"M 2034 2216 \nQ 1584 2216 1326 1975 \nQ 1069 1734 1069 1313 \nQ 1069 891 1326 650 \nQ 1584 409 2034 409 \nQ 2484 409 2743 651 \nQ 3003 894 3003 1313 \nQ 3003 1734 2745 1975 \nQ 2488 2216 2034 2216 \nz\nM 1403 2484 \nQ 997 2584 770 2862 \nQ 544 3141 544 3541 \nQ 544 4100 942 4425 \nQ 1341 4750 2034 4750 \nQ 2731 4750 3128 4425 \nQ 3525 4100 3525 3541 \nQ 3525 3141 3298 2862 \nQ 3072 2584 2669 2484 \nQ 3125 2378 3379 2068 \nQ 3634 1759 3634 1313 \nQ 3634 634 3220 271 \nQ 2806 -91 2034 -91 \nQ 1263 -91 848 271 \nQ 434 634 434 1313 \nQ 434 1759 690 2068 \nQ 947 2378 1403 2484 \nz\nM 1172 3481 \nQ 1172 3119 1398 2916 \nQ 1625 2713 2034 2713 \nQ 2441 2713 2670 2916 \nQ 2900 3119 2900 3481 \nQ 2900 3844 2670 4047 \nQ 2441 4250 2034 4250 \nQ 1625 4250 1398 4047 \nQ 1172 3844 1172 3481 \nz\n\" id=\"DejaVuSans-38\" transform=\"scale(0.015625)\"/>\n       </defs>\n       <use xlink:href=\"#DejaVuSans-38\"/>\n       <use x=\"63.623047\" xlink:href=\"#DejaVuSans-30\"/>\n       <use x=\"127.246094\" xlink:href=\"#DejaVuSans-30\"/>\n       <use x=\"190.869141\" xlink:href=\"#DejaVuSans-30\"/>\n      </g>\n     </g>\n    </g>\n    <g id=\"ytick_6\">\n     <g id=\"line2d_14\">\n      <g>\n       <use style=\"stroke:#000000;stroke-width:0.8;\" x=\"46.0125\" xlink:href=\"#mc078fbe7e2\" y=\"12.179023\"/>\n      </g>\n     </g>\n     <g id=\"text_14\">\n      <!-- 10000 -->\n      <g transform=\"translate(7.2 15.978242)scale(0.1 -0.1)\">\n       <use xlink:href=\"#DejaVuSans-31\"/>\n       <use x=\"63.623047\" xlink:href=\"#DejaVuSans-30\"/>\n       <use x=\"127.246094\" xlink:href=\"#DejaVuSans-30\"/>\n       <use x=\"190.869141\" xlink:href=\"#DejaVuSans-30\"/>\n       <use x=\"254.492188\" xlink:href=\"#DejaVuSans-30\"/>\n      </g>\n     </g>\n    </g>\n   </g>\n   <g id=\"patch_13\">\n    <path d=\"M 46.0125 224.64 \nL 46.0125 7.2 \n\" style=\"fill:none;stroke:#000000;stroke-linecap:square;stroke-linejoin:miter;stroke-width:0.8;\"/>\n   </g>\n   <g id=\"patch_14\">\n    <path d=\"M 380.8125 224.64 \nL 380.8125 7.2 \n\" style=\"fill:none;stroke:#000000;stroke-linecap:square;stroke-linejoin:miter;stroke-width:0.8;\"/>\n   </g>\n   <g id=\"patch_15\">\n    <path d=\"M 46.0125 224.64 \nL 380.8125 224.64 \n\" style=\"fill:none;stroke:#000000;stroke-linecap:square;stroke-linejoin:miter;stroke-width:0.8;\"/>\n   </g>\n   <g id=\"patch_16\">\n    <path d=\"M 46.0125 7.2 \nL 380.8125 7.2 \n\" style=\"fill:none;stroke:#000000;stroke-linecap:square;stroke-linejoin:miter;stroke-width:0.8;\"/>\n   </g>\n  </g>\n </g>\n <defs>\n  <clipPath id=\"p112f183bc3\">\n   <rect height=\"217.44\" width=\"334.8\" x=\"46.0125\" y=\"7.2\"/>\n  </clipPath>\n </defs>\n</svg>\n",
      "image/png": "[encoded data removed]"
     },
     "metadata": {
      "needs_background": "light"
     }
    }
   ],
   "source": [
    "plt.hist(errors[0, :])"
   ]
  },
  {
   "cell_type": "code",
   "execution_count": 70,
   "metadata": {},
   "outputs": [
    {
     "output_type": "execute_result",
     "data": {
      "text/plain": [
       "(array([1.6595e+04, 3.1800e+03, 2.1300e+02, 6.0000e+00, 0.0000e+00,\n",
       "        3.0000e+00, 1.0000e+00, 0.0000e+00, 1.0000e+00, 1.0000e+00]),\n",
       " array([7.05861370e-06, 9.46175403e-01, 1.89234375e+00, 2.83851209e+00,\n",
       "        3.78468044e+00, 4.73084878e+00, 5.67701713e+00, 6.62318547e+00,\n",
       "        7.56935381e+00, 8.51552216e+00, 9.46169050e+00]),\n",
       " <BarContainer object of 10 artists>)"
      ]
     },
     "metadata": {},
     "execution_count": 70
    },
    {
     "output_type": "display_data",
     "data": {
      "text/plain": "<Figure size 432x288 with 1 Axes>",
      "image/svg+xml": "<?xml version=\"1.0\" encoding=\"utf-8\" standalone=\"no\"?>\n<!DOCTYPE svg PUBLIC \"-//W3C//DTD SVG 1.1//EN\"\n  \"http://www.w3.org/Graphics/SVG/1.1/DTD/svg11.dtd\">\n<svg height=\"248.518125pt\" version=\"1.1\" viewBox=\"0 0 388.0125 248.518125\" width=\"388.0125pt\" xmlns=\"http://www.w3.org/2000/svg\" xmlns:xlink=\"http://www.w3.org/1999/xlink\">\n <metadata>\n  <rdf:RDF xmlns:cc=\"http://creativecommons.org/ns#\" xmlns:dc=\"http://purl.org/dc/elements/1.1/\" xmlns:rdf=\"http://www.w3.org/1999/02/22-rdf-syntax-ns#\">\n   <cc:Work>\n    <dc:type rdf:resource=\"http://purl.org/dc/dcmitype/StillImage\"/>\n    <dc:date>2021-06-24T17:48:25.665678</dc:date>\n    <dc:format>image/svg+xml</dc:format>\n    <dc:creator>\n     <cc:Agent>\n      <dc:title>Matplotlib v3.4.2, https://matplotlib.org/</dc:title>\n     </cc:Agent>\n    </dc:creator>\n   </cc:Work>\n  </rdf:RDF>\n </metadata>\n <defs>\n  <style type=\"text/css\">*{stroke-linecap:butt;stroke-linejoin:round;}</style>\n </defs>\n <g id=\"figure_1\">\n  <g id=\"patch_1\">\n   <path d=\"M 0 248.518125 \nL 388.0125 248.518125 \nL 388.0125 0 \nL 0 0 \nz\n\" style=\"fill:none;\"/>\n  </g>\n  <g id=\"axes_1\">\n   <g id=\"patch_2\">\n    <path d=\"M 46.0125 224.64 \nL 380.8125 224.64 \nL 380.8125 7.2 \nL 46.0125 7.2 \nz\n\" style=\"fill:#ffffff;\"/>\n   </g>\n   <g id=\"patch_3\">\n    <path clip-path=\"url(#p970d385046)\" d=\"M 61.230682 224.64 \nL 91.667045 224.64 \nL 91.667045 17.554286 \nL 61.230682 17.554286 \nz\n\" style=\"fill:#1f77b4;\"/>\n   </g>\n   <g id=\"patch_4\">\n    <path clip-path=\"url(#p970d385046)\" d=\"M 91.667045 224.64 \nL 122.103409 224.64 \nL 122.103409 184.957411 \nL 91.667045 184.957411 \nz\n\" style=\"fill:#1f77b4;\"/>\n   </g>\n   <g id=\"patch_5\">\n    <path clip-path=\"url(#p970d385046)\" d=\"M 122.103409 224.64 \nL 152.539773 224.64 \nL 152.539773 221.982015 \nL 122.103409 221.982015 \nz\n\" style=\"fill:#1f77b4;\"/>\n   </g>\n   <g id=\"patch_6\">\n    <path clip-path=\"url(#p970d385046)\" d=\"M 152.539773 224.64 \nL 182.976136 224.64 \nL 182.976136 224.565127 \nL 152.539773 224.565127 \nz\n\" style=\"fill:#1f77b4;\"/>\n   </g>\n   <g id=\"patch_7\">\n    <path clip-path=\"url(#p970d385046)\" d=\"M 182.976136 224.64 \nL 213.4125 224.64 \nL 213.4125 224.64 \nL 182.976136 224.64 \nz\n\" style=\"fill:#1f77b4;\"/>\n   </g>\n   <g id=\"patch_8\">\n    <path clip-path=\"url(#p970d385046)\" d=\"M 213.4125 224.64 \nL 243.848864 224.64 \nL 243.848864 224.602564 \nL 213.4125 224.602564 \nz\n\" style=\"fill:#1f77b4;\"/>\n   </g>\n   <g id=\"patch_9\">\n    <path clip-path=\"url(#p970d385046)\" d=\"M 243.848864 224.64 \nL 274.285227 224.64 \nL 274.285227 224.627521 \nL 243.848864 224.627521 \nz\n\" style=\"fill:#1f77b4;\"/>\n   </g>\n   <g id=\"patch_10\">\n    <path clip-path=\"url(#p970d385046)\" d=\"M 274.285227 224.64 \nL 304.721591 224.64 \nL 304.721591 224.64 \nL 274.285227 224.64 \nz\n\" style=\"fill:#1f77b4;\"/>\n   </g>\n   <g id=\"patch_11\">\n    <path clip-path=\"url(#p970d385046)\" d=\"M 304.721591 224.64 \nL 335.157955 224.64 \nL 335.157955 224.627521 \nL 304.721591 224.627521 \nz\n\" style=\"fill:#1f77b4;\"/>\n   </g>\n   <g id=\"patch_12\">\n    <path clip-path=\"url(#p970d385046)\" d=\"M 335.157955 224.64 \nL 365.594318 224.64 \nL 365.594318 224.627521 \nL 335.157955 224.627521 \nz\n\" style=\"fill:#1f77b4;\"/>\n   </g>\n   <g id=\"matplotlib.axis_1\">\n    <g id=\"xtick_1\">\n     <g id=\"line2d_1\">\n      <defs>\n       <path d=\"M 0 0 \nL 0 3.5 \n\" id=\"m5541ceec74\" style=\"stroke:#000000;stroke-width:0.8;\"/>\n      </defs>\n      <g>\n       <use style=\"stroke:#000000;stroke-width:0.8;\" x=\"61.230455\" xlink:href=\"#m5541ceec74\" y=\"224.64\"/>\n      </g>\n     </g>\n     <g id=\"text_1\">\n      <!-- 0 -->\n      <g transform=\"translate(58.049205 239.238437)scale(0.1 -0.1)\">\n       <defs>\n        <path d=\"M 2034 4250 \nQ 1547 4250 1301 3770 \nQ 1056 3291 1056 2328 \nQ 1056 1369 1301 889 \nQ 1547 409 2034 409 \nQ 2525 409 2770 889 \nQ 3016 1369 3016 2328 \nQ 3016 3291 2770 3770 \nQ 2525 4250 2034 4250 \nz\nM 2034 4750 \nQ 2819 4750 3233 4129 \nQ 3647 3509 3647 2328 \nQ 3647 1150 3233 529 \nQ 2819 -91 2034 -91 \nQ 1250 -91 836 529 \nQ 422 1150 422 2328 \nQ 422 3509 836 4129 \nQ 1250 4750 2034 4750 \nz\n\" id=\"DejaVuSans-30\" transform=\"scale(0.015625)\"/>\n       </defs>\n       <use xlink:href=\"#DejaVuSans-30\"/>\n      </g>\n     </g>\n    </g>\n    <g id=\"xtick_2\">\n     <g id=\"line2d_2\">\n      <g>\n       <use style=\"stroke:#000000;stroke-width:0.8;\" x=\"125.566498\" xlink:href=\"#m5541ceec74\" y=\"224.64\"/>\n      </g>\n     </g>\n     <g id=\"text_2\">\n      <!-- 2 -->\n      <g transform=\"translate(122.385248 239.238437)scale(0.1 -0.1)\">\n       <defs>\n        <path d=\"M 1228 531 \nL 3431 531 \nL 3431 0 \nL 469 0 \nL 469 531 \nQ 828 903 1448 1529 \nQ 2069 2156 2228 2338 \nQ 2531 2678 2651 2914 \nQ 2772 3150 2772 3378 \nQ 2772 3750 2511 3984 \nQ 2250 4219 1831 4219 \nQ 1534 4219 1204 4116 \nQ 875 4013 500 3803 \nL 500 4441 \nQ 881 4594 1212 4672 \nQ 1544 4750 1819 4750 \nQ 2544 4750 2975 4387 \nQ 3406 4025 3406 3419 \nQ 3406 3131 3298 2873 \nQ 3191 2616 2906 2266 \nQ 2828 2175 2409 1742 \nQ 1991 1309 1228 531 \nz\n\" id=\"DejaVuSans-32\" transform=\"scale(0.015625)\"/>\n       </defs>\n       <use xlink:href=\"#DejaVuSans-32\"/>\n      </g>\n     </g>\n    </g>\n    <g id=\"xtick_3\">\n     <g id=\"line2d_3\">\n      <g>\n       <use style=\"stroke:#000000;stroke-width:0.8;\" x=\"189.902541\" xlink:href=\"#m5541ceec74\" y=\"224.64\"/>\n      </g>\n     </g>\n     <g id=\"text_3\">\n      <!-- 4 -->\n      <g transform=\"translate(186.721291 239.238437)scale(0.1 -0.1)\">\n       <defs>\n        <path d=\"M 2419 4116 \nL 825 1625 \nL 2419 1625 \nL 2419 4116 \nz\nM 2253 4666 \nL 3047 4666 \nL 3047 1625 \nL 3713 1625 \nL 3713 1100 \nL 3047 1100 \nL 3047 0 \nL 2419 0 \nL 2419 1100 \nL 313 1100 \nL 313 1709 \nL 2253 4666 \nz\n\" id=\"DejaVuSans-34\" transform=\"scale(0.015625)\"/>\n       </defs>\n       <use xlink:href=\"#DejaVuSans-34\"/>\n      </g>\n     </g>\n    </g>\n    <g id=\"xtick_4\">\n     <g id=\"line2d_4\">\n      <g>\n       <use style=\"stroke:#000000;stroke-width:0.8;\" x=\"254.238584\" xlink:href=\"#m5541ceec74\" y=\"224.64\"/>\n      </g>\n     </g>\n     <g id=\"text_4\">\n      <!-- 6 -->\n      <g transform=\"translate(251.057334 239.238437)scale(0.1 -0.1)\">\n       <defs>\n        <path d=\"M 2113 2584 \nQ 1688 2584 1439 2293 \nQ 1191 2003 1191 1497 \nQ 1191 994 1439 701 \nQ 1688 409 2113 409 \nQ 2538 409 2786 701 \nQ 3034 994 3034 1497 \nQ 3034 2003 2786 2293 \nQ 2538 2584 2113 2584 \nz\nM 3366 4563 \nL 3366 3988 \nQ 3128 4100 2886 4159 \nQ 2644 4219 2406 4219 \nQ 1781 4219 1451 3797 \nQ 1122 3375 1075 2522 \nQ 1259 2794 1537 2939 \nQ 1816 3084 2150 3084 \nQ 2853 3084 3261 2657 \nQ 3669 2231 3669 1497 \nQ 3669 778 3244 343 \nQ 2819 -91 2113 -91 \nQ 1303 -91 875 529 \nQ 447 1150 447 2328 \nQ 447 3434 972 4092 \nQ 1497 4750 2381 4750 \nQ 2619 4750 2861 4703 \nQ 3103 4656 3366 4563 \nz\n\" id=\"DejaVuSans-36\" transform=\"scale(0.015625)\"/>\n       </defs>\n       <use xlink:href=\"#DejaVuSans-36\"/>\n      </g>\n     </g>\n    </g>\n    <g id=\"xtick_5\">\n     <g id=\"line2d_5\">\n      <g>\n       <use style=\"stroke:#000000;stroke-width:0.8;\" x=\"318.574627\" xlink:href=\"#m5541ceec74\" y=\"224.64\"/>\n      </g>\n     </g>\n     <g id=\"text_5\">\n      <!-- 8 -->\n      <g transform=\"translate(315.393377 239.238437)scale(0.1 -0.1)\">\n       <defs>\n        <path d=\"M 2034 2216 \nQ 1584 2216 1326 1975 \nQ 1069 1734 1069 1313 \nQ 1069 891 1326 650 \nQ 1584 409 2034 409 \nQ 2484 409 2743 651 \nQ 3003 894 3003 1313 \nQ 3003 1734 2745 1975 \nQ 2488 2216 2034 2216 \nz\nM 1403 2484 \nQ 997 2584 770 2862 \nQ 544 3141 544 3541 \nQ 544 4100 942 4425 \nQ 1341 4750 2034 4750 \nQ 2731 4750 3128 4425 \nQ 3525 4100 3525 3541 \nQ 3525 3141 3298 2862 \nQ 3072 2584 2669 2484 \nQ 3125 2378 3379 2068 \nQ 3634 1759 3634 1313 \nQ 3634 634 3220 271 \nQ 2806 -91 2034 -91 \nQ 1263 -91 848 271 \nQ 434 634 434 1313 \nQ 434 1759 690 2068 \nQ 947 2378 1403 2484 \nz\nM 1172 3481 \nQ 1172 3119 1398 2916 \nQ 1625 2713 2034 2713 \nQ 2441 2713 2670 2916 \nQ 2900 3119 2900 3481 \nQ 2900 3844 2670 4047 \nQ 2441 4250 2034 4250 \nQ 1625 4250 1398 4047 \nQ 1172 3844 1172 3481 \nz\n\" id=\"DejaVuSans-38\" transform=\"scale(0.015625)\"/>\n       </defs>\n       <use xlink:href=\"#DejaVuSans-38\"/>\n      </g>\n     </g>\n    </g>\n   </g>\n   <g id=\"matplotlib.axis_2\">\n    <g id=\"ytick_1\">\n     <g id=\"line2d_6\">\n      <defs>\n       <path d=\"M 0 0 \nL -3.5 0 \n\" id=\"m34357cc2e8\" style=\"stroke:#000000;stroke-width:0.8;\"/>\n      </defs>\n      <g>\n       <use style=\"stroke:#000000;stroke-width:0.8;\" x=\"46.0125\" xlink:href=\"#m34357cc2e8\" y=\"224.64\"/>\n      </g>\n     </g>\n     <g id=\"text_6\">\n      <!-- 0 -->\n      <g transform=\"translate(32.65 228.439219)scale(0.1 -0.1)\">\n       <use xlink:href=\"#DejaVuSans-30\"/>\n      </g>\n     </g>\n    </g>\n    <g id=\"ytick_2\">\n     <g id=\"line2d_7\">\n      <g>\n       <use style=\"stroke:#000000;stroke-width:0.8;\" x=\"46.0125\" xlink:href=\"#m34357cc2e8\" y=\"199.682397\"/>\n      </g>\n     </g>\n     <g id=\"text_7\">\n      <!-- 2000 -->\n      <g transform=\"translate(13.5625 203.481615)scale(0.1 -0.1)\">\n       <use xlink:href=\"#DejaVuSans-32\"/>\n       <use x=\"63.623047\" xlink:href=\"#DejaVuSans-30\"/>\n       <use x=\"127.246094\" xlink:href=\"#DejaVuSans-30\"/>\n       <use x=\"190.869141\" xlink:href=\"#DejaVuSans-30\"/>\n      </g>\n     </g>\n    </g>\n    <g id=\"ytick_3\">\n     <g id=\"line2d_8\">\n      <g>\n       <use style=\"stroke:#000000;stroke-width:0.8;\" x=\"46.0125\" xlink:href=\"#m34357cc2e8\" y=\"174.724793\"/>\n      </g>\n     </g>\n     <g id=\"text_8\">\n      <!-- 4000 -->\n      <g transform=\"translate(13.5625 178.524012)scale(0.1 -0.1)\">\n       <use xlink:href=\"#DejaVuSans-34\"/>\n       <use x=\"63.623047\" xlink:href=\"#DejaVuSans-30\"/>\n       <use x=\"127.246094\" xlink:href=\"#DejaVuSans-30\"/>\n       <use x=\"190.869141\" xlink:href=\"#DejaVuSans-30\"/>\n      </g>\n     </g>\n    </g>\n    <g id=\"ytick_4\">\n     <g id=\"line2d_9\">\n      <g>\n       <use style=\"stroke:#000000;stroke-width:0.8;\" x=\"46.0125\" xlink:href=\"#m34357cc2e8\" y=\"149.76719\"/>\n      </g>\n     </g>\n     <g id=\"text_9\">\n      <!-- 6000 -->\n      <g transform=\"translate(13.5625 153.566409)scale(0.1 -0.1)\">\n       <use xlink:href=\"#DejaVuSans-36\"/>\n       <use x=\"63.623047\" xlink:href=\"#DejaVuSans-30\"/>\n       <use x=\"127.246094\" xlink:href=\"#DejaVuSans-30\"/>\n       <use x=\"190.869141\" xlink:href=\"#DejaVuSans-30\"/>\n      </g>\n     </g>\n    </g>\n    <g id=\"ytick_5\">\n     <g id=\"line2d_10\">\n      <g>\n       <use style=\"stroke:#000000;stroke-width:0.8;\" x=\"46.0125\" xlink:href=\"#m34357cc2e8\" y=\"124.809586\"/>\n      </g>\n     </g>\n     <g id=\"text_10\">\n      <!-- 8000 -->\n      <g transform=\"translate(13.5625 128.608805)scale(0.1 -0.1)\">\n       <use xlink:href=\"#DejaVuSans-38\"/>\n       <use x=\"63.623047\" xlink:href=\"#DejaVuSans-30\"/>\n       <use x=\"127.246094\" xlink:href=\"#DejaVuSans-30\"/>\n       <use x=\"190.869141\" xlink:href=\"#DejaVuSans-30\"/>\n      </g>\n     </g>\n    </g>\n    <g id=\"ytick_6\">\n     <g id=\"line2d_11\">\n      <g>\n       <use style=\"stroke:#000000;stroke-width:0.8;\" x=\"46.0125\" xlink:href=\"#m34357cc2e8\" y=\"99.851983\"/>\n      </g>\n     </g>\n     <g id=\"text_11\">\n      <!-- 10000 -->\n      <g transform=\"translate(7.2 103.651202)scale(0.1 -0.1)\">\n       <defs>\n        <path d=\"M 794 531 \nL 1825 531 \nL 1825 4091 \nL 703 3866 \nL 703 4441 \nL 1819 4666 \nL 2450 4666 \nL 2450 531 \nL 3481 531 \nL 3481 0 \nL 794 0 \nL 794 531 \nz\n\" id=\"DejaVuSans-31\" transform=\"scale(0.015625)\"/>\n       </defs>\n       <use xlink:href=\"#DejaVuSans-31\"/>\n       <use x=\"63.623047\" xlink:href=\"#DejaVuSans-30\"/>\n       <use x=\"127.246094\" xlink:href=\"#DejaVuSans-30\"/>\n       <use x=\"190.869141\" xlink:href=\"#DejaVuSans-30\"/>\n       <use x=\"254.492188\" xlink:href=\"#DejaVuSans-30\"/>\n      </g>\n     </g>\n    </g>\n    <g id=\"ytick_7\">\n     <g id=\"line2d_12\">\n      <g>\n       <use style=\"stroke:#000000;stroke-width:0.8;\" x=\"46.0125\" xlink:href=\"#m34357cc2e8\" y=\"74.89438\"/>\n      </g>\n     </g>\n     <g id=\"text_12\">\n      <!-- 12000 -->\n      <g transform=\"translate(7.2 78.693598)scale(0.1 -0.1)\">\n       <use xlink:href=\"#DejaVuSans-31\"/>\n       <use x=\"63.623047\" xlink:href=\"#DejaVuSans-32\"/>\n       <use x=\"127.246094\" xlink:href=\"#DejaVuSans-30\"/>\n       <use x=\"190.869141\" xlink:href=\"#DejaVuSans-30\"/>\n       <use x=\"254.492188\" xlink:href=\"#DejaVuSans-30\"/>\n      </g>\n     </g>\n    </g>\n    <g id=\"ytick_8\">\n     <g id=\"line2d_13\">\n      <g>\n       <use style=\"stroke:#000000;stroke-width:0.8;\" x=\"46.0125\" xlink:href=\"#m34357cc2e8\" y=\"49.936776\"/>\n      </g>\n     </g>\n     <g id=\"text_13\">\n      <!-- 14000 -->\n      <g transform=\"translate(7.2 53.735995)scale(0.1 -0.1)\">\n       <use xlink:href=\"#DejaVuSans-31\"/>\n       <use x=\"63.623047\" xlink:href=\"#DejaVuSans-34\"/>\n       <use x=\"127.246094\" xlink:href=\"#DejaVuSans-30\"/>\n       <use x=\"190.869141\" xlink:href=\"#DejaVuSans-30\"/>\n       <use x=\"254.492188\" xlink:href=\"#DejaVuSans-30\"/>\n      </g>\n     </g>\n    </g>\n    <g id=\"ytick_9\">\n     <g id=\"line2d_14\">\n      <g>\n       <use style=\"stroke:#000000;stroke-width:0.8;\" x=\"46.0125\" xlink:href=\"#m34357cc2e8\" y=\"24.979173\"/>\n      </g>\n     </g>\n     <g id=\"text_14\">\n      <!-- 16000 -->\n      <g transform=\"translate(7.2 28.778391)scale(0.1 -0.1)\">\n       <use xlink:href=\"#DejaVuSans-31\"/>\n       <use x=\"63.623047\" xlink:href=\"#DejaVuSans-36\"/>\n       <use x=\"127.246094\" xlink:href=\"#DejaVuSans-30\"/>\n       <use x=\"190.869141\" xlink:href=\"#DejaVuSans-30\"/>\n       <use x=\"254.492188\" xlink:href=\"#DejaVuSans-30\"/>\n      </g>\n     </g>\n    </g>\n   </g>\n   <g id=\"patch_13\">\n    <path d=\"M 46.0125 224.64 \nL 46.0125 7.2 \n\" style=\"fill:none;stroke:#000000;stroke-linecap:square;stroke-linejoin:miter;stroke-width:0.8;\"/>\n   </g>\n   <g id=\"patch_14\">\n    <path d=\"M 380.8125 224.64 \nL 380.8125 7.2 \n\" style=\"fill:none;stroke:#000000;stroke-linecap:square;stroke-linejoin:miter;stroke-width:0.8;\"/>\n   </g>\n   <g id=\"patch_15\">\n    <path d=\"M 46.0125 224.64 \nL 380.8125 224.64 \n\" style=\"fill:none;stroke:#000000;stroke-linecap:square;stroke-linejoin:miter;stroke-width:0.8;\"/>\n   </g>\n   <g id=\"patch_16\">\n    <path d=\"M 46.0125 7.2 \nL 380.8125 7.2 \n\" style=\"fill:none;stroke:#000000;stroke-linecap:square;stroke-linejoin:miter;stroke-width:0.8;\"/>\n   </g>\n  </g>\n </g>\n <defs>\n  <clipPath id=\"p970d385046\">\n   <rect height=\"217.44\" width=\"334.8\" x=\"46.0125\" y=\"7.2\"/>\n  </clipPath>\n </defs>\n</svg>\n",
      "image/png": "[encoded data removed]"
     },
     "metadata": {
      "needs_background": "light"
     }
    }
   ],
   "source": [
    "plt.hist(errors[1, :])"
   ]
  },
  {
   "cell_type": "code",
   "execution_count": 75,
   "metadata": {},
   "outputs": [],
   "source": [
    "model.save('Taxinet.h5')"
   ]
  },
  {
   "cell_type": "code",
   "execution_count": 76,
   "metadata": {},
   "outputs": [
    {
     "output_type": "execute_result",
     "data": {
      "text/plain": [
       "array([8.827959, 8.171246], dtype=float32)"
      ]
     },
     "metadata": {},
     "execution_count": 76
    }
   ],
   "source": [
    "model.predict(X[:, 0][np.newaxis, :])[0]"
   ]
  },
  {
   "cell_type": "code",
   "execution_count": null,
   "metadata": {},
   "outputs": [],
   "source": []
  }
 ]
}
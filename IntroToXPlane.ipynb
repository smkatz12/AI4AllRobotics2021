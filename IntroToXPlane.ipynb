{
 "metadata": {
  "language_info": {
   "codemirror_mode": {
    "name": "ipython",
    "version": 3
   },
   "file_extension": ".py",
   "mimetype": "text/x-python",
   "name": "python",
   "nbconvert_exporter": "python",
   "pygments_lexer": "ipython3",
   "version": "3.9.2"
  },
  "orig_nbformat": 4,
  "kernelspec": {
   "name": "python3",
   "display_name": "Python 3.9.2 64-bit"
  },
  "interpreter": {
   "hash": "36cf16204b8548560b1c020c4e8fb5b57f0e4c58016f52f2d4be01e192833930"
  }
 },
 "nbformat": 4,
 "nbformat_minor": 2,
 "cells": [
  {
   "source": [
    "# Introduction to X-Plane 11 \n",
    "\n",
    "In this notebook, we will introduce you to [X-Plane 11](https://www.x-plane.com/). X-Plane 11 is a flight simulator that can simulate all sorts different aircraft, scenery, takeoffs, landings, and many more aspects of flight. You will be using X-Plane 11 for your project to simulate an aircraft taxiing down a runway, so let's get familiar with it!"
   ],
   "cell_type": "markdown",
   "metadata": {}
  },
  {
   "source": [
    "## Playing around with X-Plane 11\n",
    "\n",
    "First, let's just play around a bit with X-Plane 11 to check out some of its features. To do this, follow these steps:\n",
    "\n",
    "1. **Open X-Plane 11.** Look for the X-Plane 11 icon in the dock at the bottom of your screen (it should be towards the right). Click this icon and X-Plane 11 will open. A window may pop up saying that there is an update available. If this happens, you can just click \"ignore\".\n",
    "2. **Click the \"Flight School\" button.** This should bring up a window with different tutorials. Feel free to try out any of them. I recommend starting with the X-Plane basics tutorial, but feel free to give any of them a try!\n",
    "\n",
    "If you're anything like me, you may have crashed a few times :). If so, not to worry! This is one of the reasons that simulators are so wonderful. They allow us to work out any bugs or issues before trying everything out on the real thing! "
   ],
   "cell_type": "markdown",
   "metadata": {}
  },
  {
   "source": [
    "## Connecting to X-Plane 11 using Python\n",
    "\n",
    "Most people use X-Plane 11 in the way you just did (controlling the aircraft with your mouse and keyboard sort of like playing a video game). However, for your project, we want to make the aircraft taxi down the runway on its own without us having to intervene. To do this, we will sort of \"hack\" X-Plane 11 to be controlled using python. NASA has written a nice plugin for us to do this called X-Plane Connect. Let's give it a try!\n",
    "\n",
    "1. From the main menu of X-Plane 11, click \"New Flight\". This should bring up a window with some flight configuration options.\n",
    "2. In the AIRCRAFT section, select the Cessna Skyhawk.\n",
    "3. In the location section, select Grant Co Intl (ID is KMWH).\n",
    "4. You can leave the weather as clear.\n",
    "5. In the TIME OF DAY section, select a time between 8AM and 10AM local.\n",
    "6. Click the \"Start Flight\" button at the bottom right of the screen. It make take a minute or so to load the flight. Once it loads, you should see the front of the aircraft pointing down a runway. We are now ready to start controlling it!\n"
   ],
   "cell_type": "markdown",
   "metadata": {}
  },
  {
   "source": [
    "First, run the following cell to import all the python functions we need to interface with X-Plane 11:"
   ],
   "cell_type": "markdown",
   "metadata": {}
  },
  {
   "cell_type": "code",
   "execution_count": 41,
   "metadata": {},
   "outputs": [],
   "source": [
    "from xpc3 import *\n",
    "from xpc3_helper import *"
   ]
  },
  {
   "source": [
    "Next, we need to connect to X-Plane 11 by creating a client that we can use to interface with the simulator:"
   ],
   "cell_type": "markdown",
   "metadata": {}
  },
  {
   "cell_type": "code",
   "execution_count": 42,
   "metadata": {},
   "outputs": [],
   "source": [
    "client = XPlaneConnect()"
   ]
  },
  {
   "source": [
    "Now, we can start controlling the aircraft with python commands! Let's start by calling the reset command. This resets to aircraft to the start of the runway traveling at 5 m/s. However, the simulation will be paused, so the aircraft will not be moving forward yet."
   ],
   "cell_type": "markdown",
   "metadata": {}
  },
  {
   "cell_type": "code",
   "execution_count": 43,
   "metadata": {},
   "outputs": [],
   "source": [
    "reset(client)"
   ]
  },
  {
   "source": [
    "You should have noticed that the aircraft shifted a little bit. Let's unpause the simulation so that we can see the aircraft begin to taxi! You can repause the simulation with the second cell after a few seconds of watching it taxi."
   ],
   "cell_type": "markdown",
   "metadata": {}
  },
  {
   "cell_type": "code",
   "execution_count": 44,
   "metadata": {},
   "outputs": [],
   "source": [
    "client.pauseSim(False)"
   ]
  },
  {
   "cell_type": "code",
   "execution_count": 45,
   "metadata": {},
   "outputs": [],
   "source": [
    "client.pauseSim(True)"
   ]
  },
  {
   "source": [
    "We can control the aircraft by controlling the [rudder](https://www.grc.nasa.gov/www/k-12/airplane/rud.html). The rudder is a hinged section near the rear of the aircraft that is used to turn the nose of the aircraft. The rudder input (fourth argument) should be between -1 and 1. Positive creates a right turn.\n",
    "\n",
    "The next few cells contain the code to send the control and pause/unpause the simulation. Give it a try!"
   ],
   "cell_type": "markdown",
   "metadata": {}
  },
  {
   "cell_type": "code",
   "execution_count": 27,
   "metadata": {},
   "outputs": [],
   "source": [
    "sendCTRL(client, 0.0, 0.0, 0.5, 0.0)"
   ]
  },
  {
   "cell_type": "code",
   "execution_count": 28,
   "metadata": {},
   "outputs": [],
   "source": [
    "client.pauseSim(False)"
   ]
  },
  {
   "cell_type": "code",
   "execution_count": 29,
   "metadata": {},
   "outputs": [],
   "source": [
    "client.pauseSim(True)"
   ]
  },
  {
   "source": [
    "In addition to controlling the aircraft, we can place it at a specified location on the runway using the state variables we learned about. The runway is 20 meters wide and 2982 meters long."
   ],
   "cell_type": "markdown",
   "metadata": {}
  },
  {
   "source": [
    "First let's reset it to the beginning of the runway:"
   ],
   "cell_type": "markdown",
   "metadata": {}
  },
  {
   "cell_type": "code",
   "execution_count": 40,
   "metadata": {},
   "outputs": [],
   "source": [
    "reset(client)"
   ]
  },
  {
   "source": [
    "Next, let's place it 5 meters ahead of our current location. Use the `setHomeState(client, x, y, theta)` function.\n",
    "- x is the distance from the centerline in meters (for runway -10 < x < 10, left is positive)\n",
    "- y is the distance down the runway in meters\n",
    "- theta is the angle that the aircraft faces measured from facing straight down the runway"
   ],
   "cell_type": "markdown",
   "metadata": {}
  },
  {
   "cell_type": "code",
   "execution_count": 31,
   "metadata": {},
   "outputs": [],
   "source": [
    "setHomeState(client, 0.0, 5.0, 0.0)"
   ]
  },
  {
   "source": [
    "The aircraft should have moved forward 5 meters. Now, let's move it to the left 4 meters:"
   ],
   "cell_type": "markdown",
   "metadata": {}
  },
  {
   "cell_type": "code",
   "execution_count": 46,
   "metadata": {},
   "outputs": [],
   "source": [
    "setHomeState(client, 4.0, 5.0, 0.0)"
   ]
  },
  {
   "source": [
    "Rotate it counterclockwise 10 degrees:"
   ],
   "cell_type": "markdown",
   "metadata": {}
  },
  {
   "cell_type": "code",
   "execution_count": 33,
   "metadata": {},
   "outputs": [],
   "source": [
    "setHomeState(client, 4.0, 5.0, 10.0)"
   ]
  },
  {
   "source": [
    "Move it to the end of the runway:"
   ],
   "cell_type": "markdown",
   "metadata": {}
  },
  {
   "cell_type": "code",
   "execution_count": 34,
   "metadata": {},
   "outputs": [],
   "source": [
    "setHomeState(client, 0.0, 2982.0, 0.0)"
   ]
  },
  {
   "source": [
    "X-Plane Connect provides a way to programmatically edit the [DataRefs](https://developer.x-plane.com/datarefs/) that control the simulation. We can easily get the value of a particular DataRef. For example, let's get the time of day (GMT) in seconds."
   ],
   "cell_type": "markdown",
   "metadata": {}
  },
  {
   "cell_type": "code",
   "execution_count": 37,
   "metadata": {},
   "outputs": [
    {
     "output_type": "execute_result",
     "data": {
      "text/plain": [
       "64105.6328125"
      ]
     },
     "metadata": {},
     "execution_count": 37
    }
   ],
   "source": [
    "# Returns a tuple, so index the first entry to get the number back\n",
    "client.getDREF(\"sim/time/zulu_time_sec\")[0]"
   ]
  },
  {
   "source": [
    "We can also set the value of a DataRef. Let's set the time to 11:00PM local time."
   ],
   "cell_type": "markdown",
   "metadata": {}
  },
  {
   "cell_type": "code",
   "execution_count": 50,
   "metadata": {},
   "outputs": [],
   "source": [
    "client.sendDREF(\"sim/time/zulu_time_sec\", 23 * 3600 + 8 * 3600)"
   ]
  },
  {
   "source": [
    "DataRefs are simulation variables, and there are many many of them controlling everything from weather to aircraft position, speed, orientation, parking break, and more. They are summarized [here](https://developer.x-plane.com/datarefs/). Note that not all DataRefs can be written. Some DataRefs are calculated at each time step as a function of other DataRefs, so writing to them will have no effect because they will just be rewritten at the next time step."
   ],
   "cell_type": "markdown",
   "metadata": {}
  }
 ]
}
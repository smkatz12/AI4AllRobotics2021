{
 "cells": [
  {
   "cell_type": "markdown",
   "metadata": {},
   "source": [
    "# XPlane 11 Takeoff Controller"
   ]
  },
  {
   "cell_type": "markdown",
   "metadata": {},
   "source": [
    "In this optional bonus notebook, you will have a chance to build on your taxi controller to actually make the aircraft takeoff.\n",
    "\n",
    "As we discussed, PID control is a simple concept that is extremely powerful. We can use it to do many amazing things like make an aircraft takeoff and fly! All we have to do is get the gains right :)."
   ]
  },
  {
   "cell_type": "markdown",
   "metadata": {},
   "source": [
    "Sometimes when we are designing a robot or autonomous system, we want to use a different controller for different phases of operation (e.g. taxi, takeoff, cruise, etc.). Brainstorm with your group why you think we might do this. "
   ]
  },
  {
   "cell_type": "markdown",
   "metadata": {},
   "source": [
    "We will break our control up into three phases:\n",
    "\n",
    "1. **Taxi**\n",
    "2. **Takeoff**\n",
    "3. **Climb**\n",
    "\n",
    "Each phase will have a different controller. We have implemented this for you in the `TakeoffHelper.py` file. Let's import it here:"
   ]
  },
  {
   "cell_type": "code",
   "execution_count": null,
   "metadata": {},
   "outputs": [],
   "source": [
    "from takeoff_helper import *"
   ]
  },
  {
   "cell_type": "markdown",
   "metadata": {},
   "source": [
    "We will keep everything you need in this file, but feel free to check out the code in the file to see how some of the controllers are implemented. Let's go through each controller one by one and learn how they work:"
   ]
  },
  {
   "cell_type": "markdown",
   "metadata": {},
   "source": [
    "## Taxi Controller"
   ]
  },
  {
   "cell_type": "markdown",
   "metadata": {},
   "source": [
    "The taxi controller works just like the one you just designed with on small difference. Instead of using a steering command as the control, we need to command the [rudder](https://www.grc.nasa.gov/www/k-12/airplane/rud.html). The rudder is a hinged section near the rear of the aircraft that is used to turn the nose of the aircraft. The rudder input should be between -1 and 1. Positive creates a right turn. \n",
    "\n",
    "We can still use the gains we found for the previous controller with a small modification: we need to divide them by 100! Input the gains you found in the previous notebook for your taxi controller below:"
   ]
  },
  {
   "cell_type": "code",
   "execution_count": null,
   "metadata": {},
   "outputs": [],
   "source": [
    "# STUDENT CODE START\n",
    "cte_gain = None # Put your value here!\n",
    "he_gain = None # Put your value here!\n",
    "# STUDENT CODE END\n",
    "\n",
    "cte_kp = cte_gain / 100\n",
    "he_kp = he_gain / 100"
   ]
  },
  {
   "cell_type": "markdown",
   "metadata": {},
   "source": [
    "Next, we can create a taxi controller object with these gains to be used in our simulation:"
   ]
  },
  {
   "cell_type": "code",
   "execution_count": null,
   "metadata": {},
   "outputs": [],
   "source": [
    "taxi_controller = TaxiController(cte_kp, he_kp)"
   ]
  },
  {
   "cell_type": "markdown",
   "metadata": {},
   "source": [
    "## Takeoff Controller"
   ]
  },
  {
   "cell_type": "markdown",
   "metadata": {},
   "source": [
    "Once our taxi controller has brought the aircraft to a crosstrack error within 1 meters and a heading error within 1 degree, the takeoff controller with takeover. The takeoff controller works similarly to the taxi controller (our goal is to keep the aircraft in the center of the runway), but there are a few other things we need to consider. \n",
    "\n",
    "First, we need increase the aircraft speed using full throttle to takeoff! Because the aircraft will be going faster, we need to respond faster to increases in our error, so we are going to need bigger proportional control gains! Biggers gains potentially means for overshoot though, so we will add a derivative term to try to fix this.\n",
    "\n",
    "Your job in this notebook will be to \"tune\" these gains (meaning find good values for them). For now, let's just initialize them to some default values and create our takeoff controller:"
   ]
  },
  {
   "cell_type": "code",
   "execution_count": null,
   "metadata": {},
   "outputs": [],
   "source": [
    "# STUDENT CODE START\n",
    "takeoff_cte_kp = 0.07\n",
    "takeoff_he_kp = 0.035\n",
    "\n",
    "takeoff_cte_kd = 0.0 \n",
    "takeoff_he_kd = 0.0 \n",
    "# STUDENT CODE END\n",
    "\n",
    "takeoff_controller = TakeoffController(takeoff_cte_kp, takeoff_he_kp, \n",
    "                                        takeoff_cte_kd, takeoff_cte_kp)\n"
   ]
  },
  {
   "cell_type": "markdown",
   "metadata": {},
   "source": [
    "## Climb Controller"
   ]
  },
  {
   "cell_type": "markdown",
   "metadata": {},
   "source": [
    "Our last controller is our climb controller. Once we reach our takeoff speed (30 m/s), our climb controller takes over and begins to pitch the nose of the aircraft up. We can do this by controlling a part of the aircraft called the [elevator](https://www.grc.nasa.gov/www/k-12/airplane/elv.html). The elevator is located on the back of the aircraft and is used to position the nose of the aircraft. This changes the amount of lift on the wing so that it can climb or descend.\n",
    "\n",
    "We will control the elevator to try to match a specified climb rate using a proportional-derivative controller. Let's initialize the gains for this controller and create it:"
   ]
  },
  {
   "cell_type": "code",
   "execution_count": null,
   "metadata": {},
   "outputs": [],
   "source": [
    "elevator_kp = 0.001\n",
    "elevator_kd = 0.01\n",
    "\n",
    "climb_controller = ClimbController(elevator_kp, elevator_kd)\n"
   ]
  },
  {
   "cell_type": "markdown",
   "metadata": {},
   "source": [
    "Now that we have defined our controllers, let's try to run them! First, we need to set up a flight following our usual instructions:\n",
    "\n",
    "1. **Open X-Plane 11.** Look for the X-Plane 11 icon in the dock at the bottom of your screen (it should be towards the right). Click this icon and X-Plane 11 will open. A window may pop up saying that there is an update available. If this happens, you can just click \"ignore\".\n",
    "2. From the main menu of X-Plane 11, click \"New Flight\". This should bring up a window with some flight configuration options.\n",
    "3. In the AIRCRAFT section, select the Cessna Skyhawk.\n",
    "4. In the location section, select Grant Co Intl (ID is KMWH).\n",
    "5. You can leave the weather as clear.\n",
    "6. In the TIME OF DAY section, select a time between 8AM and 10AM local.\n",
    "7. Click the \"Start Flight\" button at the bottom right of the screen. It make take a minute or so to load the flight. Once it loads, you should see the front of the aircraft pointing down a runway. We are now ready to start controlling it!\n",
    "\n",
    "Connect to X-Plane 11 by creating a client that we can use to interface with the simulator:"
   ]
  },
  {
   "cell_type": "code",
   "execution_count": null,
   "metadata": {},
   "outputs": [],
   "source": [
    "from xpc3 import *\n",
    "from xpc3_helper import *\n",
    "\n",
    "client = XPlaneConnect()"
   ]
  },
  {
   "cell_type": "markdown",
   "metadata": {},
   "source": [
    "Let's see what happens when we run it with the control gains we specified:"
   ]
  },
  {
   "cell_type": "code",
   "execution_count": null,
   "metadata": {},
   "outputs": [],
   "source": [
    "simulate_controllers(client, 6.0, 0.0, 322.0,\n",
    "                    taxi_controller=taxi_controller,\n",
    "                    takeoff_controller=takeoff_controller,\n",
    "                    climb_controller=climb_controller)"
   ]
  },
  {
   "cell_type": "markdown",
   "metadata": {},
   "source": [
    "How did it do? Would you get on that plane? :) \n",
    "\n",
    "If your answer is no, we still have some work to do! Try tuning the gains for the takeoff and climb controller to make the path a bit smoother. You can do that by repeatedly changing the values and running to cell below until it looks good to you:"
   ]
  },
  {
   "cell_type": "code",
   "execution_count": null,
   "metadata": {},
   "outputs": [],
   "source": [
    "# STUDENT CODE START\n",
    "# Takeoff\n",
    "takeoff_cte_kp = 0.07 # Change these once you start tuning!\n",
    "takeoff_he_kp = 0.035 # Change these once you start tuning!\n",
    "\n",
    "takeoff_cte_kd = 0.0 # Change these once you start tuning!\n",
    "takeoff_he_kd = 0.0  # Change these once you start tuning!\n",
    "\n",
    "# Climb\n",
    "elevator_kp = 0.001 # Change these once you start tuning!\n",
    "elevator_kd = 0.01  # Change these once you start tuning!\n",
    "# STUDENT CODE END\n",
    "\n",
    "# Create the controllers\n",
    "taxi_controller = TaxiController(cte_kp, he_kp)\n",
    "takeoff_controller = TakeoffController(takeoff_cte_kp, takeoff_he_kp,\n",
    "                                       takeoff_cte_kd, takeoff_cte_kp)\n",
    "\n",
    "climb_controller = ClimbController(elevator_kp, elevator_kd)\n",
    "\n",
    "# Simulate it\n",
    "simulate_controllers(client, 6.0, 0.0, 322.0,\n",
    "                     taxi_controller=taxi_controller,\n",
    "                     takeoff_controller=takeoff_controller,\n",
    "                     climb_controller=climb_controller)\n"
   ]
  },
  {
   "cell_type": "markdown",
   "metadata": {},
   "source": [
    "Want an extra challenge? Try brainstorming some modifications or additional controllers you could add to make this work even better.\n",
    "\n",
    "Want an extra extra challenge? Implement your ideas by adding code to the `takeoff_helper.py` file."
   ]
  }
 ],
 "metadata": {
  "interpreter": {
   "hash": "36cf16204b8548560b1c020c4e8fb5b57f0e4c58016f52f2d4be01e192833930"
  },
  "kernelspec": {
   "display_name": "Python 3.9.2 64-bit",
   "name": "python3"
  },
  "language_info": {
   "name": "python",
   "version": ""
  },
  "orig_nbformat": 4
 },
 "nbformat": 4,
 "nbformat_minor": 2
}
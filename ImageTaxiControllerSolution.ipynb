{
 "metadata": {
  "language_info": {
   "codemirror_mode": {
    "name": "ipython",
    "version": 3
   },
   "file_extension": ".py",
   "mimetype": "text/x-python",
   "name": "python",
   "nbconvert_exporter": "python",
   "pygments_lexer": "ipython3",
   "version": "3.9.2"
  },
  "orig_nbformat": 4,
  "kernelspec": {
   "name": "python3",
   "display_name": "Python 3.9.2 64-bit"
  },
  "interpreter": {
   "hash": "36cf16204b8548560b1c020c4e8fb5b57f0e4c58016f52f2d4be01e192833930"
  }
 },
 "nbformat": 4,
 "nbformat_minor": 2,
 "cells": [
  {
   "source": [
    "# X-Plane 11 Aircraft Taxi Controller using Images\n",
    "\n",
    "In this notebook, you will implement an image-based controller for the aircraft taxi problem and observe it in action! This notebook will be very similar to TaxiController notebook expect now we will not give our controller access to the true state. Instead, it will only have access to the camera images from the front of the aircraft represented by our screenshots."
   ],
   "cell_type": "markdown",
   "metadata": {}
  },
  {
   "source": [
    "First, let's import some of the python packages we will need:"
   ],
   "cell_type": "markdown",
   "metadata": {}
  },
  {
   "cell_type": "code",
   "execution_count": 1,
   "metadata": {},
   "outputs": [],
   "source": [
    "import time\n",
    "import numpy as np\n",
    "\n",
    "import mss\n",
    "import cv2\n",
    "from PIL import Image\n",
    "\n",
    "from xpc3 import *\n",
    "from xpc3_helper import *\n",
    "from plotting_helper import *\n",
    "\n",
    "import matplotlib.pyplot as plt\n",
    "from matplotlib.path import Path\n",
    "import matplotlib.patches as patches\n",
    "\n",
    "from tensorflow.keras.models import Sequential\n",
    "from tensorflow.keras.models import load_model"
   ]
  },
  {
   "source": [
    "Next, we need to get X-Plane 11 ready to go. We will follow the same steps as we did in the X-Plane 11 tutorial notebook:\n",
    "\n",
    "1. **Open X-Plane 11.** Look for the X-Plane 11 icon in the dock at the bottom of your screen (it should be towards the right). Click this icon and X-Plane 11 will open. A window may pop up saying that there is an update available. If this happens, you can just click \"ignore\".\n",
    "2. From the main menu of X-Plane 11, click \"New Flight\". This should bring up a window with some flight configuration options.\n",
    "3. In the AIRCRAFT section, select the Cessna Skyhawk.\n",
    "4. In the location section, select Grant Co Intl (ID is KMWH).\n",
    "5. You can leave the weather as clear.\n",
    "6. In the TIME OF DAY section, select a time between 8AM and 10AM local.\n",
    "7. Click the \"Start Flight\" button at the bottom right of the screen. It make take a minute or so to load the flight. Once it loads, you should see the front of the aircraft pointing down a runway. We are now ready to start controlling it!\n",
    "\n",
    "To set up X-Plane in the configuration we need to capture images, we need to follow a few extra steps:\n",
    "\n",
    "1. **Click the settings button**. The button should be on the top right of the screen next to the question mark and looks like an icon with three dials. It should bring up a settings window.\n",
    "2. **Go to the Graphics tab**. The Graphics tab should be third from the left at the top of the settings window.\n",
    "3. **Put in full screen mode**. In the \"Monitor Configuration\" section of the Graphics tab, make sure to select full screen simulator under monitor usage.\n",
    "4. **Set the screen resolution**. For resolution, select 1440x900. If this is not an option, you can select \"custom\" and manually set it to this.\n",
    "5. **Close the settings window**. Click done in the bottom right corner.\n",
    "6. **Change the view**. Under view in the top left corner of the screen, from the \"Change (Internal)\" menu, select \"Forward with No Display\".\n",
    "\n",
    "Connect to X-Plane 11 by creating a client that we can use to interface with the simulator:"
   ],
   "cell_type": "markdown",
   "metadata": {}
  },
  {
   "cell_type": "code",
   "execution_count": 2,
   "metadata": {},
   "outputs": [],
   "source": [
    "client = XPlaneConnect()\n",
    "reset(client)"
   ]
  },
  {
   "source": [
    "We will need to use the image capture and processing function from the DataGeneration notebook in the notebook, so go ahead and copy/paste your function here:"
   ],
   "cell_type": "markdown",
   "metadata": {}
  },
  {
   "cell_type": "code",
   "execution_count": 3,
   "metadata": {},
   "outputs": [],
   "source": [
    "def getCurrentImage(screenShot):\n",
    "    \"\"\" Returns both the current image (direct screenshot) and \n",
    "        processed 128-pixel image\n",
    "        Args:\n",
    "            screenShot: mss screenshot object\n",
    "    \"\"\"\n",
    "    # STUDENT CODE START\n",
    "    # Get the screenshot\n",
    "    ss = cv2.cvtColor(np.array(screenShot.grab(screenShot.monitors[0])), cv2.COLOR_BGRA2BGR)[:, :, ::-1]\n",
    "    # Resize to 360x200\n",
    "    img_resized = cv2.resize(ss, (360, 200))\n",
    "    # Crop out the sky\n",
    "    img_cropped = img_resized[100:, :, :]\n",
    "    # Convert to grayscale\n",
    "    img_grayscale = np.array(Image.fromarray(img_cropped).convert('L')) / 255.0\n",
    "    # Downsample\n",
    "    stride = 16\n",
    "    numPix = 16\n",
    "    width = 256//stride\n",
    "    height = 128//stride\n",
    "\n",
    "    # Downsample image\n",
    "    # Split image into stride x stride boxes, average numPix brightest pixels in that box\n",
    "    # As a result, img_ds has one value for every box\n",
    "    img_grayscale_resize = cv2.resize(img_grayscale, (256, 128))\n",
    "    img_ds = np.zeros((height, width))\n",
    "    for i in range(height):\n",
    "        for j in range(width):\n",
    "            img_ds[i, j] = np.mean(np.sort(\n",
    "                img_grayscale_resize[stride*i:stride*(i+1), stride*j:stride*(j+1)].reshape(-1))[-numPix:])\n",
    "    # Bias to have mean of 0.5\n",
    "    # Ensure that the mean of the image is 0.5 and that values range between 0 and 1\n",
    "    img_ds -= img_ds.mean()\n",
    "    img_ds += 0.5\n",
    "    img_ds[img_ds > 1] = 1\n",
    "    img_ds[img_ds < 0] = 0\n",
    "    # Return the original screenshot and processed image\n",
    "    return ss, img_ds\n",
    "    # STUDENT CODE END"
   ]
  },
  {
   "source": [
    "## Simulation Functions\n",
    "To simulate our taxi controller, we need to implement a *closed-loop system*. We will use the same components as the to create our closed-loop system as we did before, but we will need to make a few changes to each component to use our images. At each time step, we want to:\n",
    "\n",
    "1. Get the current state of the system\n",
    "2. Determine our control input using the state (steering angle)\n",
    "3. Feed the current state and control input into the dynamics function to determine the next state\n",
    "4. Go back to step 1!\n",
    "\n",
    "Like before, we will make separate functions for steps 1-3."
   ],
   "cell_type": "markdown",
   "metadata": {}
  },
  {
   "source": [
    "### 1. Get the current state\n",
    "This function was pretty simple before when we knew the current state. This time, we need to get predictions for the state using the images from the aircraft and our neural network. Fill in the function below to get the predictions for the state.\n",
    "\n",
    "HINT: to get a the network prediction for a specific image, use `model.predict(img)[0]` where `img` is an image of size 1 x 128."
   ],
   "cell_type": "markdown",
   "metadata": {}
  },
  {
   "cell_type": "code",
   "execution_count": 4,
   "metadata": {},
   "outputs": [],
   "source": [
    "def getState(client, image, model):\n",
    "    \"\"\" Returns the true crosstrack error (meters) and\n",
    "        heading error, (degrees) to simulate fully \n",
    "        oberservable control\n",
    "        Args:\n",
    "            client: XPlane Client\n",
    "            image: 8x16 grayscale preprocessed image of the runway\n",
    "            model: neural network model used to predict the state as a keras model\n",
    "    \"\"\"\n",
    "    # STUDENT CODE START\n",
    "    # Reshape the image to be 1 x 128\n",
    "    image_reshaped = image.reshape((1, 128))\n",
    "    # Pass the image through the network to get the predictions\n",
    "    preds = model.predict(image_reshaped)[0]\n",
    "    # Use the predictions to return the crosstrack and heading error\n",
    "    return preds[0], preds[1]\n",
    "    # STUDENT CODE END"
   ]
  },
  {
   "source": [
    "### 2. Determine the control input\n",
    "\n",
    "We will still use the same control function, just on our predicted state rather than the true state. Thus, you can just copy your `getControl` function from the TaxiController notebook below:"
   ],
   "cell_type": "markdown",
   "metadata": {}
  },
  {
   "cell_type": "code",
   "execution_count": 5,
   "metadata": {},
   "outputs": [],
   "source": [
    "def getControl(client, cte, he):\n",
    "    \"\"\" Returns steering angle command using proportional control\n",
    "        Args:\n",
    "            client: XPlane Client\n",
    "            cte: current estimate of the crosstrack error, x (meters)\n",
    "            he: current estimate of the heading error, theta (degrees)\n",
    "    \"\"\"\n",
    "    # STUDENT CODE START\n",
    "    cte_gain = -0.74\n",
    "    he_gain = -0.44\n",
    "    return cte_gain * cte + he_gain * he\n",
    "    # STUDENT CODE END"
   ]
  },
  {
   "source": [
    "### 3. Get the next state\n",
    "We will also use the same dynamics function. Copy your `dynamics` function from the previous notebook below:"
   ],
   "cell_type": "markdown",
   "metadata": {}
  },
  {
   "cell_type": "code",
   "execution_count": 6,
   "metadata": {},
   "outputs": [],
   "source": [
    "def dynamics(cte, dtp, he, phi_deg, dt=0.05, v=5):\n",
    "    \"\"\" dynamics model (returns next state)\n",
    "        Args:\n",
    "            cte: current crosstrack error (meters)\n",
    "            dtp: current downtrack position (meters)\n",
    "            he: current heading error (degrees)\n",
    "            phi_deg: steering angle input (degrees)\n",
    "            -------------------------------\n",
    "            dt: time step (seconds)\n",
    "            v: speed (m/s)\n",
    "    \"\"\"\n",
    "\n",
    "    he_rad = np.deg2rad(he)\n",
    "\n",
    "    # STUDENT CODE START\n",
    "    cte_next = cte + v * np.sin(he_rad) * dt\n",
    "    dtp_next = dtp + v * np.cos(he_rad) * dt\n",
    "    he_next = he + phi_deg * dt\n",
    "    # STUDENT CODE END\n",
    "\n",
    "    return cte_next, he_next, dtp_next"
   ]
  },
  {
   "source": [
    "### Put it all together!\n",
    "We can now put everything together into a single simulation function. We have started by intializing some variables for you. Your job is to fill in the for loop that will simulate the closed-loop system. Here is a rough outline of the steps your code should follow:\n",
    "\n",
    "1. **Store the current crosstrack error, heading error, and downtrack position**. We want to keep track of the trajectory of the aircraft during our simulation so that we can plot it and analyze it after. To do this, we have defined three arrays for you: `cte_history`, `he_history`, and `dtp_history`. To start each loop iteration, you should store the values of these variables at the next slot in the array.\n",
    "2. **Decide if we should update our control**. Most real-world systems operate at a specific frequency, meaning that they only update their control every so often. For our simulation, we will only update our control (steering angle) on certain iterations of the loop controlled by the `ctrl_every` input. The default for this input is 20, so we only want to update our control at iteration 0, 20, 40, 60, 80, etc. What condition can we use to determine this? HINT: check out (python's modulo operator)[https://www.freecodecamp.org/news/the-python-modulo-operator-what-does-the-symbol-mean-in-python-solved/]. Can you come up with a condition using this operator that would only be true when i is a multiple of `ctrl_every`?\n",
    "3. **If we should update our control, update it**. To do this, we will first need to obtain an image of the screen so that our aircraft can predict the state. Then, we can get the cte and he using the `getState` function and then input those into the `getControl` function to get a new value for `phiDeg`.\n",
    "4. **Get the next state based on the dynamics**. Call your dynamics function with the appropriate inputs.\n",
    "5. **Tell the simulator to move to that state**. You can use the function `setHomeState(client, cte, dtp, he)`"
   ],
   "cell_type": "markdown",
   "metadata": {}
  },
  {
   "cell_type": "code",
   "execution_count": 7,
   "metadata": {},
   "outputs": [],
   "source": [
    "def simulate_controller(client, startCTE, startHE, startDTP, getState, getControl, model,\n",
    "                               dt=0.05, ctrlEvery=20, nsteps = 400, simSpeed=1.0, screenShot = mss.mss()):\n",
    "    \"\"\" Simulates a controller, overriding the built-in XPlane-11 dynamics to model the aircraft\n",
    "        as a Dubin's car\n",
    "        Args:\n",
    "            client: XPlane Client\n",
    "            startCTE: Starting crosstrack error (meters)\n",
    "            startHE: Starting heading error (degrees)\n",
    "            startDTP: Starting downtrack position (meters)\n",
    "            getState: Function to estimate the current crosstrack and heading errors.\n",
    "                      Takes in an XPlane client and returns the crosstrack and\n",
    "                      heading error estimates\n",
    "            getControl: Function to perform control based on the state\n",
    "                        Takes in an XPlane client, the current crosstrack error estimate,\n",
    "                        and the current heading error estimate and returns a control effort\n",
    "            model: neural network model used to predict the state as a keras model\n",
    "            -------------------\n",
    "            dt: time step (seconds)\n",
    "            crtlEvery: Frequency to get new control input \n",
    "                       (e.g. if dt=0.5, a value of 20 for ctrlEvery will perform control \n",
    "                       at a 1 Hz rate)\n",
    "            nsteps: Number of time steps to run the simulation for\n",
    "            simSpeed: increase beyond 1 to speed up simulation\n",
    "            screenShot: mss screenshot object\n",
    "    \"\"\"\n",
    "    # Reset to the desired starting position\n",
    "    client.sendDREF(\"sim/time/sim_speed\", simSpeed)\n",
    "    reset(client, cteInit=startCTE,\n",
    "                      heInit=startHE, dtpInit=startDTP)\n",
    "    sendBrake(client, 0)\n",
    "\n",
    "    time.sleep(5)  # 5 seconds to get terminal window out of the way\n",
    "\n",
    "    # Initialize the crosstrack error, heading error, and downtrack position\n",
    "    cte = startCTE\n",
    "    he = startHE\n",
    "    dtp = startDTP\n",
    "\n",
    "    # Initialize the steering angle to 0 degrees\n",
    "    phiDeg = 0.0 # degrees\n",
    "\n",
    "    # Initialize arrays of zeros to store the results in\n",
    "    cte_history = np.zeros(nsteps)\n",
    "    he_history = np.zeros(nsteps)\n",
    "    dtp_history = np.zeros(nsteps)\n",
    "\n",
    "    # STUDENT CODE START\n",
    "    for i in range(nsteps): # Repeat for nsteps\n",
    "        # Record the current cte, he, and dtp into their corresponding arrays\n",
    "        cte_history[i] = cte\n",
    "        he_history[i] = he\n",
    "        dtp_history[i] = dtp\n",
    "\n",
    "        # If we should change our control\n",
    "        if i % ctrlEvery == 0:\n",
    "            # Get the current image\n",
    "            ss, img_ds = getCurrentImage(screenShot)\n",
    "            # Get the current state\n",
    "            cte_pred, he_pred = getState(client, img_ds, model)\n",
    "            # Use the current state to get the control\n",
    "            phiDeg = getControl(client, cte_pred, he_pred)\n",
    "\n",
    "        # Update the cte, he, and dtp using the dynamics function\n",
    "        cte, he, dtp = dynamics(cte, dtp, he, phiDeg, dt)\n",
    "        # Set the simulator to move to the next state\n",
    "        setHomeState(client, cte, dtp, he)\n",
    "        # Sleep for 0.03 seconds to give the simulator time to update everything\n",
    "        time.sleep(0.03)\n",
    "    # STUDENT CODE END\n",
    "\n",
    "    return cte_history, he_history, dtp_history"
   ]
  },
  {
   "source": [
    "## Test your controller!"
   ],
   "cell_type": "markdown",
   "metadata": {}
  },
  {
   "source": [
    "### Specify the settings\n",
    "\n",
    "The cell below defines some settings for the simulator such as the time of day and weather conditions. You can just leave these as is for now."
   ],
   "cell_type": "markdown",
   "metadata": {}
  },
  {
   "cell_type": "code",
   "execution_count": 8,
   "metadata": {},
   "outputs": [],
   "source": [
    "# Time of day in local time, e.g. 8.0 = 8AM, 17.0 = 5PM\n",
    "TIME_OF_DAY = 8.0\n",
    "\n",
    "# Cloud cover (higher numbers are cloudier/darker)\n",
    "# 0 = Clear, 1 = Cirrus, 2 = Scattered, 3 = Broken, 4 = Overcast\n",
    "CLOUD_COVER = 0\n",
    "\n",
    "# Start downtrack position (322 m is a good starting place)\n",
    "START_DTP = 322.0\n",
    "\n",
    "# Set weather and time of day\n",
    "client.sendDREF(\"sim/time/zulu_time_sec\", TIME_OF_DAY * 3600 + 8 * 3600)\n",
    "client.sendDREF(\"sim/weather/cloud_type[0]\", CLOUD_COVER)"
   ]
  },
  {
   "cell_type": "code",
   "execution_count": 9,
   "metadata": {},
   "outputs": [
    {
     "output_type": "stream",
     "name": "stdout",
     "text": [
      "WARNING:tensorflow:Error in loading the saved optimizer state. As a result, your model is starting with a freshly initialized optimizer.\n"
     ]
    }
   ],
   "source": [
    "model = load_model(\"Taxinet.h5\")"
   ]
  },
  {
   "source": [
    "### Run a single simulation\n",
    "The line below will run a single simulation and store the results in arrays called `cte_history`, `he_history`, and `dtp_history`. Run this cell now to watch your controller in action! It will pause for 5 seconds before starting and then run for 20 seconds."
   ],
   "cell_type": "markdown",
   "metadata": {}
  },
  {
   "cell_type": "code",
   "execution_count": 10,
   "metadata": {},
   "outputs": [],
   "source": [
    "time.sleep(5)\n",
    "cte_history, he_history, dtp_history = simulate_controller(client, 6.0, 0.0, START_DTP, getState, getControl, model)"
   ]
  },
  {
   "source": [
    "### Plot the results\n",
    "\n",
    "Sometime, it is helpful to visualize the trajectory that the aircraft followed. We can use this to see if the aircraft is behaving how we expect it to. Also, we can use it to show others how our system performs (like in your final presentation!). The following two cells contain code for you to do this. The first cell imports some python plotting packages that you will use. The second cell plots the trajectory on the road. We have implemented a function for you to get a plot of the road in the `plotting_helper.py` file."
   ],
   "cell_type": "markdown",
   "metadata": {}
  },
  {
   "source": [
    "import matplotlib.pyplot as plt\n",
    "from matplotlib.path import Path\n",
    "import matplotlib.patches as patches"
   ],
   "cell_type": "code",
   "metadata": {},
   "execution_count": 11,
   "outputs": []
  },
  {
   "cell_type": "code",
   "execution_count": 12,
   "metadata": {},
   "outputs": [
    {
     "output_type": "display_data",
     "data": {
      "text/plain": "<Figure size 720x144 with 1 Axes>",
      "image/svg+xml": "<?xml version=\"1.0\" encoding=\"utf-8\" standalone=\"no\"?>\n<!DOCTYPE svg PUBLIC \"-//W3C//DTD SVG 1.1//EN\"\n  \"http://www.w3.org/Graphics/SVG/1.1/DTD/svg11.dtd\">\n<svg height=\"153.47625pt\" version=\"1.1\" viewBox=\"0 0 623.726562 153.47625\" width=\"623.726562pt\" xmlns=\"http://www.w3.org/2000/svg\" xmlns:xlink=\"http://www.w3.org/1999/xlink\">\n <metadata>\n  <rdf:RDF xmlns:cc=\"http://creativecommons.org/ns#\" xmlns:dc=\"http://purl.org/dc/elements/1.1/\" xmlns:rdf=\"http://www.w3.org/1999/02/22-rdf-syntax-ns#\">\n   <cc:Work>\n    <dc:type rdf:resource=\"http://purl.org/dc/dcmitype/StillImage\"/>\n    <dc:date>2021-06-25T09:19:59.739233</dc:date>\n    <dc:format>image/svg+xml</dc:format>\n    <dc:creator>\n     <cc:Agent>\n      <dc:title>Matplotlib v3.4.2, https://matplotlib.org/</dc:title>\n     </cc:Agent>\n    </dc:creator>\n   </cc:Work>\n  </rdf:RDF>\n </metadata>\n <defs>\n  <style type=\"text/css\">*{stroke-linecap:butt;stroke-linejoin:round;}</style>\n </defs>\n <g id=\"figure_1\">\n  <g id=\"patch_1\">\n   <path d=\"M 0 153.47625 \nL 623.726562 153.47625 \nL 623.726562 0 \nL 0 0 \nz\n\" style=\"fill:none;\"/>\n  </g>\n  <g id=\"axes_1\">\n   <g id=\"patch_2\">\n    <path d=\"M 48.982813 115.92 \nL 606.982813 115.92 \nL 606.982813 7.2 \nL 48.982813 7.2 \nz\n\" style=\"fill:#ffffff;\"/>\n   </g>\n   <g id=\"patch_3\">\n    <path clip-path=\"url(#pc062d13599)\" d=\"M 48.982813 115.92 \nL 48.982813 106.86 \nL 606.982813 106.86 \nL 606.982813 115.92 \nz\n\" style=\"fill:#008000;stroke:#000000;stroke-linejoin:miter;stroke-width:2;\"/>\n   </g>\n   <g id=\"patch_4\">\n    <path clip-path=\"url(#pc062d13599)\" d=\"M 48.982813 16.26 \nL 48.982813 7.2 \nL 606.982813 7.2 \nL 606.982813 16.26 \nz\n\" style=\"fill:#008000;stroke:#000000;stroke-linejoin:miter;stroke-width:2;\"/>\n   </g>\n   <g id=\"patch_5\">\n    <path clip-path=\"url(#pc062d13599)\" d=\"M 48.982813 106.86 \nL 48.982813 16.26 \nL 606.982813 16.26 \nL 606.982813 106.86 \nz\n\" style=\"fill:#808080;stroke:#000000;stroke-linejoin:miter;stroke-width:2;\"/>\n   </g>\n   <g id=\"matplotlib.axis_1\">\n    <g id=\"xtick_1\">\n     <g id=\"line2d_1\">\n      <defs>\n       <path d=\"M 0 0 \nL 0 3.5 \n\" id=\"m51109d9695\" style=\"stroke:#000000;stroke-width:0.8;\"/>\n      </defs>\n      <g>\n       <use style=\"stroke:#000000;stroke-width:0.8;\" x=\"48.982813\" xlink:href=\"#m51109d9695\" y=\"115.92\"/>\n      </g>\n     </g>\n     <g id=\"text_1\">\n      <!-- 0 -->\n      <g transform=\"translate(45.801563 130.518438)scale(0.1 -0.1)\">\n       <defs>\n        <path d=\"M 2034 4250 \nQ 1547 4250 1301 3770 \nQ 1056 3291 1056 2328 \nQ 1056 1369 1301 889 \nQ 1547 409 2034 409 \nQ 2525 409 2770 889 \nQ 3016 1369 3016 2328 \nQ 3016 3291 2770 3770 \nQ 2525 4250 2034 4250 \nz\nM 2034 4750 \nQ 2819 4750 3233 4129 \nQ 3647 3509 3647 2328 \nQ 3647 1150 3233 529 \nQ 2819 -91 2034 -91 \nQ 1250 -91 836 529 \nQ 422 1150 422 2328 \nQ 422 3509 836 4129 \nQ 1250 4750 2034 4750 \nz\n\" id=\"DejaVuSans-30\" transform=\"scale(0.015625)\"/>\n       </defs>\n       <use xlink:href=\"#DejaVuSans-30\"/>\n      </g>\n     </g>\n    </g>\n    <g id=\"xtick_2\">\n     <g id=\"line2d_2\">\n      <g>\n       <use style=\"stroke:#000000;stroke-width:0.8;\" x=\"160.582812\" xlink:href=\"#m51109d9695\" y=\"115.92\"/>\n      </g>\n     </g>\n     <g id=\"text_2\">\n      <!-- 20 -->\n      <g transform=\"translate(154.220312 130.518438)scale(0.1 -0.1)\">\n       <defs>\n        <path d=\"M 1228 531 \nL 3431 531 \nL 3431 0 \nL 469 0 \nL 469 531 \nQ 828 903 1448 1529 \nQ 2069 2156 2228 2338 \nQ 2531 2678 2651 2914 \nQ 2772 3150 2772 3378 \nQ 2772 3750 2511 3984 \nQ 2250 4219 1831 4219 \nQ 1534 4219 1204 4116 \nQ 875 4013 500 3803 \nL 500 4441 \nQ 881 4594 1212 4672 \nQ 1544 4750 1819 4750 \nQ 2544 4750 2975 4387 \nQ 3406 4025 3406 3419 \nQ 3406 3131 3298 2873 \nQ 3191 2616 2906 2266 \nQ 2828 2175 2409 1742 \nQ 1991 1309 1228 531 \nz\n\" id=\"DejaVuSans-32\" transform=\"scale(0.015625)\"/>\n       </defs>\n       <use xlink:href=\"#DejaVuSans-32\"/>\n       <use x=\"63.623047\" xlink:href=\"#DejaVuSans-30\"/>\n      </g>\n     </g>\n    </g>\n    <g id=\"xtick_3\">\n     <g id=\"line2d_3\">\n      <g>\n       <use style=\"stroke:#000000;stroke-width:0.8;\" x=\"272.182813\" xlink:href=\"#m51109d9695\" y=\"115.92\"/>\n      </g>\n     </g>\n     <g id=\"text_3\">\n      <!-- 40 -->\n      <g transform=\"translate(265.820312 130.518438)scale(0.1 -0.1)\">\n       <defs>\n        <path d=\"M 2419 4116 \nL 825 1625 \nL 2419 1625 \nL 2419 4116 \nz\nM 2253 4666 \nL 3047 4666 \nL 3047 1625 \nL 3713 1625 \nL 3713 1100 \nL 3047 1100 \nL 3047 0 \nL 2419 0 \nL 2419 1100 \nL 313 1100 \nL 313 1709 \nL 2253 4666 \nz\n\" id=\"DejaVuSans-34\" transform=\"scale(0.015625)\"/>\n       </defs>\n       <use xlink:href=\"#DejaVuSans-34\"/>\n       <use x=\"63.623047\" xlink:href=\"#DejaVuSans-30\"/>\n      </g>\n     </g>\n    </g>\n    <g id=\"xtick_4\">\n     <g id=\"line2d_4\">\n      <g>\n       <use style=\"stroke:#000000;stroke-width:0.8;\" x=\"383.782813\" xlink:href=\"#m51109d9695\" y=\"115.92\"/>\n      </g>\n     </g>\n     <g id=\"text_4\">\n      <!-- 60 -->\n      <g transform=\"translate(377.420313 130.518438)scale(0.1 -0.1)\">\n       <defs>\n        <path d=\"M 2113 2584 \nQ 1688 2584 1439 2293 \nQ 1191 2003 1191 1497 \nQ 1191 994 1439 701 \nQ 1688 409 2113 409 \nQ 2538 409 2786 701 \nQ 3034 994 3034 1497 \nQ 3034 2003 2786 2293 \nQ 2538 2584 2113 2584 \nz\nM 3366 4563 \nL 3366 3988 \nQ 3128 4100 2886 4159 \nQ 2644 4219 2406 4219 \nQ 1781 4219 1451 3797 \nQ 1122 3375 1075 2522 \nQ 1259 2794 1537 2939 \nQ 1816 3084 2150 3084 \nQ 2853 3084 3261 2657 \nQ 3669 2231 3669 1497 \nQ 3669 778 3244 343 \nQ 2819 -91 2113 -91 \nQ 1303 -91 875 529 \nQ 447 1150 447 2328 \nQ 447 3434 972 4092 \nQ 1497 4750 2381 4750 \nQ 2619 4750 2861 4703 \nQ 3103 4656 3366 4563 \nz\n\" id=\"DejaVuSans-36\" transform=\"scale(0.015625)\"/>\n       </defs>\n       <use xlink:href=\"#DejaVuSans-36\"/>\n       <use x=\"63.623047\" xlink:href=\"#DejaVuSans-30\"/>\n      </g>\n     </g>\n    </g>\n    <g id=\"xtick_5\">\n     <g id=\"line2d_5\">\n      <g>\n       <use style=\"stroke:#000000;stroke-width:0.8;\" x=\"495.382812\" xlink:href=\"#m51109d9695\" y=\"115.92\"/>\n      </g>\n     </g>\n     <g id=\"text_5\">\n      <!-- 80 -->\n      <g transform=\"translate(489.020312 130.518438)scale(0.1 -0.1)\">\n       <defs>\n        <path d=\"M 2034 2216 \nQ 1584 2216 1326 1975 \nQ 1069 1734 1069 1313 \nQ 1069 891 1326 650 \nQ 1584 409 2034 409 \nQ 2484 409 2743 651 \nQ 3003 894 3003 1313 \nQ 3003 1734 2745 1975 \nQ 2488 2216 2034 2216 \nz\nM 1403 2484 \nQ 997 2584 770 2862 \nQ 544 3141 544 3541 \nQ 544 4100 942 4425 \nQ 1341 4750 2034 4750 \nQ 2731 4750 3128 4425 \nQ 3525 4100 3525 3541 \nQ 3525 3141 3298 2862 \nQ 3072 2584 2669 2484 \nQ 3125 2378 3379 2068 \nQ 3634 1759 3634 1313 \nQ 3634 634 3220 271 \nQ 2806 -91 2034 -91 \nQ 1263 -91 848 271 \nQ 434 634 434 1313 \nQ 434 1759 690 2068 \nQ 947 2378 1403 2484 \nz\nM 1172 3481 \nQ 1172 3119 1398 2916 \nQ 1625 2713 2034 2713 \nQ 2441 2713 2670 2916 \nQ 2900 3119 2900 3481 \nQ 2900 3844 2670 4047 \nQ 2441 4250 2034 4250 \nQ 1625 4250 1398 4047 \nQ 1172 3844 1172 3481 \nz\n\" id=\"DejaVuSans-38\" transform=\"scale(0.015625)\"/>\n       </defs>\n       <use xlink:href=\"#DejaVuSans-38\"/>\n       <use x=\"63.623047\" xlink:href=\"#DejaVuSans-30\"/>\n      </g>\n     </g>\n    </g>\n    <g id=\"xtick_6\">\n     <g id=\"line2d_6\">\n      <g>\n       <use style=\"stroke:#000000;stroke-width:0.8;\" x=\"606.982813\" xlink:href=\"#m51109d9695\" y=\"115.92\"/>\n      </g>\n     </g>\n     <g id=\"text_6\">\n      <!-- 100 -->\n      <g transform=\"translate(597.439062 130.518438)scale(0.1 -0.1)\">\n       <defs>\n        <path d=\"M 794 531 \nL 1825 531 \nL 1825 4091 \nL 703 3866 \nL 703 4441 \nL 1819 4666 \nL 2450 4666 \nL 2450 531 \nL 3481 531 \nL 3481 0 \nL 794 0 \nL 794 531 \nz\n\" id=\"DejaVuSans-31\" transform=\"scale(0.015625)\"/>\n       </defs>\n       <use xlink:href=\"#DejaVuSans-31\"/>\n       <use x=\"63.623047\" xlink:href=\"#DejaVuSans-30\"/>\n       <use x=\"127.246094\" xlink:href=\"#DejaVuSans-30\"/>\n      </g>\n     </g>\n    </g>\n    <g id=\"text_7\">\n     <!-- Downtrack Position (m) -->\n     <g transform=\"translate(269.677344 144.196562)scale(0.1 -0.1)\">\n      <defs>\n       <path d=\"M 1259 4147 \nL 1259 519 \nL 2022 519 \nQ 2988 519 3436 956 \nQ 3884 1394 3884 2338 \nQ 3884 3275 3436 3711 \nQ 2988 4147 2022 4147 \nL 1259 4147 \nz\nM 628 4666 \nL 1925 4666 \nQ 3281 4666 3915 4102 \nQ 4550 3538 4550 2338 \nQ 4550 1131 3912 565 \nQ 3275 0 1925 0 \nL 628 0 \nL 628 4666 \nz\n\" id=\"DejaVuSans-44\" transform=\"scale(0.015625)\"/>\n       <path d=\"M 1959 3097 \nQ 1497 3097 1228 2736 \nQ 959 2375 959 1747 \nQ 959 1119 1226 758 \nQ 1494 397 1959 397 \nQ 2419 397 2687 759 \nQ 2956 1122 2956 1747 \nQ 2956 2369 2687 2733 \nQ 2419 3097 1959 3097 \nz\nM 1959 3584 \nQ 2709 3584 3137 3096 \nQ 3566 2609 3566 1747 \nQ 3566 888 3137 398 \nQ 2709 -91 1959 -91 \nQ 1206 -91 779 398 \nQ 353 888 353 1747 \nQ 353 2609 779 3096 \nQ 1206 3584 1959 3584 \nz\n\" id=\"DejaVuSans-6f\" transform=\"scale(0.015625)\"/>\n       <path d=\"M 269 3500 \nL 844 3500 \nL 1563 769 \nL 2278 3500 \nL 2956 3500 \nL 3675 769 \nL 4391 3500 \nL 4966 3500 \nL 4050 0 \nL 3372 0 \nL 2619 2869 \nL 1863 0 \nL 1184 0 \nL 269 3500 \nz\n\" id=\"DejaVuSans-77\" transform=\"scale(0.015625)\"/>\n       <path d=\"M 3513 2113 \nL 3513 0 \nL 2938 0 \nL 2938 2094 \nQ 2938 2591 2744 2837 \nQ 2550 3084 2163 3084 \nQ 1697 3084 1428 2787 \nQ 1159 2491 1159 1978 \nL 1159 0 \nL 581 0 \nL 581 3500 \nL 1159 3500 \nL 1159 2956 \nQ 1366 3272 1645 3428 \nQ 1925 3584 2291 3584 \nQ 2894 3584 3203 3211 \nQ 3513 2838 3513 2113 \nz\n\" id=\"DejaVuSans-6e\" transform=\"scale(0.015625)\"/>\n       <path d=\"M 1172 4494 \nL 1172 3500 \nL 2356 3500 \nL 2356 3053 \nL 1172 3053 \nL 1172 1153 \nQ 1172 725 1289 603 \nQ 1406 481 1766 481 \nL 2356 481 \nL 2356 0 \nL 1766 0 \nQ 1100 0 847 248 \nQ 594 497 594 1153 \nL 594 3053 \nL 172 3053 \nL 172 3500 \nL 594 3500 \nL 594 4494 \nL 1172 4494 \nz\n\" id=\"DejaVuSans-74\" transform=\"scale(0.015625)\"/>\n       <path d=\"M 2631 2963 \nQ 2534 3019 2420 3045 \nQ 2306 3072 2169 3072 \nQ 1681 3072 1420 2755 \nQ 1159 2438 1159 1844 \nL 1159 0 \nL 581 0 \nL 581 3500 \nL 1159 3500 \nL 1159 2956 \nQ 1341 3275 1631 3429 \nQ 1922 3584 2338 3584 \nQ 2397 3584 2469 3576 \nQ 2541 3569 2628 3553 \nL 2631 2963 \nz\n\" id=\"DejaVuSans-72\" transform=\"scale(0.015625)\"/>\n       <path d=\"M 2194 1759 \nQ 1497 1759 1228 1600 \nQ 959 1441 959 1056 \nQ 959 750 1161 570 \nQ 1363 391 1709 391 \nQ 2188 391 2477 730 \nQ 2766 1069 2766 1631 \nL 2766 1759 \nL 2194 1759 \nz\nM 3341 1997 \nL 3341 0 \nL 2766 0 \nL 2766 531 \nQ 2569 213 2275 61 \nQ 1981 -91 1556 -91 \nQ 1019 -91 701 211 \nQ 384 513 384 1019 \nQ 384 1609 779 1909 \nQ 1175 2209 1959 2209 \nL 2766 2209 \nL 2766 2266 \nQ 2766 2663 2505 2880 \nQ 2244 3097 1772 3097 \nQ 1472 3097 1187 3025 \nQ 903 2953 641 2809 \nL 641 3341 \nQ 956 3463 1253 3523 \nQ 1550 3584 1831 3584 \nQ 2591 3584 2966 3190 \nQ 3341 2797 3341 1997 \nz\n\" id=\"DejaVuSans-61\" transform=\"scale(0.015625)\"/>\n       <path d=\"M 3122 3366 \nL 3122 2828 \nQ 2878 2963 2633 3030 \nQ 2388 3097 2138 3097 \nQ 1578 3097 1268 2742 \nQ 959 2388 959 1747 \nQ 959 1106 1268 751 \nQ 1578 397 2138 397 \nQ 2388 397 2633 464 \nQ 2878 531 3122 666 \nL 3122 134 \nQ 2881 22 2623 -34 \nQ 2366 -91 2075 -91 \nQ 1284 -91 818 406 \nQ 353 903 353 1747 \nQ 353 2603 823 3093 \nQ 1294 3584 2113 3584 \nQ 2378 3584 2631 3529 \nQ 2884 3475 3122 3366 \nz\n\" id=\"DejaVuSans-63\" transform=\"scale(0.015625)\"/>\n       <path d=\"M 581 4863 \nL 1159 4863 \nL 1159 1991 \nL 2875 3500 \nL 3609 3500 \nL 1753 1863 \nL 3688 0 \nL 2938 0 \nL 1159 1709 \nL 1159 0 \nL 581 0 \nL 581 4863 \nz\n\" id=\"DejaVuSans-6b\" transform=\"scale(0.015625)\"/>\n       <path id=\"DejaVuSans-20\" transform=\"scale(0.015625)\"/>\n       <path d=\"M 1259 4147 \nL 1259 2394 \nL 2053 2394 \nQ 2494 2394 2734 2622 \nQ 2975 2850 2975 3272 \nQ 2975 3691 2734 3919 \nQ 2494 4147 2053 4147 \nL 1259 4147 \nz\nM 628 4666 \nL 2053 4666 \nQ 2838 4666 3239 4311 \nQ 3641 3956 3641 3272 \nQ 3641 2581 3239 2228 \nQ 2838 1875 2053 1875 \nL 1259 1875 \nL 1259 0 \nL 628 0 \nL 628 4666 \nz\n\" id=\"DejaVuSans-50\" transform=\"scale(0.015625)\"/>\n       <path d=\"M 2834 3397 \nL 2834 2853 \nQ 2591 2978 2328 3040 \nQ 2066 3103 1784 3103 \nQ 1356 3103 1142 2972 \nQ 928 2841 928 2578 \nQ 928 2378 1081 2264 \nQ 1234 2150 1697 2047 \nL 1894 2003 \nQ 2506 1872 2764 1633 \nQ 3022 1394 3022 966 \nQ 3022 478 2636 193 \nQ 2250 -91 1575 -91 \nQ 1294 -91 989 -36 \nQ 684 19 347 128 \nL 347 722 \nQ 666 556 975 473 \nQ 1284 391 1588 391 \nQ 1994 391 2212 530 \nQ 2431 669 2431 922 \nQ 2431 1156 2273 1281 \nQ 2116 1406 1581 1522 \nL 1381 1569 \nQ 847 1681 609 1914 \nQ 372 2147 372 2553 \nQ 372 3047 722 3315 \nQ 1072 3584 1716 3584 \nQ 2034 3584 2315 3537 \nQ 2597 3491 2834 3397 \nz\n\" id=\"DejaVuSans-73\" transform=\"scale(0.015625)\"/>\n       <path d=\"M 603 3500 \nL 1178 3500 \nL 1178 0 \nL 603 0 \nL 603 3500 \nz\nM 603 4863 \nL 1178 4863 \nL 1178 4134 \nL 603 4134 \nL 603 4863 \nz\n\" id=\"DejaVuSans-69\" transform=\"scale(0.015625)\"/>\n       <path d=\"M 1984 4856 \nQ 1566 4138 1362 3434 \nQ 1159 2731 1159 2009 \nQ 1159 1288 1364 580 \nQ 1569 -128 1984 -844 \nL 1484 -844 \nQ 1016 -109 783 600 \nQ 550 1309 550 2009 \nQ 550 2706 781 3412 \nQ 1013 4119 1484 4856 \nL 1984 4856 \nz\n\" id=\"DejaVuSans-28\" transform=\"scale(0.015625)\"/>\n       <path d=\"M 3328 2828 \nQ 3544 3216 3844 3400 \nQ 4144 3584 4550 3584 \nQ 5097 3584 5394 3201 \nQ 5691 2819 5691 2113 \nL 5691 0 \nL 5113 0 \nL 5113 2094 \nQ 5113 2597 4934 2840 \nQ 4756 3084 4391 3084 \nQ 3944 3084 3684 2787 \nQ 3425 2491 3425 1978 \nL 3425 0 \nL 2847 0 \nL 2847 2094 \nQ 2847 2600 2669 2842 \nQ 2491 3084 2119 3084 \nQ 1678 3084 1418 2786 \nQ 1159 2488 1159 1978 \nL 1159 0 \nL 581 0 \nL 581 3500 \nL 1159 3500 \nL 1159 2956 \nQ 1356 3278 1631 3431 \nQ 1906 3584 2284 3584 \nQ 2666 3584 2933 3390 \nQ 3200 3197 3328 2828 \nz\n\" id=\"DejaVuSans-6d\" transform=\"scale(0.015625)\"/>\n       <path d=\"M 513 4856 \nL 1013 4856 \nQ 1481 4119 1714 3412 \nQ 1947 2706 1947 2009 \nQ 1947 1309 1714 600 \nQ 1481 -109 1013 -844 \nL 513 -844 \nQ 928 -128 1133 580 \nQ 1338 1288 1338 2009 \nQ 1338 2731 1133 3434 \nQ 928 4138 513 4856 \nz\n\" id=\"DejaVuSans-29\" transform=\"scale(0.015625)\"/>\n      </defs>\n      <use xlink:href=\"#DejaVuSans-44\"/>\n      <use x=\"77.001953\" xlink:href=\"#DejaVuSans-6f\"/>\n      <use x=\"138.183594\" xlink:href=\"#DejaVuSans-77\"/>\n      <use x=\"219.970703\" xlink:href=\"#DejaVuSans-6e\"/>\n      <use x=\"283.349609\" xlink:href=\"#DejaVuSans-74\"/>\n      <use x=\"322.558594\" xlink:href=\"#DejaVuSans-72\"/>\n      <use x=\"363.671875\" xlink:href=\"#DejaVuSans-61\"/>\n      <use x=\"424.951172\" xlink:href=\"#DejaVuSans-63\"/>\n      <use x=\"479.931641\" xlink:href=\"#DejaVuSans-6b\"/>\n      <use x=\"537.841797\" xlink:href=\"#DejaVuSans-20\"/>\n      <use x=\"569.628906\" xlink:href=\"#DejaVuSans-50\"/>\n      <use x=\"626.306641\" xlink:href=\"#DejaVuSans-6f\"/>\n      <use x=\"687.488281\" xlink:href=\"#DejaVuSans-73\"/>\n      <use x=\"739.587891\" xlink:href=\"#DejaVuSans-69\"/>\n      <use x=\"767.371094\" xlink:href=\"#DejaVuSans-74\"/>\n      <use x=\"806.580078\" xlink:href=\"#DejaVuSans-69\"/>\n      <use x=\"834.363281\" xlink:href=\"#DejaVuSans-6f\"/>\n      <use x=\"895.544922\" xlink:href=\"#DejaVuSans-6e\"/>\n      <use x=\"958.923828\" xlink:href=\"#DejaVuSans-20\"/>\n      <use x=\"990.710938\" xlink:href=\"#DejaVuSans-28\"/>\n      <use x=\"1029.724609\" xlink:href=\"#DejaVuSans-6d\"/>\n      <use x=\"1127.136719\" xlink:href=\"#DejaVuSans-29\"/>\n     </g>\n    </g>\n   </g>\n   <g id=\"matplotlib.axis_2\">\n    <g id=\"ytick_1\">\n     <g id=\"line2d_7\">\n      <defs>\n       <path d=\"M 0 0 \nL -3.5 0 \n\" id=\"m4041f8581b\" style=\"stroke:#000000;stroke-width:0.8;\"/>\n      </defs>\n      <g>\n       <use style=\"stroke:#000000;stroke-width:0.8;\" x=\"48.982813\" xlink:href=\"#m4041f8581b\" y=\"106.86\"/>\n      </g>\n     </g>\n     <g id=\"text_8\">\n      <!-- −10 -->\n      <g transform=\"translate(20.878125 110.659219)scale(0.1 -0.1)\">\n       <defs>\n        <path d=\"M 678 2272 \nL 4684 2272 \nL 4684 1741 \nL 678 1741 \nL 678 2272 \nz\n\" id=\"DejaVuSans-2212\" transform=\"scale(0.015625)\"/>\n       </defs>\n       <use xlink:href=\"#DejaVuSans-2212\"/>\n       <use x=\"83.789062\" xlink:href=\"#DejaVuSans-31\"/>\n       <use x=\"147.412109\" xlink:href=\"#DejaVuSans-30\"/>\n      </g>\n     </g>\n    </g>\n    <g id=\"ytick_2\">\n     <g id=\"line2d_8\">\n      <g>\n       <use style=\"stroke:#000000;stroke-width:0.8;\" x=\"48.982813\" xlink:href=\"#m4041f8581b\" y=\"84.21\"/>\n      </g>\n     </g>\n     <g id=\"text_9\">\n      <!-- −5 -->\n      <g transform=\"translate(27.240625 88.009219)scale(0.1 -0.1)\">\n       <defs>\n        <path d=\"M 691 4666 \nL 3169 4666 \nL 3169 4134 \nL 1269 4134 \nL 1269 2991 \nQ 1406 3038 1543 3061 \nQ 1681 3084 1819 3084 \nQ 2600 3084 3056 2656 \nQ 3513 2228 3513 1497 \nQ 3513 744 3044 326 \nQ 2575 -91 1722 -91 \nQ 1428 -91 1123 -41 \nQ 819 9 494 109 \nL 494 744 \nQ 775 591 1075 516 \nQ 1375 441 1709 441 \nQ 2250 441 2565 725 \nQ 2881 1009 2881 1497 \nQ 2881 1984 2565 2268 \nQ 2250 2553 1709 2553 \nQ 1456 2553 1204 2497 \nQ 953 2441 691 2322 \nL 691 4666 \nz\n\" id=\"DejaVuSans-35\" transform=\"scale(0.015625)\"/>\n       </defs>\n       <use xlink:href=\"#DejaVuSans-2212\"/>\n       <use x=\"83.789062\" xlink:href=\"#DejaVuSans-35\"/>\n      </g>\n     </g>\n    </g>\n    <g id=\"ytick_3\">\n     <g id=\"line2d_9\">\n      <g>\n       <use style=\"stroke:#000000;stroke-width:0.8;\" x=\"48.982813\" xlink:href=\"#m4041f8581b\" y=\"61.56\"/>\n      </g>\n     </g>\n     <g id=\"text_10\">\n      <!-- 0 -->\n      <g transform=\"translate(35.620312 65.359219)scale(0.1 -0.1)\">\n       <use xlink:href=\"#DejaVuSans-30\"/>\n      </g>\n     </g>\n    </g>\n    <g id=\"ytick_4\">\n     <g id=\"line2d_10\">\n      <g>\n       <use style=\"stroke:#000000;stroke-width:0.8;\" x=\"48.982813\" xlink:href=\"#m4041f8581b\" y=\"38.91\"/>\n      </g>\n     </g>\n     <g id=\"text_11\">\n      <!-- 5 -->\n      <g transform=\"translate(35.620312 42.709219)scale(0.1 -0.1)\">\n       <use xlink:href=\"#DejaVuSans-35\"/>\n      </g>\n     </g>\n    </g>\n    <g id=\"ytick_5\">\n     <g id=\"line2d_11\">\n      <g>\n       <use style=\"stroke:#000000;stroke-width:0.8;\" x=\"48.982813\" xlink:href=\"#m4041f8581b\" y=\"16.26\"/>\n      </g>\n     </g>\n     <g id=\"text_12\">\n      <!-- 10 -->\n      <g transform=\"translate(29.257812 20.059219)scale(0.1 -0.1)\">\n       <use xlink:href=\"#DejaVuSans-31\"/>\n       <use x=\"63.623047\" xlink:href=\"#DejaVuSans-30\"/>\n      </g>\n     </g>\n    </g>\n    <g id=\"text_13\">\n     <!-- Crosstrack Error (m) -->\n     <g transform=\"translate(14.798437 112.1225)rotate(-90)scale(0.1 -0.1)\">\n      <defs>\n       <path d=\"M 4122 4306 \nL 4122 3641 \nQ 3803 3938 3442 4084 \nQ 3081 4231 2675 4231 \nQ 1875 4231 1450 3742 \nQ 1025 3253 1025 2328 \nQ 1025 1406 1450 917 \nQ 1875 428 2675 428 \nQ 3081 428 3442 575 \nQ 3803 722 4122 1019 \nL 4122 359 \nQ 3791 134 3420 21 \nQ 3050 -91 2638 -91 \nQ 1578 -91 968 557 \nQ 359 1206 359 2328 \nQ 359 3453 968 4101 \nQ 1578 4750 2638 4750 \nQ 3056 4750 3426 4639 \nQ 3797 4528 4122 4306 \nz\n\" id=\"DejaVuSans-43\" transform=\"scale(0.015625)\"/>\n       <path d=\"M 628 4666 \nL 3578 4666 \nL 3578 4134 \nL 1259 4134 \nL 1259 2753 \nL 3481 2753 \nL 3481 2222 \nL 1259 2222 \nL 1259 531 \nL 3634 531 \nL 3634 0 \nL 628 0 \nL 628 4666 \nz\n\" id=\"DejaVuSans-45\" transform=\"scale(0.015625)\"/>\n      </defs>\n      <use xlink:href=\"#DejaVuSans-43\"/>\n      <use x=\"69.824219\" xlink:href=\"#DejaVuSans-72\"/>\n      <use x=\"108.6875\" xlink:href=\"#DejaVuSans-6f\"/>\n      <use x=\"169.869141\" xlink:href=\"#DejaVuSans-73\"/>\n      <use x=\"221.96875\" xlink:href=\"#DejaVuSans-73\"/>\n      <use x=\"274.068359\" xlink:href=\"#DejaVuSans-74\"/>\n      <use x=\"313.277344\" xlink:href=\"#DejaVuSans-72\"/>\n      <use x=\"354.390625\" xlink:href=\"#DejaVuSans-61\"/>\n      <use x=\"415.669922\" xlink:href=\"#DejaVuSans-63\"/>\n      <use x=\"470.650391\" xlink:href=\"#DejaVuSans-6b\"/>\n      <use x=\"528.560547\" xlink:href=\"#DejaVuSans-20\"/>\n      <use x=\"560.347656\" xlink:href=\"#DejaVuSans-45\"/>\n      <use x=\"623.53125\" xlink:href=\"#DejaVuSans-72\"/>\n      <use x=\"662.894531\" xlink:href=\"#DejaVuSans-72\"/>\n      <use x=\"701.757812\" xlink:href=\"#DejaVuSans-6f\"/>\n      <use x=\"762.939453\" xlink:href=\"#DejaVuSans-72\"/>\n      <use x=\"804.052734\" xlink:href=\"#DejaVuSans-20\"/>\n      <use x=\"835.839844\" xlink:href=\"#DejaVuSans-28\"/>\n      <use x=\"874.853516\" xlink:href=\"#DejaVuSans-6d\"/>\n      <use x=\"972.265625\" xlink:href=\"#DejaVuSans-29\"/>\n     </g>\n    </g>\n   </g>\n   <g id=\"line2d_12\">\n    <path clip-path=\"url(#pc062d13599)\" d=\"M 48.982813 61.56 \nL 606.982813 61.56 \n\" style=\"fill:none;stroke:#ffffff;stroke-dasharray:5.55,2.4;stroke-dashoffset:0;stroke-width:1.5;\"/>\n   </g>\n   <g id=\"line2d_13\">\n    <path clip-path=\"url(#pc062d13599)\" d=\"M 48.982813 34.38 \nL 58.746885 34.470917 \nL 68.504464 34.773907 \nL 78.248563 35.288753 \nL 92.144545 36.282148 \nL 106.012263 37.508532 \nL 125.389426 39.487217 \nL 148.879273 42.133395 \nL 208.28067 48.906363 \nL 229.048928 50.980521 \nL 248.46589 52.682662 \nL 269.29696 54.289307 \nL 291.541766 55.773862 \nL 315.199044 57.115122 \nL 341.656547 58.400964 \nL 366.736873 59.389209 \nL 389.042007 60.0476 \nL 412.749797 60.517461 \nL 437.857511 60.78525 \nL 478.312077 60.923541 \nL 555.036584 61.090216 \nL 602.466453 61.163455 \nL 603.861453 61.16369 \nL 603.861453 61.16369 \n\" style=\"fill:none;stroke:#0000ff;stroke-linecap:square;\"/>\n   </g>\n   <g id=\"patch_6\">\n    <path d=\"M 48.982813 115.92 \nL 48.982813 7.2 \n\" style=\"fill:none;stroke:#000000;stroke-linecap:square;stroke-linejoin:miter;stroke-width:0.8;\"/>\n   </g>\n   <g id=\"patch_7\">\n    <path d=\"M 606.982813 115.92 \nL 606.982813 7.2 \n\" style=\"fill:none;stroke:#000000;stroke-linecap:square;stroke-linejoin:miter;stroke-width:0.8;\"/>\n   </g>\n   <g id=\"patch_8\">\n    <path d=\"M 48.982813 115.92 \nL 606.982813 115.92 \n\" style=\"fill:none;stroke:#000000;stroke-linecap:square;stroke-linejoin:miter;stroke-width:0.8;\"/>\n   </g>\n   <g id=\"patch_9\">\n    <path d=\"M 48.982813 7.2 \nL 606.982813 7.2 \n\" style=\"fill:none;stroke:#000000;stroke-linecap:square;stroke-linejoin:miter;stroke-width:0.8;\"/>\n   </g>\n  </g>\n </g>\n <defs>\n  <clipPath id=\"pc062d13599\">\n   <rect height=\"108.72\" width=\"558\" x=\"48.982813\" y=\"7.2\"/>\n  </clipPath>\n </defs>\n</svg>\n",
      "image/png": "[encoded data removed]"
     },
     "metadata": {
      "needs_background": "light"
     }
    }
   ],
   "source": [
    "# Get the plot of the road\n",
    "fig, ax = plot_road()\n",
    "# Plot the trajectory on the road\n",
    "ax.plot(dtp_history - START_DTP, cte_history, 'b', linewidth=1)\n",
    "# Add axis labels\n",
    "ax.set_xlabel('Downtrack Position (m)')\n",
    "ax.set_ylabel('Crosstrack Error (m)')\n",
    "# Display the plot\n",
    "plt.show()"
   ]
  },
  {
   "source": [
    "### Run many simulations\n",
    "\n",
    "Now that we have confirmed that our controller is working as intended for one scenario, let's test out some other scenarios. It is important that we make sure our controller will work in many different scenarios. To test this, your next task is to write some code to find the trajectory of the aircraft from a number of starting crosstrack errors by filling in the code cells below."
   ],
   "cell_type": "markdown",
   "metadata": {}
  },
  {
   "source": [
    "First, let's initialize some lists to store our outputs:"
   ],
   "cell_type": "markdown",
   "metadata": {}
  },
  {
   "cell_type": "code",
   "execution_count": 107,
   "metadata": {},
   "outputs": [],
   "source": [
    "cte_histories = []\n",
    "he_histories = []\n",
    "dtp_histories = []"
   ]
  },
  {
   "source": [
    "Next, let's call our simulation function from a number of ctes and append the resuts to our lists:"
   ],
   "cell_type": "markdown",
   "metadata": {}
  },
  {
   "cell_type": "code",
   "execution_count": 1,
   "metadata": {},
   "outputs": [
    {
     "output_type": "error",
     "ename": "NameError",
     "evalue": "name 'simulate_controller' is not defined",
     "traceback": [
      "\u001b[0;31m---------------------------------------------------------------------------\u001b[0m",
      "\u001b[0;31mNameError\u001b[0m                                 Traceback (most recent call last)",
      "\u001b[0;32m<ipython-input-1-67dafe02106d>\u001b[0m in \u001b[0;36m<module>\u001b[0;34m\u001b[0m\n\u001b[1;32m      4\u001b[0m     \u001b[0;31m# STUDENT CODE START\u001b[0m\u001b[0;34m\u001b[0m\u001b[0;34m\u001b[0m\u001b[0;34m\u001b[0m\u001b[0m\n\u001b[1;32m      5\u001b[0m     \u001b[0;31m# Simulate the trajectory and get the results\u001b[0m\u001b[0;34m\u001b[0m\u001b[0;34m\u001b[0m\u001b[0;34m\u001b[0m\u001b[0m\n\u001b[0;32m----> 6\u001b[0;31m     \u001b[0mcte_history\u001b[0m\u001b[0;34m,\u001b[0m \u001b[0mhe_history\u001b[0m\u001b[0;34m,\u001b[0m \u001b[0mdtp_history\u001b[0m \u001b[0;34m=\u001b[0m \u001b[0msimulate_controller\u001b[0m\u001b[0;34m(\u001b[0m\u001b[0mclient\u001b[0m\u001b[0;34m,\u001b[0m \u001b[0mstart_cte\u001b[0m\u001b[0;34m,\u001b[0m \u001b[0;36m0.0\u001b[0m\u001b[0;34m,\u001b[0m \u001b[0mSTART_DTP\u001b[0m\u001b[0;34m,\u001b[0m \u001b[0mgetState\u001b[0m\u001b[0;34m,\u001b[0m \u001b[0mgetControl\u001b[0m\u001b[0;34m)\u001b[0m\u001b[0;34m\u001b[0m\u001b[0;34m\u001b[0m\u001b[0m\n\u001b[0m\u001b[1;32m      7\u001b[0m     \u001b[0;31m# Append to the lists\u001b[0m\u001b[0;34m\u001b[0m\u001b[0;34m\u001b[0m\u001b[0;34m\u001b[0m\u001b[0m\n\u001b[1;32m      8\u001b[0m     \u001b[0mcte_histories\u001b[0m\u001b[0;34m.\u001b[0m\u001b[0mappend\u001b[0m\u001b[0;34m(\u001b[0m\u001b[0mcte_history\u001b[0m\u001b[0;34m)\u001b[0m\u001b[0;34m\u001b[0m\u001b[0;34m\u001b[0m\u001b[0m\n",
      "\u001b[0;31mNameError\u001b[0m: name 'simulate_controller' is not defined"
     ]
    }
   ],
   "source": [
    "start_ctes = [-8.0, -6.0, -4.0, -2.0, 0.0, 2.0, 4.0, 6.0, 8.0]\n",
    "\n",
    "for start_cte in start_ctes:\n",
    "    # STUDENT CODE START\n",
    "    # Simulate the trajectory and get the results\n",
    "    cte_history, he_history, dtp_history = simulate_controller(client, start_cte, 0.0, START_DTP, getState, getControl)\n",
    "    # Append to the lists\n",
    "    cte_histories.append(cte_history)\n",
    "    he_histories.append(he_history)\n",
    "    dtp_histories.append(dtp_history)\n",
    "    # STUDENT CODE END"
   ]
  },
  {
   "source": [
    "Finally, let's plot the results! Our goal is to generate a plot similar to the one above for the single trajectory but with all of the trajectories we tested on it. You can use similar code to the plotting code used for the single trajectory. For this case, instead of adding a single trajectory, you will want to loop through the histories and add each trajectory to the plot."
   ],
   "cell_type": "markdown",
   "metadata": {}
  },
  {
   "cell_type": "code",
   "execution_count": 111,
   "metadata": {},
   "outputs": [
    {
     "output_type": "display_data",
     "data": {
      "text/plain": "<Figure size 720x144 with 1 Axes>",
      "image/svg+xml": "<?xml version=\"1.0\" encoding=\"utf-8\" standalone=\"no\"?>\n<!DOCTYPE svg PUBLIC \"-//W3C//DTD SVG 1.1//EN\"\n  \"http://www.w3.org/Graphics/SVG/1.1/DTD/svg11.dtd\">\n<svg height=\"153.47625pt\" version=\"1.1\" viewBox=\"0 0 623.726562 153.47625\" width=\"623.726562pt\" xmlns=\"http://www.w3.org/2000/svg\" xmlns:xlink=\"http://www.w3.org/1999/xlink\">\n <metadata>\n  <rdf:RDF xmlns:cc=\"http://creativecommons.org/ns#\" xmlns:dc=\"http://purl.org/dc/elements/1.1/\" xmlns:rdf=\"http://www.w3.org/1999/02/22-rdf-syntax-ns#\">\n   <cc:Work>\n    <dc:type rdf:resource=\"http://purl.org/dc/dcmitype/StillImage\"/>\n    <dc:date>2021-06-23T15:40:36.956906</dc:date>\n    <dc:format>image/svg+xml</dc:format>\n    <dc:creator>\n     <cc:Agent>\n      <dc:title>Matplotlib v3.4.2, https://matplotlib.org/</dc:title>\n     </cc:Agent>\n    </dc:creator>\n   </cc:Work>\n  </rdf:RDF>\n </metadata>\n <defs>\n  <style type=\"text/css\">*{stroke-linecap:butt;stroke-linejoin:round;}</style>\n </defs>\n <g id=\"figure_1\">\n  <g id=\"patch_1\">\n   <path d=\"M 0 153.47625 \nL 623.726562 153.47625 \nL 623.726562 0 \nL 0 0 \nz\n\" style=\"fill:none;\"/>\n  </g>\n  <g id=\"axes_1\">\n   <g id=\"patch_2\">\n    <path d=\"M 48.982813 115.92 \nL 606.982813 115.92 \nL 606.982813 7.2 \nL 48.982813 7.2 \nz\n\" style=\"fill:#ffffff;\"/>\n   </g>\n   <g id=\"patch_3\">\n    <path clip-path=\"url(#p0f61b59ccd)\" d=\"M 48.982813 115.92 \nL 48.982813 106.86 \nL 606.982813 106.86 \nL 606.982813 115.92 \nz\n\" style=\"fill:#008000;stroke:#000000;stroke-linejoin:miter;stroke-width:2;\"/>\n   </g>\n   <g id=\"patch_4\">\n    <path clip-path=\"url(#p0f61b59ccd)\" d=\"M 48.982813 16.26 \nL 48.982813 7.2 \nL 606.982813 7.2 \nL 606.982813 16.26 \nz\n\" style=\"fill:#008000;stroke:#000000;stroke-linejoin:miter;stroke-width:2;\"/>\n   </g>\n   <g id=\"patch_5\">\n    <path clip-path=\"url(#p0f61b59ccd)\" d=\"M 48.982813 106.86 \nL 48.982813 16.26 \nL 606.982813 16.26 \nL 606.982813 106.86 \nz\n\" style=\"fill:#808080;stroke:#000000;stroke-linejoin:miter;stroke-width:2;\"/>\n   </g>\n   <g id=\"matplotlib.axis_1\">\n    <g id=\"xtick_1\">\n     <g id=\"line2d_1\">\n      <defs>\n       <path d=\"M 0 0 \nL 0 3.5 \n\" id=\"m4754c9aff9\" style=\"stroke:#000000;stroke-width:0.8;\"/>\n      </defs>\n      <g>\n       <use style=\"stroke:#000000;stroke-width:0.8;\" x=\"48.982813\" xlink:href=\"#m4754c9aff9\" y=\"115.92\"/>\n      </g>\n     </g>\n     <g id=\"text_1\">\n      <!-- 0 -->\n      <g transform=\"translate(45.801563 130.518438)scale(0.1 -0.1)\">\n       <defs>\n        <path d=\"M 2034 4250 \nQ 1547 4250 1301 3770 \nQ 1056 3291 1056 2328 \nQ 1056 1369 1301 889 \nQ 1547 409 2034 409 \nQ 2525 409 2770 889 \nQ 3016 1369 3016 2328 \nQ 3016 3291 2770 3770 \nQ 2525 4250 2034 4250 \nz\nM 2034 4750 \nQ 2819 4750 3233 4129 \nQ 3647 3509 3647 2328 \nQ 3647 1150 3233 529 \nQ 2819 -91 2034 -91 \nQ 1250 -91 836 529 \nQ 422 1150 422 2328 \nQ 422 3509 836 4129 \nQ 1250 4750 2034 4750 \nz\n\" id=\"DejaVuSans-30\" transform=\"scale(0.015625)\"/>\n       </defs>\n       <use xlink:href=\"#DejaVuSans-30\"/>\n      </g>\n     </g>\n    </g>\n    <g id=\"xtick_2\">\n     <g id=\"line2d_2\">\n      <g>\n       <use style=\"stroke:#000000;stroke-width:0.8;\" x=\"160.582812\" xlink:href=\"#m4754c9aff9\" y=\"115.92\"/>\n      </g>\n     </g>\n     <g id=\"text_2\">\n      <!-- 20 -->\n      <g transform=\"translate(154.220312 130.518438)scale(0.1 -0.1)\">\n       <defs>\n        <path d=\"M 1228 531 \nL 3431 531 \nL 3431 0 \nL 469 0 \nL 469 531 \nQ 828 903 1448 1529 \nQ 2069 2156 2228 2338 \nQ 2531 2678 2651 2914 \nQ 2772 3150 2772 3378 \nQ 2772 3750 2511 3984 \nQ 2250 4219 1831 4219 \nQ 1534 4219 1204 4116 \nQ 875 4013 500 3803 \nL 500 4441 \nQ 881 4594 1212 4672 \nQ 1544 4750 1819 4750 \nQ 2544 4750 2975 4387 \nQ 3406 4025 3406 3419 \nQ 3406 3131 3298 2873 \nQ 3191 2616 2906 2266 \nQ 2828 2175 2409 1742 \nQ 1991 1309 1228 531 \nz\n\" id=\"DejaVuSans-32\" transform=\"scale(0.015625)\"/>\n       </defs>\n       <use xlink:href=\"#DejaVuSans-32\"/>\n       <use x=\"63.623047\" xlink:href=\"#DejaVuSans-30\"/>\n      </g>\n     </g>\n    </g>\n    <g id=\"xtick_3\">\n     <g id=\"line2d_3\">\n      <g>\n       <use style=\"stroke:#000000;stroke-width:0.8;\" x=\"272.182813\" xlink:href=\"#m4754c9aff9\" y=\"115.92\"/>\n      </g>\n     </g>\n     <g id=\"text_3\">\n      <!-- 40 -->\n      <g transform=\"translate(265.820312 130.518438)scale(0.1 -0.1)\">\n       <defs>\n        <path d=\"M 2419 4116 \nL 825 1625 \nL 2419 1625 \nL 2419 4116 \nz\nM 2253 4666 \nL 3047 4666 \nL 3047 1625 \nL 3713 1625 \nL 3713 1100 \nL 3047 1100 \nL 3047 0 \nL 2419 0 \nL 2419 1100 \nL 313 1100 \nL 313 1709 \nL 2253 4666 \nz\n\" id=\"DejaVuSans-34\" transform=\"scale(0.015625)\"/>\n       </defs>\n       <use xlink:href=\"#DejaVuSans-34\"/>\n       <use x=\"63.623047\" xlink:href=\"#DejaVuSans-30\"/>\n      </g>\n     </g>\n    </g>\n    <g id=\"xtick_4\">\n     <g id=\"line2d_4\">\n      <g>\n       <use style=\"stroke:#000000;stroke-width:0.8;\" x=\"383.782813\" xlink:href=\"#m4754c9aff9\" y=\"115.92\"/>\n      </g>\n     </g>\n     <g id=\"text_4\">\n      <!-- 60 -->\n      <g transform=\"translate(377.420313 130.518438)scale(0.1 -0.1)\">\n       <defs>\n        <path d=\"M 2113 2584 \nQ 1688 2584 1439 2293 \nQ 1191 2003 1191 1497 \nQ 1191 994 1439 701 \nQ 1688 409 2113 409 \nQ 2538 409 2786 701 \nQ 3034 994 3034 1497 \nQ 3034 2003 2786 2293 \nQ 2538 2584 2113 2584 \nz\nM 3366 4563 \nL 3366 3988 \nQ 3128 4100 2886 4159 \nQ 2644 4219 2406 4219 \nQ 1781 4219 1451 3797 \nQ 1122 3375 1075 2522 \nQ 1259 2794 1537 2939 \nQ 1816 3084 2150 3084 \nQ 2853 3084 3261 2657 \nQ 3669 2231 3669 1497 \nQ 3669 778 3244 343 \nQ 2819 -91 2113 -91 \nQ 1303 -91 875 529 \nQ 447 1150 447 2328 \nQ 447 3434 972 4092 \nQ 1497 4750 2381 4750 \nQ 2619 4750 2861 4703 \nQ 3103 4656 3366 4563 \nz\n\" id=\"DejaVuSans-36\" transform=\"scale(0.015625)\"/>\n       </defs>\n       <use xlink:href=\"#DejaVuSans-36\"/>\n       <use x=\"63.623047\" xlink:href=\"#DejaVuSans-30\"/>\n      </g>\n     </g>\n    </g>\n    <g id=\"xtick_5\">\n     <g id=\"line2d_5\">\n      <g>\n       <use style=\"stroke:#000000;stroke-width:0.8;\" x=\"495.382812\" xlink:href=\"#m4754c9aff9\" y=\"115.92\"/>\n      </g>\n     </g>\n     <g id=\"text_5\">\n      <!-- 80 -->\n      <g transform=\"translate(489.020312 130.518438)scale(0.1 -0.1)\">\n       <defs>\n        <path d=\"M 2034 2216 \nQ 1584 2216 1326 1975 \nQ 1069 1734 1069 1313 \nQ 1069 891 1326 650 \nQ 1584 409 2034 409 \nQ 2484 409 2743 651 \nQ 3003 894 3003 1313 \nQ 3003 1734 2745 1975 \nQ 2488 2216 2034 2216 \nz\nM 1403 2484 \nQ 997 2584 770 2862 \nQ 544 3141 544 3541 \nQ 544 4100 942 4425 \nQ 1341 4750 2034 4750 \nQ 2731 4750 3128 4425 \nQ 3525 4100 3525 3541 \nQ 3525 3141 3298 2862 \nQ 3072 2584 2669 2484 \nQ 3125 2378 3379 2068 \nQ 3634 1759 3634 1313 \nQ 3634 634 3220 271 \nQ 2806 -91 2034 -91 \nQ 1263 -91 848 271 \nQ 434 634 434 1313 \nQ 434 1759 690 2068 \nQ 947 2378 1403 2484 \nz\nM 1172 3481 \nQ 1172 3119 1398 2916 \nQ 1625 2713 2034 2713 \nQ 2441 2713 2670 2916 \nQ 2900 3119 2900 3481 \nQ 2900 3844 2670 4047 \nQ 2441 4250 2034 4250 \nQ 1625 4250 1398 4047 \nQ 1172 3844 1172 3481 \nz\n\" id=\"DejaVuSans-38\" transform=\"scale(0.015625)\"/>\n       </defs>\n       <use xlink:href=\"#DejaVuSans-38\"/>\n       <use x=\"63.623047\" xlink:href=\"#DejaVuSans-30\"/>\n      </g>\n     </g>\n    </g>\n    <g id=\"xtick_6\">\n     <g id=\"line2d_6\">\n      <g>\n       <use style=\"stroke:#000000;stroke-width:0.8;\" x=\"606.982813\" xlink:href=\"#m4754c9aff9\" y=\"115.92\"/>\n      </g>\n     </g>\n     <g id=\"text_6\">\n      <!-- 100 -->\n      <g transform=\"translate(597.439062 130.518438)scale(0.1 -0.1)\">\n       <defs>\n        <path d=\"M 794 531 \nL 1825 531 \nL 1825 4091 \nL 703 3866 \nL 703 4441 \nL 1819 4666 \nL 2450 4666 \nL 2450 531 \nL 3481 531 \nL 3481 0 \nL 794 0 \nL 794 531 \nz\n\" id=\"DejaVuSans-31\" transform=\"scale(0.015625)\"/>\n       </defs>\n       <use xlink:href=\"#DejaVuSans-31\"/>\n       <use x=\"63.623047\" xlink:href=\"#DejaVuSans-30\"/>\n       <use x=\"127.246094\" xlink:href=\"#DejaVuSans-30\"/>\n      </g>\n     </g>\n    </g>\n    <g id=\"text_7\">\n     <!-- Downtrack Position (m) -->\n     <g transform=\"translate(269.677344 144.196562)scale(0.1 -0.1)\">\n      <defs>\n       <path d=\"M 1259 4147 \nL 1259 519 \nL 2022 519 \nQ 2988 519 3436 956 \nQ 3884 1394 3884 2338 \nQ 3884 3275 3436 3711 \nQ 2988 4147 2022 4147 \nL 1259 4147 \nz\nM 628 4666 \nL 1925 4666 \nQ 3281 4666 3915 4102 \nQ 4550 3538 4550 2338 \nQ 4550 1131 3912 565 \nQ 3275 0 1925 0 \nL 628 0 \nL 628 4666 \nz\n\" id=\"DejaVuSans-44\" transform=\"scale(0.015625)\"/>\n       <path d=\"M 1959 3097 \nQ 1497 3097 1228 2736 \nQ 959 2375 959 1747 \nQ 959 1119 1226 758 \nQ 1494 397 1959 397 \nQ 2419 397 2687 759 \nQ 2956 1122 2956 1747 \nQ 2956 2369 2687 2733 \nQ 2419 3097 1959 3097 \nz\nM 1959 3584 \nQ 2709 3584 3137 3096 \nQ 3566 2609 3566 1747 \nQ 3566 888 3137 398 \nQ 2709 -91 1959 -91 \nQ 1206 -91 779 398 \nQ 353 888 353 1747 \nQ 353 2609 779 3096 \nQ 1206 3584 1959 3584 \nz\n\" id=\"DejaVuSans-6f\" transform=\"scale(0.015625)\"/>\n       <path d=\"M 269 3500 \nL 844 3500 \nL 1563 769 \nL 2278 3500 \nL 2956 3500 \nL 3675 769 \nL 4391 3500 \nL 4966 3500 \nL 4050 0 \nL 3372 0 \nL 2619 2869 \nL 1863 0 \nL 1184 0 \nL 269 3500 \nz\n\" id=\"DejaVuSans-77\" transform=\"scale(0.015625)\"/>\n       <path d=\"M 3513 2113 \nL 3513 0 \nL 2938 0 \nL 2938 2094 \nQ 2938 2591 2744 2837 \nQ 2550 3084 2163 3084 \nQ 1697 3084 1428 2787 \nQ 1159 2491 1159 1978 \nL 1159 0 \nL 581 0 \nL 581 3500 \nL 1159 3500 \nL 1159 2956 \nQ 1366 3272 1645 3428 \nQ 1925 3584 2291 3584 \nQ 2894 3584 3203 3211 \nQ 3513 2838 3513 2113 \nz\n\" id=\"DejaVuSans-6e\" transform=\"scale(0.015625)\"/>\n       <path d=\"M 1172 4494 \nL 1172 3500 \nL 2356 3500 \nL 2356 3053 \nL 1172 3053 \nL 1172 1153 \nQ 1172 725 1289 603 \nQ 1406 481 1766 481 \nL 2356 481 \nL 2356 0 \nL 1766 0 \nQ 1100 0 847 248 \nQ 594 497 594 1153 \nL 594 3053 \nL 172 3053 \nL 172 3500 \nL 594 3500 \nL 594 4494 \nL 1172 4494 \nz\n\" id=\"DejaVuSans-74\" transform=\"scale(0.015625)\"/>\n       <path d=\"M 2631 2963 \nQ 2534 3019 2420 3045 \nQ 2306 3072 2169 3072 \nQ 1681 3072 1420 2755 \nQ 1159 2438 1159 1844 \nL 1159 0 \nL 581 0 \nL 581 3500 \nL 1159 3500 \nL 1159 2956 \nQ 1341 3275 1631 3429 \nQ 1922 3584 2338 3584 \nQ 2397 3584 2469 3576 \nQ 2541 3569 2628 3553 \nL 2631 2963 \nz\n\" id=\"DejaVuSans-72\" transform=\"scale(0.015625)\"/>\n       <path d=\"M 2194 1759 \nQ 1497 1759 1228 1600 \nQ 959 1441 959 1056 \nQ 959 750 1161 570 \nQ 1363 391 1709 391 \nQ 2188 391 2477 730 \nQ 2766 1069 2766 1631 \nL 2766 1759 \nL 2194 1759 \nz\nM 3341 1997 \nL 3341 0 \nL 2766 0 \nL 2766 531 \nQ 2569 213 2275 61 \nQ 1981 -91 1556 -91 \nQ 1019 -91 701 211 \nQ 384 513 384 1019 \nQ 384 1609 779 1909 \nQ 1175 2209 1959 2209 \nL 2766 2209 \nL 2766 2266 \nQ 2766 2663 2505 2880 \nQ 2244 3097 1772 3097 \nQ 1472 3097 1187 3025 \nQ 903 2953 641 2809 \nL 641 3341 \nQ 956 3463 1253 3523 \nQ 1550 3584 1831 3584 \nQ 2591 3584 2966 3190 \nQ 3341 2797 3341 1997 \nz\n\" id=\"DejaVuSans-61\" transform=\"scale(0.015625)\"/>\n       <path d=\"M 3122 3366 \nL 3122 2828 \nQ 2878 2963 2633 3030 \nQ 2388 3097 2138 3097 \nQ 1578 3097 1268 2742 \nQ 959 2388 959 1747 \nQ 959 1106 1268 751 \nQ 1578 397 2138 397 \nQ 2388 397 2633 464 \nQ 2878 531 3122 666 \nL 3122 134 \nQ 2881 22 2623 -34 \nQ 2366 -91 2075 -91 \nQ 1284 -91 818 406 \nQ 353 903 353 1747 \nQ 353 2603 823 3093 \nQ 1294 3584 2113 3584 \nQ 2378 3584 2631 3529 \nQ 2884 3475 3122 3366 \nz\n\" id=\"DejaVuSans-63\" transform=\"scale(0.015625)\"/>\n       <path d=\"M 581 4863 \nL 1159 4863 \nL 1159 1991 \nL 2875 3500 \nL 3609 3500 \nL 1753 1863 \nL 3688 0 \nL 2938 0 \nL 1159 1709 \nL 1159 0 \nL 581 0 \nL 581 4863 \nz\n\" id=\"DejaVuSans-6b\" transform=\"scale(0.015625)\"/>\n       <path id=\"DejaVuSans-20\" transform=\"scale(0.015625)\"/>\n       <path d=\"M 1259 4147 \nL 1259 2394 \nL 2053 2394 \nQ 2494 2394 2734 2622 \nQ 2975 2850 2975 3272 \nQ 2975 3691 2734 3919 \nQ 2494 4147 2053 4147 \nL 1259 4147 \nz\nM 628 4666 \nL 2053 4666 \nQ 2838 4666 3239 4311 \nQ 3641 3956 3641 3272 \nQ 3641 2581 3239 2228 \nQ 2838 1875 2053 1875 \nL 1259 1875 \nL 1259 0 \nL 628 0 \nL 628 4666 \nz\n\" id=\"DejaVuSans-50\" transform=\"scale(0.015625)\"/>\n       <path d=\"M 2834 3397 \nL 2834 2853 \nQ 2591 2978 2328 3040 \nQ 2066 3103 1784 3103 \nQ 1356 3103 1142 2972 \nQ 928 2841 928 2578 \nQ 928 2378 1081 2264 \nQ 1234 2150 1697 2047 \nL 1894 2003 \nQ 2506 1872 2764 1633 \nQ 3022 1394 3022 966 \nQ 3022 478 2636 193 \nQ 2250 -91 1575 -91 \nQ 1294 -91 989 -36 \nQ 684 19 347 128 \nL 347 722 \nQ 666 556 975 473 \nQ 1284 391 1588 391 \nQ 1994 391 2212 530 \nQ 2431 669 2431 922 \nQ 2431 1156 2273 1281 \nQ 2116 1406 1581 1522 \nL 1381 1569 \nQ 847 1681 609 1914 \nQ 372 2147 372 2553 \nQ 372 3047 722 3315 \nQ 1072 3584 1716 3584 \nQ 2034 3584 2315 3537 \nQ 2597 3491 2834 3397 \nz\n\" id=\"DejaVuSans-73\" transform=\"scale(0.015625)\"/>\n       <path d=\"M 603 3500 \nL 1178 3500 \nL 1178 0 \nL 603 0 \nL 603 3500 \nz\nM 603 4863 \nL 1178 4863 \nL 1178 4134 \nL 603 4134 \nL 603 4863 \nz\n\" id=\"DejaVuSans-69\" transform=\"scale(0.015625)\"/>\n       <path d=\"M 1984 4856 \nQ 1566 4138 1362 3434 \nQ 1159 2731 1159 2009 \nQ 1159 1288 1364 580 \nQ 1569 -128 1984 -844 \nL 1484 -844 \nQ 1016 -109 783 600 \nQ 550 1309 550 2009 \nQ 550 2706 781 3412 \nQ 1013 4119 1484 4856 \nL 1984 4856 \nz\n\" id=\"DejaVuSans-28\" transform=\"scale(0.015625)\"/>\n       <path d=\"M 3328 2828 \nQ 3544 3216 3844 3400 \nQ 4144 3584 4550 3584 \nQ 5097 3584 5394 3201 \nQ 5691 2819 5691 2113 \nL 5691 0 \nL 5113 0 \nL 5113 2094 \nQ 5113 2597 4934 2840 \nQ 4756 3084 4391 3084 \nQ 3944 3084 3684 2787 \nQ 3425 2491 3425 1978 \nL 3425 0 \nL 2847 0 \nL 2847 2094 \nQ 2847 2600 2669 2842 \nQ 2491 3084 2119 3084 \nQ 1678 3084 1418 2786 \nQ 1159 2488 1159 1978 \nL 1159 0 \nL 581 0 \nL 581 3500 \nL 1159 3500 \nL 1159 2956 \nQ 1356 3278 1631 3431 \nQ 1906 3584 2284 3584 \nQ 2666 3584 2933 3390 \nQ 3200 3197 3328 2828 \nz\n\" id=\"DejaVuSans-6d\" transform=\"scale(0.015625)\"/>\n       <path d=\"M 513 4856 \nL 1013 4856 \nQ 1481 4119 1714 3412 \nQ 1947 2706 1947 2009 \nQ 1947 1309 1714 600 \nQ 1481 -109 1013 -844 \nL 513 -844 \nQ 928 -128 1133 580 \nQ 1338 1288 1338 2009 \nQ 1338 2731 1133 3434 \nQ 928 4138 513 4856 \nz\n\" id=\"DejaVuSans-29\" transform=\"scale(0.015625)\"/>\n      </defs>\n      <use xlink:href=\"#DejaVuSans-44\"/>\n      <use x=\"77.001953\" xlink:href=\"#DejaVuSans-6f\"/>\n      <use x=\"138.183594\" xlink:href=\"#DejaVuSans-77\"/>\n      <use x=\"219.970703\" xlink:href=\"#DejaVuSans-6e\"/>\n      <use x=\"283.349609\" xlink:href=\"#DejaVuSans-74\"/>\n      <use x=\"322.558594\" xlink:href=\"#DejaVuSans-72\"/>\n      <use x=\"363.671875\" xlink:href=\"#DejaVuSans-61\"/>\n      <use x=\"424.951172\" xlink:href=\"#DejaVuSans-63\"/>\n      <use x=\"479.931641\" xlink:href=\"#DejaVuSans-6b\"/>\n      <use x=\"537.841797\" xlink:href=\"#DejaVuSans-20\"/>\n      <use x=\"569.628906\" xlink:href=\"#DejaVuSans-50\"/>\n      <use x=\"626.306641\" xlink:href=\"#DejaVuSans-6f\"/>\n      <use x=\"687.488281\" xlink:href=\"#DejaVuSans-73\"/>\n      <use x=\"739.587891\" xlink:href=\"#DejaVuSans-69\"/>\n      <use x=\"767.371094\" xlink:href=\"#DejaVuSans-74\"/>\n      <use x=\"806.580078\" xlink:href=\"#DejaVuSans-69\"/>\n      <use x=\"834.363281\" xlink:href=\"#DejaVuSans-6f\"/>\n      <use x=\"895.544922\" xlink:href=\"#DejaVuSans-6e\"/>\n      <use x=\"958.923828\" xlink:href=\"#DejaVuSans-20\"/>\n      <use x=\"990.710938\" xlink:href=\"#DejaVuSans-28\"/>\n      <use x=\"1029.724609\" xlink:href=\"#DejaVuSans-6d\"/>\n      <use x=\"1127.136719\" xlink:href=\"#DejaVuSans-29\"/>\n     </g>\n    </g>\n   </g>\n   <g id=\"matplotlib.axis_2\">\n    <g id=\"ytick_1\">\n     <g id=\"line2d_7\">\n      <defs>\n       <path d=\"M 0 0 \nL -3.5 0 \n\" id=\"ma370664087\" style=\"stroke:#000000;stroke-width:0.8;\"/>\n      </defs>\n      <g>\n       <use style=\"stroke:#000000;stroke-width:0.8;\" x=\"48.982813\" xlink:href=\"#ma370664087\" y=\"106.86\"/>\n      </g>\n     </g>\n     <g id=\"text_8\">\n      <!-- −10 -->\n      <g transform=\"translate(20.878125 110.659219)scale(0.1 -0.1)\">\n       <defs>\n        <path d=\"M 678 2272 \nL 4684 2272 \nL 4684 1741 \nL 678 1741 \nL 678 2272 \nz\n\" id=\"DejaVuSans-2212\" transform=\"scale(0.015625)\"/>\n       </defs>\n       <use xlink:href=\"#DejaVuSans-2212\"/>\n       <use x=\"83.789062\" xlink:href=\"#DejaVuSans-31\"/>\n       <use x=\"147.412109\" xlink:href=\"#DejaVuSans-30\"/>\n      </g>\n     </g>\n    </g>\n    <g id=\"ytick_2\">\n     <g id=\"line2d_8\">\n      <g>\n       <use style=\"stroke:#000000;stroke-width:0.8;\" x=\"48.982813\" xlink:href=\"#ma370664087\" y=\"84.21\"/>\n      </g>\n     </g>\n     <g id=\"text_9\">\n      <!-- −5 -->\n      <g transform=\"translate(27.240625 88.009219)scale(0.1 -0.1)\">\n       <defs>\n        <path d=\"M 691 4666 \nL 3169 4666 \nL 3169 4134 \nL 1269 4134 \nL 1269 2991 \nQ 1406 3038 1543 3061 \nQ 1681 3084 1819 3084 \nQ 2600 3084 3056 2656 \nQ 3513 2228 3513 1497 \nQ 3513 744 3044 326 \nQ 2575 -91 1722 -91 \nQ 1428 -91 1123 -41 \nQ 819 9 494 109 \nL 494 744 \nQ 775 591 1075 516 \nQ 1375 441 1709 441 \nQ 2250 441 2565 725 \nQ 2881 1009 2881 1497 \nQ 2881 1984 2565 2268 \nQ 2250 2553 1709 2553 \nQ 1456 2553 1204 2497 \nQ 953 2441 691 2322 \nL 691 4666 \nz\n\" id=\"DejaVuSans-35\" transform=\"scale(0.015625)\"/>\n       </defs>\n       <use xlink:href=\"#DejaVuSans-2212\"/>\n       <use x=\"83.789062\" xlink:href=\"#DejaVuSans-35\"/>\n      </g>\n     </g>\n    </g>\n    <g id=\"ytick_3\">\n     <g id=\"line2d_9\">\n      <g>\n       <use style=\"stroke:#000000;stroke-width:0.8;\" x=\"48.982813\" xlink:href=\"#ma370664087\" y=\"61.56\"/>\n      </g>\n     </g>\n     <g id=\"text_10\">\n      <!-- 0 -->\n      <g transform=\"translate(35.620312 65.359219)scale(0.1 -0.1)\">\n       <use xlink:href=\"#DejaVuSans-30\"/>\n      </g>\n     </g>\n    </g>\n    <g id=\"ytick_4\">\n     <g id=\"line2d_10\">\n      <g>\n       <use style=\"stroke:#000000;stroke-width:0.8;\" x=\"48.982813\" xlink:href=\"#ma370664087\" y=\"38.91\"/>\n      </g>\n     </g>\n     <g id=\"text_11\">\n      <!-- 5 -->\n      <g transform=\"translate(35.620312 42.709219)scale(0.1 -0.1)\">\n       <use xlink:href=\"#DejaVuSans-35\"/>\n      </g>\n     </g>\n    </g>\n    <g id=\"ytick_5\">\n     <g id=\"line2d_11\">\n      <g>\n       <use style=\"stroke:#000000;stroke-width:0.8;\" x=\"48.982813\" xlink:href=\"#ma370664087\" y=\"16.26\"/>\n      </g>\n     </g>\n     <g id=\"text_12\">\n      <!-- 10 -->\n      <g transform=\"translate(29.257812 20.059219)scale(0.1 -0.1)\">\n       <use xlink:href=\"#DejaVuSans-31\"/>\n       <use x=\"63.623047\" xlink:href=\"#DejaVuSans-30\"/>\n      </g>\n     </g>\n    </g>\n    <g id=\"text_13\">\n     <!-- Crosstrack Error (m) -->\n     <g transform=\"translate(14.798437 112.1225)rotate(-90)scale(0.1 -0.1)\">\n      <defs>\n       <path d=\"M 4122 4306 \nL 4122 3641 \nQ 3803 3938 3442 4084 \nQ 3081 4231 2675 4231 \nQ 1875 4231 1450 3742 \nQ 1025 3253 1025 2328 \nQ 1025 1406 1450 917 \nQ 1875 428 2675 428 \nQ 3081 428 3442 575 \nQ 3803 722 4122 1019 \nL 4122 359 \nQ 3791 134 3420 21 \nQ 3050 -91 2638 -91 \nQ 1578 -91 968 557 \nQ 359 1206 359 2328 \nQ 359 3453 968 4101 \nQ 1578 4750 2638 4750 \nQ 3056 4750 3426 4639 \nQ 3797 4528 4122 4306 \nz\n\" id=\"DejaVuSans-43\" transform=\"scale(0.015625)\"/>\n       <path d=\"M 628 4666 \nL 3578 4666 \nL 3578 4134 \nL 1259 4134 \nL 1259 2753 \nL 3481 2753 \nL 3481 2222 \nL 1259 2222 \nL 1259 531 \nL 3634 531 \nL 3634 0 \nL 628 0 \nL 628 4666 \nz\n\" id=\"DejaVuSans-45\" transform=\"scale(0.015625)\"/>\n      </defs>\n      <use xlink:href=\"#DejaVuSans-43\"/>\n      <use x=\"69.824219\" xlink:href=\"#DejaVuSans-72\"/>\n      <use x=\"108.6875\" xlink:href=\"#DejaVuSans-6f\"/>\n      <use x=\"169.869141\" xlink:href=\"#DejaVuSans-73\"/>\n      <use x=\"221.96875\" xlink:href=\"#DejaVuSans-73\"/>\n      <use x=\"274.068359\" xlink:href=\"#DejaVuSans-74\"/>\n      <use x=\"313.277344\" xlink:href=\"#DejaVuSans-72\"/>\n      <use x=\"354.390625\" xlink:href=\"#DejaVuSans-61\"/>\n      <use x=\"415.669922\" xlink:href=\"#DejaVuSans-63\"/>\n      <use x=\"470.650391\" xlink:href=\"#DejaVuSans-6b\"/>\n      <use x=\"528.560547\" xlink:href=\"#DejaVuSans-20\"/>\n      <use x=\"560.347656\" xlink:href=\"#DejaVuSans-45\"/>\n      <use x=\"623.53125\" xlink:href=\"#DejaVuSans-72\"/>\n      <use x=\"662.894531\" xlink:href=\"#DejaVuSans-72\"/>\n      <use x=\"701.757812\" xlink:href=\"#DejaVuSans-6f\"/>\n      <use x=\"762.939453\" xlink:href=\"#DejaVuSans-72\"/>\n      <use x=\"804.052734\" xlink:href=\"#DejaVuSans-20\"/>\n      <use x=\"835.839844\" xlink:href=\"#DejaVuSans-28\"/>\n      <use x=\"874.853516\" xlink:href=\"#DejaVuSans-6d\"/>\n      <use x=\"972.265625\" xlink:href=\"#DejaVuSans-29\"/>\n     </g>\n    </g>\n   </g>\n   <g id=\"line2d_12\">\n    <path clip-path=\"url(#p0f61b59ccd)\" d=\"M 48.982813 61.56 \nL 606.982813 61.56 \n\" style=\"fill:none;stroke:#ffffff;stroke-dasharray:5.55,2.4;stroke-dashoffset:0;stroke-width:1.5;\"/>\n   </g>\n   <g id=\"line2d_13\">\n    <path clip-path=\"url(#p0f61b59ccd)\" d=\"M 48.982813 34.38 \nL 58.74686 34.47212 \nL 68.504242 34.779115 \nL 78.247785 35.300761 \nL 92.142627 36.304636 \nL 106.009167 37.539793 \nL 126.770223 39.661206 \nL 164.090205 43.790334 \nL 194.517478 47.042731 \nL 218.062047 49.345904 \nL 240.251523 51.301629 \nL 262.468783 53.037009 \nL 284.710582 54.551214 \nL 306.972723 55.853705 \nL 330.643767 57.023718 \nL 355.722015 58.046734 \nL 383.599387 58.956544 \nL 414.274654 59.725831 \nL 449.140694 60.364341 \nL 488.195975 60.853673 \nL 535.623769 61.220415 \nL 597.003 61.46322 \nL 603.97797 61.479887 \nL 603.97797 61.479887 \n\" style=\"fill:none;stroke:#0000ff;stroke-linecap:square;\"/>\n   </g>\n   <g id=\"line2d_14\">\n    <path clip-path=\"url(#p0f61b59ccd)\" d=\"M 48.982813 34.38 \nL 58.74686 34.47212 \nL 68.504242 34.779115 \nL 78.247785 35.300761 \nL 92.142627 36.304636 \nL 106.009167 37.539793 \nL 126.770223 39.661206 \nL 164.090205 43.790334 \nL 194.517478 47.042731 \nL 218.062047 49.345904 \nL 240.251523 51.301629 \nL 262.468783 53.037009 \nL 284.710582 54.551214 \nL 306.972723 55.853705 \nL 330.643767 57.023718 \nL 355.722015 58.046734 \nL 383.599387 58.956544 \nL 414.274654 59.725831 \nL 449.140694 60.364341 \nL 488.195975 60.853673 \nL 535.623769 61.220415 \nL 597.003 61.46322 \nL 603.97797 61.479887 \nL 603.97797 61.479887 \n\" style=\"fill:none;stroke:#0000ff;stroke-linecap:square;\"/>\n   </g>\n   <g id=\"line2d_15\">\n    <path clip-path=\"url(#p0f61b59ccd)\" d=\"M 48.982813 34.38 \nL 58.74686 34.47212 \nL 68.504242 34.779115 \nL 78.247785 35.300761 \nL 92.142627 36.304636 \nL 106.009167 37.539793 \nL 126.770223 39.661206 \nL 164.090205 43.790334 \nL 194.517478 47.042731 \nL 218.062047 49.345904 \nL 240.251523 51.301629 \nL 262.468783 53.037009 \nL 284.710582 54.551214 \nL 306.972723 55.853705 \nL 330.643767 57.023718 \nL 355.722015 58.046734 \nL 383.599387 58.956544 \nL 414.274654 59.725831 \nL 449.140694 60.364341 \nL 488.195975 60.853673 \nL 535.623769 61.220415 \nL 597.003 61.46322 \nL 603.97797 61.479887 \nL 603.97797 61.479887 \n\" style=\"fill:none;stroke:#0000ff;stroke-linecap:square;\"/>\n   </g>\n   <g id=\"line2d_16\">\n    <path clip-path=\"url(#p0f61b59ccd)\" d=\"M 48.982813 34.38 \nL 58.74686 34.47212 \nL 68.504242 34.779115 \nL 78.247785 35.300761 \nL 92.142627 36.304636 \nL 106.009167 37.539793 \nL 126.770223 39.661206 \nL 164.090205 43.790334 \nL 194.517478 47.042731 \nL 218.062047 49.345904 \nL 240.251523 51.301629 \nL 262.468783 53.037009 \nL 284.710582 54.551214 \nL 306.972723 55.853705 \nL 330.643767 57.023718 \nL 355.722015 58.046734 \nL 383.599387 58.956544 \nL 414.274654 59.725831 \nL 449.140694 60.364341 \nL 488.195975 60.853673 \nL 535.623769 61.220415 \nL 597.003 61.46322 \nL 603.97797 61.479887 \nL 603.97797 61.479887 \n\" style=\"fill:none;stroke:#0000ff;stroke-linecap:square;\"/>\n   </g>\n   <g id=\"line2d_17\">\n    <path clip-path=\"url(#p0f61b59ccd)\" d=\"M 48.982813 34.38 \nL 58.74686 34.47212 \nL 68.504242 34.779115 \nL 78.247785 35.300761 \nL 92.142627 36.304636 \nL 106.009167 37.539793 \nL 126.770223 39.661206 \nL 164.090205 43.790334 \nL 194.517478 47.042731 \nL 218.062047 49.345904 \nL 240.251523 51.301629 \nL 262.468783 53.037009 \nL 284.710582 54.551214 \nL 306.972723 55.853705 \nL 330.643767 57.023718 \nL 355.722015 58.046734 \nL 383.599387 58.956544 \nL 414.274654 59.725831 \nL 449.140694 60.364341 \nL 488.195975 60.853673 \nL 535.623769 61.220415 \nL 597.003 61.46322 \nL 603.97797 61.479887 \nL 603.97797 61.479887 \n\" style=\"fill:none;stroke:#0000ff;stroke-linecap:square;\"/>\n   </g>\n   <g id=\"line2d_18\">\n    <path clip-path=\"url(#p0f61b59ccd)\" d=\"M 48.982813 34.38 \nL 58.74686 34.47212 \nL 68.504242 34.779115 \nL 78.247785 35.300761 \nL 92.142627 36.304636 \nL 106.009167 37.539793 \nL 126.770223 39.661206 \nL 164.090205 43.790334 \nL 194.517478 47.042731 \nL 218.062047 49.345904 \nL 240.251523 51.301629 \nL 262.468783 53.037009 \nL 284.710582 54.551214 \nL 306.972723 55.853705 \nL 330.643767 57.023718 \nL 355.722015 58.046734 \nL 383.599387 58.956544 \nL 414.274654 59.725831 \nL 449.140694 60.364341 \nL 488.195975 60.853673 \nL 535.623769 61.220415 \nL 597.003 61.46322 \nL 603.97797 61.479887 \nL 603.97797 61.479887 \n\" style=\"fill:none;stroke:#0000ff;stroke-linecap:square;\"/>\n   </g>\n   <g id=\"line2d_19\">\n    <path clip-path=\"url(#p0f61b59ccd)\" d=\"M 48.982813 34.38 \nL 58.74686 34.47212 \nL 68.504242 34.779115 \nL 78.247785 35.300761 \nL 92.142627 36.304636 \nL 106.009167 37.539793 \nL 126.770223 39.661206 \nL 164.090205 43.790334 \nL 194.517478 47.042731 \nL 218.062047 49.345904 \nL 240.251523 51.301629 \nL 262.468783 53.037009 \nL 284.710582 54.551214 \nL 306.972723 55.853705 \nL 330.643767 57.023718 \nL 355.722015 58.046734 \nL 383.599387 58.956544 \nL 414.274654 59.725831 \nL 449.140694 60.364341 \nL 488.195975 60.853673 \nL 535.623769 61.220415 \nL 597.003 61.46322 \nL 603.97797 61.479887 \nL 603.97797 61.479887 \n\" style=\"fill:none;stroke:#0000ff;stroke-linecap:square;\"/>\n   </g>\n   <g id=\"line2d_20\">\n    <path clip-path=\"url(#p0f61b59ccd)\" d=\"M 48.982813 97.8 \nL 57.351789 97.712259 \nL 65.713397 97.414027 \nL 74.059607 96.905591 \nL 83.770593 96.074753 \nL 94.841133 94.9313 \nL 107.255597 93.412113 \nL 125.138402 90.966126 \nL 151.216005 87.117766 \nL 186.912776 81.90443 \nL 207.552722 79.110742 \nL 228.237024 76.542536 \nL 247.583177 74.37313 \nL 266.965651 72.429143 \nL 286.380113 70.708214 \nL 305.82157 69.201382 \nL 326.675867 67.807598 \nL 348.941965 66.550703 \nL 372.617843 65.447074 \nL 397.700806 64.5033 \nL 425.58236 63.682188 \nL 456.260906 63.004221 \nL 491.129314 62.456913 \nL 532.975932 62.029215 \nL 584.589579 61.73146 \nL 602.724405 61.667212 \nL 602.724405 61.667212 \n\" style=\"fill:none;stroke:#0000ff;stroke-linecap:square;\"/>\n   </g>\n   <g id=\"line2d_21\">\n    <path clip-path=\"url(#p0f61b59ccd)\" d=\"M 48.982813 88.74 \nL 58.74686 88.647876 \nL 68.504241 88.340867 \nL 78.247782 87.819198 \nL 92.14262 86.815284 \nL 106.009155 85.580089 \nL 126.770221 83.458737 \nL 164.090244 79.329854 \nL 194.517598 76.077965 \nL 218.062249 73.775344 \nL 240.251778 71.820014 \nL 262.469089 70.08506 \nL 284.710956 68.571518 \nL 306.97312 67.26928 \nL 330.64419 66.099622 \nL 355.72246 65.076952 \nL 383.599851 64.167533 \nL 414.275106 63.397899 \nL 449.141103 62.757846 \nL 488.196361 62.267274 \nL 535.624135 61.898803 \nL 597.003354 61.654143 \nL 603.978323 61.637328 \nL 603.978323 61.637328 \n\" style=\"fill:none;stroke:#0000ff;stroke-linecap:square;\"/>\n   </g>\n   <g id=\"line2d_22\">\n    <path clip-path=\"url(#p0f61b59ccd)\" d=\"M 48.982813 79.68 \nL 61.536864 79.574727 \nL 74.084512 79.232649 \nL 88.013507 78.613497 \nL 104.712199 77.661529 \nL 131.123597 75.855958 \nL 206.162399 70.487477 \nL 233.982869 68.779667 \nL 261.823087 67.299234 \nL 289.680445 66.049117 \nL 317.551329 65.016317 \nL 348.220713 64.105415 \nL 381.687431 63.342489 \nL 419.344501 62.71827 \nL 462.585304 62.232967 \nL 515.593417 61.874962 \nL 583.947817 61.649574 \nL 604.872768 61.612823 \nL 604.872768 61.612823 \n\" style=\"fill:none;stroke:#0000ff;stroke-linecap:square;\"/>\n   </g>\n   <g id=\"line2d_23\">\n    <path clip-path=\"url(#p0f61b59ccd)\" d=\"M 48.982813 70.62 \nL 65.722225 70.523533 \nL 83.852363 70.188398 \nL 107.552962 69.520602 \nL 146.576094 68.1443 \nL 212.079467 65.839378 \nL 251.114458 64.706667 \nL 290.158418 63.800311 \nL 330.603767 63.085625 \nL 376.633156 62.505632 \nL 429.640428 62.073434 \nL 495.204361 61.775511 \nL 587.274087 61.602229 \nL 605.409076 61.586364 \nL 605.409076 61.586364 \n\" style=\"fill:none;stroke:#0000ff;stroke-linecap:square;\"/>\n   </g>\n   <g id=\"line2d_24\">\n    <path clip-path=\"url(#p0f61b59ccd)\" d=\"M 48.982813 61.56 \nL 605.587812 61.55999 \nL 605.587812 61.55999 \n\" style=\"fill:none;stroke:#0000ff;stroke-linecap:square;\"/>\n   </g>\n   <g id=\"line2d_25\">\n    <path clip-path=\"url(#p0f61b59ccd)\" d=\"M 48.982813 52.5 \nL 65.722225 52.596454 \nL 83.852365 52.931536 \nL 107.552976 53.599043 \nL 146.576158 54.974412 \nL 212.07959 57.27828 \nL 251.114548 58.411754 \nL 290.158467 59.319263 \nL 330.60379 60.034912 \nL 375.238285 60.60079 \nL 426.850535 61.029329 \nL 491.019408 61.33242 \nL 580.299105 61.512747 \nL 605.409089 61.535284 \nL 605.409089 61.535284 \n\" style=\"fill:none;stroke:#0000ff;stroke-linecap:square;\"/>\n   </g>\n   <g id=\"line2d_26\">\n    <path clip-path=\"url(#p0f61b59ccd)\" d=\"M 48.982813 43.44 \nL 61.536864 43.545266 \nL 74.084513 43.887322 \nL 88.013509 44.506454 \nL 104.712196 45.458481 \nL 131.123591 47.264082 \nL 206.162352 52.632952 \nL 233.982801 54.340987 \nL 261.822996 55.821697 \nL 289.680367 57.071618 \nL 317.551277 58.103946 \nL 348.220696 59.014055 \nL 381.687433 59.776487 \nL 419.344502 60.40077 \nL 462.585307 60.885868 \nL 515.593419 61.244002 \nL 585.342808 61.473826 \nL 604.872762 61.508141 \nL 604.872762 61.508141 \n\" style=\"fill:none;stroke:#0000ff;stroke-linecap:square;\"/>\n   </g>\n   <g id=\"line2d_27\">\n    <path clip-path=\"url(#p0f61b59ccd)\" d=\"M 48.982813 34.38 \nL 58.74686 34.47212 \nL 68.504242 34.779115 \nL 78.247785 35.300761 \nL 92.142627 36.304636 \nL 106.009167 37.539793 \nL 126.770223 39.661206 \nL 164.090205 43.790334 \nL 194.517478 47.042731 \nL 218.062047 49.345904 \nL 240.251523 51.301629 \nL 262.468783 53.037009 \nL 284.710582 54.551214 \nL 306.972723 55.853705 \nL 330.643767 57.023718 \nL 355.722015 58.046734 \nL 383.599387 58.956544 \nL 414.274654 59.725831 \nL 449.140694 60.364341 \nL 488.195975 60.853673 \nL 535.623769 61.220415 \nL 597.003 61.46322 \nL 603.97797 61.479887 \nL 603.97797 61.479887 \n\" style=\"fill:none;stroke:#0000ff;stroke-linecap:square;\"/>\n   </g>\n   <g id=\"line2d_28\">\n    <path clip-path=\"url(#p0f61b59ccd)\" d=\"M 48.982813 25.32 \nL 57.351789 25.407738 \nL 65.713398 25.70596 \nL 74.059609 26.214379 \nL 83.770598 27.045193 \nL 94.841141 28.188627 \nL 107.255607 29.707805 \nL 125.13842 32.153753 \nL 151.216036 36.002057 \nL 186.912836 41.215253 \nL 207.552862 44.008553 \nL 228.237226 46.576431 \nL 247.583425 48.745564 \nL 266.965919 50.689428 \nL 286.38038 52.410358 \nL 305.821836 53.917203 \nL 326.676111 55.311202 \nL 348.942172 56.568538 \nL 372.618013 57.672677 \nL 397.700961 58.616721 \nL 425.582513 59.437882 \nL 456.261043 60.116322 \nL 491.129435 60.664287 \nL 532.976055 61.091864 \nL 584.589702 61.389646 \nL 602.72453 61.453523 \nL 602.72453 61.453523 \n\" style=\"fill:none;stroke:#0000ff;stroke-linecap:square;\"/>\n   </g>\n   <g id=\"patch_6\">\n    <path d=\"M 48.982813 115.92 \nL 48.982813 7.2 \n\" style=\"fill:none;stroke:#000000;stroke-linecap:square;stroke-linejoin:miter;stroke-width:0.8;\"/>\n   </g>\n   <g id=\"patch_7\">\n    <path d=\"M 606.982813 115.92 \nL 606.982813 7.2 \n\" style=\"fill:none;stroke:#000000;stroke-linecap:square;stroke-linejoin:miter;stroke-width:0.8;\"/>\n   </g>\n   <g id=\"patch_8\">\n    <path d=\"M 48.982813 115.92 \nL 606.982813 115.92 \n\" style=\"fill:none;stroke:#000000;stroke-linecap:square;stroke-linejoin:miter;stroke-width:0.8;\"/>\n   </g>\n   <g id=\"patch_9\">\n    <path d=\"M 48.982813 7.2 \nL 606.982813 7.2 \n\" style=\"fill:none;stroke:#000000;stroke-linecap:square;stroke-linejoin:miter;stroke-width:0.8;\"/>\n   </g>\n  </g>\n </g>\n <defs>\n  <clipPath id=\"p0f61b59ccd\">\n   <rect height=\"108.72\" width=\"558\" x=\"48.982813\" y=\"7.2\"/>\n  </clipPath>\n </defs>\n</svg>\n",
      "image/png": "[encoded data removed]"
     },
     "metadata": {
      "needs_background": "light"
     }
    }
   ],
   "source": [
    "# Get the plot of the road\n",
    "fig, ax = plot_road()\n",
    "# Plot the trajectory on the road\n",
    "for dtp_history, cte_history in zip(dtp_histories, cte_histories):\n",
    "    ax.plot(dtp_history - START_DTP, cte_history, 'b', linewidth=1)\n",
    "# Add axis labels\n",
    "ax.set_xlabel('Downtrack Position (m)')\n",
    "ax.set_ylabel('Crosstrack Error (m)')\n",
    "# Display the plot\n",
    "plt.show()"
   ]
  }
 ]
}
{
 "metadata": {
  "language_info": {
   "codemirror_mode": {
    "name": "ipython",
    "version": 3
   },
   "file_extension": ".py",
   "mimetype": "text/x-python",
   "name": "python",
   "nbconvert_exporter": "python",
   "pygments_lexer": "ipython3",
   "version": "3.9.2"
  },
  "orig_nbformat": 4,
  "kernelspec": {
   "name": "python3",
   "display_name": "Python 3.9.2 64-bit"
  },
  "interpreter": {
   "hash": "36cf16204b8548560b1c020c4e8fb5b57f0e4c58016f52f2d4be01e192833930"
  }
 },
 "nbformat": 4,
 "nbformat_minor": 2,
 "cells": [
  {
   "source": [
    "# X-Plane 11 Aircraft Taxi Controller\n",
    "\n",
    "In this notebook, you will implement a controller for the aircraft taxi problem and observe it in action!"
   ],
   "cell_type": "markdown",
   "metadata": {}
  },
  {
   "source": [
    "First, let's import some of the python packages we will need:"
   ],
   "cell_type": "markdown",
   "metadata": {}
  },
  {
   "cell_type": "code",
   "execution_count": 1,
   "metadata": {},
   "outputs": [],
   "source": [
    "import time\n",
    "import numpy as np\n",
    "\n",
    "from xpc3 import *\n",
    "from xpc3_helper import *"
   ]
  },
  {
   "source": [
    "Next, we need to get X-Plane 11 ready to go. We will follow the same steps as we did in the X-Plane 11 tutorial notebook:\n",
    "\n",
    "1. **Open X-Plane 11.** Look for the X-Plane 11 icon in the dock at the bottom of your screen (it should be towards the right). Click this icon and X-Plane 11 will open. A window may pop up saying that there is an update available. If this happens, you can just click \"ignore\".\n",
    "2. From the main menu of X-Plane 11, click \"New Flight\". This should bring up a window with some flight configuration options.\n",
    "3. In the AIRCRAFT section, select the Cessna Skyhawk.\n",
    "4. In the location section, select Grant Co Intl (ID is KMWH).\n",
    "5. You can leave the weather as clear.\n",
    "6. In the TIME OF DAY section, select a time between 8AM and 10AM local.\n",
    "7. Click the \"Start Flight\" button at the bottom right of the screen. It make take a minute or so to load the flight. Once it loads, you should see the front of the aircraft pointing down a runway. We are now ready to start controlling it!\n",
    "\n",
    "Connect to X-Plane 11 by creating a client that we can use to interface with the simulator:"
   ],
   "cell_type": "markdown",
   "metadata": {}
  },
  {
   "cell_type": "code",
   "execution_count": 2,
   "metadata": {},
   "outputs": [],
   "source": [
    "client = XPlaneConnect()"
   ]
  },
  {
   "source": [
    "## Simulation Functions\n",
    "To simulate our taxi controller, we need to implement a *closed-loop system*. This can be a big task, so let's break it down into smaller ones! At each time step, we want to:\n",
    "\n",
    "1. Get the current state of the system\n",
    "2. Determine our control input using the state (steering angle)\n",
    "3. Feed the current state and control input into the dynamics function to determine the next state\n",
    "4. Go back to step 1!\n",
    "\n",
    "Let's make a separate function for steps 1-3. The function for step 1 returns the current state and has been done for you:"
   ],
   "cell_type": "markdown",
   "metadata": {}
  },
  {
   "source": [
    "### 1. Get the current state\n",
    "This one has been done for you and just uses the data from X-Plane 11 to return the current crosstrack and heading error."
   ],
   "cell_type": "markdown",
   "metadata": {}
  },
  {
   "cell_type": "code",
   "execution_count": 3,
   "metadata": {},
   "outputs": [],
   "source": [
    "def getState(client):\n",
    "    \"\"\" Returns the true crosstrack error (meters) and\n",
    "        heading error, (degrees) to simulate fully \n",
    "        oberservable control\n",
    "        Args:\n",
    "            client: XPlane Client\n",
    "    \"\"\"\n",
    "    cte, _, he = xpc3_helper.getHomeState(client)\n",
    "    return cte, he\n"
   ]
  },
  {
   "source": [
    "### 2. Determine the control input\n",
    "\n",
    "Remember all of that tuning you did on you controller? Let's test out those values here! Complete the function below with the best values you found for your controller:"
   ],
   "cell_type": "markdown",
   "metadata": {}
  },
  {
   "cell_type": "code",
   "execution_count": 5,
   "metadata": {},
   "outputs": [],
   "source": [
    "def getProportionalControl(client, cte, he):\n",
    "    \"\"\" Returns steering angle command using proportional control\n",
    "        Args:\n",
    "            client: XPlane Client\n",
    "            cte: current estimate of the crosstrack error, x (meters)\n",
    "            he: current estimate of the heading error, theta (degrees)\n",
    "    \"\"\"\n",
    "    # STUDENT CODE START\n",
    "    cte_multiplier = -0.74 # REPLACE THIS WITH YOUR VALUE!\n",
    "    he_multiplier = -0.44 # REPLACE THIS WITH YOUR VALUE!\n",
    "    # STUDENT CODE END\n",
    "    return cte_multiplier * cte + he_multiplier * he"
   ]
  },
  {
   "source": [
    "### 3. Get the next state\n",
    "Fill in the dynamics function to return the next state. Remember the dynamics equations we found:\n",
    "- he_next = he + phi\n",
    "- cte_next = cte + v * sin (theta)\n",
    "- dtp_next = dtp + v * cos (theta)\n",
    "\n",
    "For sin and cos, you can use the `np.sin` and `np.cos` functions. NOTE: these functions expect the input angle to be in RADIANS. Just like degrees, radians are another unit of measurement "
   ],
   "cell_type": "markdown",
   "metadata": {}
  },
  {
   "cell_type": "code",
   "execution_count": null,
   "metadata": {},
   "outputs": [],
   "source": [
    "def dynamics(cte, dtp, theta, phi_deg, dt=0.05, v=5, L=5):\n",
    "    \"\"\" Dubin's car dynamics model (returns next state)\n",
    "        Args:\n",
    "            x: current crosstrack error (meters)\n",
    "            y: current downtrack position (meters)\n",
    "            theta: current heading error (degrees)\n",
    "            phi_deg: steering angle input (degrees)\n",
    "            -------------------------------\n",
    "            dt: time step (seconds)\n",
    "            v: speed (m/s)\n",
    "            L: distance between front and back wheels (meters)\n",
    "    \"\"\"\n",
    "    \n",
    "    theta_rad = np.deg2rad(theta)\n",
    "    phi_rad = np.deg2rad(phi_deg)\n",
    "\n",
    "    x_dot = v * np.sin(theta_rad)\n",
    "    y_dot = v * np.cos(theta_rad)\n",
    "    theta_dot = (v / L) * np.tan(phi_rad)\n",
    "\n",
    "    x_prime = x + x_dot * dt\n",
    "    y_prime = y + y_dot * dt\n",
    "    theta_prime = theta + np.rad2deg(theta_dot) * dt\n",
    "\n",
    "    return x_prime, theta_prime, y_prime"
   ]
  },
  {
   "cell_type": "code",
   "execution_count": null,
   "metadata": {},
   "outputs": [],
   "source": [
    "def simulate_controller()"
   ]
  }
 ]
}
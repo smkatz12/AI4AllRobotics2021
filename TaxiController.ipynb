{
 "metadata": {
  "language_info": {
   "codemirror_mode": {
    "name": "ipython",
    "version": 3
   },
   "file_extension": ".py",
   "mimetype": "text/x-python",
   "name": "python",
   "nbconvert_exporter": "python",
   "pygments_lexer": "ipython3",
   "version": "3.9.2"
  },
  "orig_nbformat": 4,
  "kernelspec": {
   "name": "python3",
   "display_name": "Python 3.9.2 64-bit"
  },
  "interpreter": {
   "hash": "36cf16204b8548560b1c020c4e8fb5b57f0e4c58016f52f2d4be01e192833930"
  }
 },
 "nbformat": 4,
 "nbformat_minor": 2,
 "cells": [
  {
   "source": [
    "# X-Plane 11 Aircraft Taxi Controller\n",
    "\n",
    "In this notebook, you will implement a controller for the aircraft taxi problem and observe it in action!"
   ],
   "cell_type": "markdown",
   "metadata": {}
  },
  {
   "source": [
    "First, let's import some of the python packages we will need:"
   ],
   "cell_type": "markdown",
   "metadata": {}
  },
  {
   "cell_type": "code",
   "execution_count": null,
   "metadata": {},
   "outputs": [],
   "source": [
    "import time\n",
    "import numpy as np\n",
    "\n",
    "from xpc3 import *\n",
    "from xpc3_helper import *\n",
    "from plotting_helper import *"
   ]
  },
  {
   "source": [
    "Next, we need to get X-Plane 11 ready to go. We will follow the same steps as we did in the X-Plane 11 tutorial notebook:\n",
    "\n",
    "1. **Open X-Plane 11.** Look for the X-Plane 11 icon in the dock at the bottom of your screen (it should be towards the right). Click this icon and X-Plane 11 will open. A window may pop up saying that there is an update available. If this happens, you can just click \"ignore\".\n",
    "2. From the main menu of X-Plane 11, click \"New Flight\". This should bring up a window with some flight configuration options.\n",
    "3. In the AIRCRAFT section, select the Cessna Skyhawk.\n",
    "4. In the location section, select Grant Co Intl (ID is KMWH).\n",
    "5. You can leave the weather as clear.\n",
    "6. In the TIME OF DAY section, select a time between 8AM and 10AM local.\n",
    "7. Click the \"Start Flight\" button at the bottom right of the screen. It make take a minute or so to load the flight. Once it loads, you should see the front of the aircraft pointing down a runway. We are now ready to start controlling it!\n",
    "\n",
    "Connect to X-Plane 11 by creating a client that we can use to interface with the simulator:"
   ],
   "cell_type": "markdown",
   "metadata": {}
  },
  {
   "cell_type": "code",
   "execution_count": null,
   "metadata": {},
   "outputs": [],
   "source": [
    "client = XPlaneConnect()\n",
    "reset(client)"
   ]
  },
  {
   "source": [
    "## Simulation Functions\n",
    "To simulate our taxi controller, we need to implement a *closed-loop system*. This can be a big task, so let's break it down into smaller ones! At each time step, we want to:\n",
    "\n",
    "1. Get the current state of the system\n",
    "2. Determine our control input using the state (steering angle)\n",
    "3. Feed the current state and control input into the dynamics function to determine the next state\n",
    "4. Go back to step 1!\n",
    "\n",
    "Let's make a separate function for steps 1-3. The function for step 1 returns the current state and has been done for you:"
   ],
   "cell_type": "markdown",
   "metadata": {}
  },
  {
   "source": [
    "### 1. Get the current state\n",
    "This one has been done for you and just uses the data from X-Plane 11 to return the current crosstrack and heading error."
   ],
   "cell_type": "markdown",
   "metadata": {}
  },
  {
   "cell_type": "code",
   "execution_count": null,
   "metadata": {},
   "outputs": [],
   "source": [
    "def getState(client):\n",
    "    \"\"\" Returns the true crosstrack error (meters) and\n",
    "        heading error, (degrees) to simulate fully \n",
    "        oberservable control\n",
    "        Args:\n",
    "            client: XPlane Client\n",
    "    \"\"\"\n",
    "    cte, _, he = getHomeState(client)\n",
    "    return cte, he"
   ]
  },
  {
   "source": [
    "### 2. Determine the control input\n",
    "\n",
    "Remember all of that tuning you did on you controller? Let's test out those values here! Complete the function below with the best gains you found for your controller. Remember, the control law is:\n",
    "\n",
    "    phi = cte_gain * cte + he_gain * he"
   ],
   "cell_type": "markdown",
   "metadata": {}
  },
  {
   "cell_type": "code",
   "execution_count": null,
   "metadata": {},
   "outputs": [],
   "source": [
    "def getControl(client, cte, he):\n",
    "    \"\"\" Returns steering angle command using proportional control\n",
    "        Args:\n",
    "            client: XPlane Client\n",
    "            cte: current estimate of the crosstrack error, x (meters)\n",
    "            he: current estimate of the heading error, theta (degrees)\n",
    "    \"\"\"\n",
    "    # STUDENT CODE START\n",
    "    \n",
    "    # STUDENT CODE END"
   ]
  },
  {
   "source": [
    "### 3. Get the next state\n",
    "Fill in the dynamics function to return the next state. Remember the dynamics equations we found:\n",
    "- he_next = he + phi * dt\n",
    "- cte_next = cte + v * sin(theta) * dt\n",
    "- dtp_next = dtp + v * cos(theta) * dt\n",
    "\n",
    "For sin and cos, you can use the `np.sin` and `np.cos` functions. NOTE: these functions expect the input angle to be in RADIANS. Just like fahrenheit and celsius are different ways of measuring temperature, degrees and radians are different ways to measure angles! And just like we can convert a temperature from fahrenheit to celsius and vice versa, we can convert from degrees to radians and vice versa. Numpy has a nice function to do this for us called `np.deg2rad`. We have created variables for the radians values of the heading error for you (`he_rad`). **TLDR:** use the radians value (`he_rad`) when calling the sin and cos functions :)"
   ],
   "cell_type": "markdown",
   "metadata": {}
  },
  {
   "cell_type": "code",
   "execution_count": null,
   "metadata": {},
   "outputs": [],
   "source": [
    "def dynamics(cte, dtp, he, phi_deg, dt=0.05, v=5):\n",
    "    \"\"\" dynamics model (returns next state)\n",
    "        Args:\n",
    "            cte: current crosstrack error (meters)\n",
    "            dtp: current downtrack position (meters)\n",
    "            he: current heading error (degrees)\n",
    "            phi_deg: steering angle input (degrees)\n",
    "            -------------------------------\n",
    "            dt: time step (seconds)\n",
    "            v: speed (m/s)\n",
    "    \"\"\"\n",
    "\n",
    "    he_rad = np.deg2rad(he)\n",
    "\n",
    "    # STUDENT CODE START\n",
    "    \n",
    "    # STUDENT CODE END\n",
    "\n",
    "    return cte_next, he_next, dtp_next"
   ]
  },
  {
   "source": [
    "### Put it all together!\n",
    "We can now put everything together into a single simulation function. We have started by intializing some variables for you. Your job is to fill in the for loop that will simulate the closed-loop system. Here is a rough outline of the steps your code should follow:\n",
    "\n",
    "1. **Store the current crosstrack error, heading error, and downtrack position**. We want to keep track of the trajectory of the aircraft during our simulation so that we can plot it and analyze it after. To do this, we have defined three arrays for you: `cte_history`, `he_history`, and `dtp_history`. To start each loop iteration, you should store the values of these variables at the next slot in the array.\n",
    "2. **Decide if we should update our control**. Most real-world systems operate at a specific frequency, meaning that they only update their control every so often. For our simulation, we will only update our control (steering angle) on certain iterations of the loop controlled by the `ctrl_every` input. The default for this input is 20, so we only want to update our control at iteration 0, 20, 40, 60, 80, etc. What condition can we use to determine this? HINT: check out (python's modulo operator)[https://www.freecodecamp.org/news/the-python-modulo-operator-what-does-the-symbol-mean-in-python-solved/]. Can you come up with a condition using this operator that would only be true when i is a multiple of `ctrl_every`?\n",
    "3. **If we should update our control, update it**. To do this, we need to get the cte and he using the `getState` function and then input those into the `getControl` function to get a new value for `phiDeg`.\n",
    "4. **Get the next state based on the dynamics**. Call your dynamics function with the appropriate inputs.\n",
    "5. **Tell the simulator to move to that state**. You can use the function `setHomeState(client, cte, dtp, he)`"
   ],
   "cell_type": "markdown",
   "metadata": {}
  },
  {
   "cell_type": "code",
   "execution_count": null,
   "metadata": {},
   "outputs": [],
   "source": [
    "def simulate_controller(client, startCTE, startHE, startDTP, getState, getControl,\n",
    "                               dt=0.05, ctrlEvery=20, nsteps = 400, simSpeed=1.0):\n",
    "    \"\"\" Simulates a controller, overriding the built-in XPlane-11 dynamics to model the aircraft\n",
    "        as a Dubin's car\n",
    "        Args:\n",
    "            client: XPlane Client\n",
    "            startCTE: Starting crosstrack error (meters)\n",
    "            startHE: Starting heading error (degrees)\n",
    "            startDTP: Starting downtrack position (meters)\n",
    "            getState: Function to estimate the current crosstrack and heading errors.\n",
    "                      Takes in an XPlane client and returns the crosstrack and\n",
    "                      heading error estimates\n",
    "            getControl: Function to perform control based on the state\n",
    "                        Takes in an XPlane client, the current crosstrack error estimate,\n",
    "                        and the current heading error estimate and returns a control effort\n",
    "            -------------------\n",
    "            dt: time step (seconds)\n",
    "            crtlEvery: Frequency to get new control input \n",
    "                       (e.g. if dt=0.5, a value of 20 for ctrlEvery will perform control \n",
    "                       at a 1 Hz rate)\n",
    "            nsteps: Number of time steps to run the simulation for\n",
    "            simSpeed: increase beyond 1 to speed up simulation\n",
    "    \"\"\"\n",
    "    # Reset to the desired starting position\n",
    "    client.sendDREF(\"sim/time/sim_speed\", simSpeed)\n",
    "    reset(client, cteInit=startCTE,\n",
    "                      heInit=startHE, dtpInit=startDTP)\n",
    "    sendBrake(client, 0)\n",
    "\n",
    "    time.sleep(5)  # 5 seconds to get terminal window out of the way\n",
    "\n",
    "    # Initialize the crosstrack error, heading error, and downtrack position\n",
    "    cte = startCTE\n",
    "    he = startHE\n",
    "    dtp = startDTP\n",
    "\n",
    "    # Initialize the steering angle to 0 degrees\n",
    "    phiDeg = 0.0 # degrees\n",
    "\n",
    "    # Initialize arrays of zeros to store the results in\n",
    "    cte_history = np.zeros(nsteps)\n",
    "    he_history = np.zeros(nsteps)\n",
    "    dtp_history = np.zeros(nsteps)\n",
    "\n",
    "    # STUDENT CODE START\n",
    "    for i in range(nsteps): # Repeat for nsteps\n",
    "        # Record the current cte, he, and dtp into their corresponding arrays\n",
    "\n",
    "        # If we should change our control\n",
    "\n",
    "        # Update the cte, he, and dtp using the dynamics function\n",
    "\n",
    "        # Set the simulator to move to the next state\n",
    "\n",
    "        # Sleep for 0.03 seconds to give the simulator time to update everything\n",
    "        time.sleep(0.03)\n",
    "    # STUDENT CODE END\n",
    "\n",
    "    return cte_history, he_history, dtp_history"
   ]
  },
  {
   "source": [
    "## Test your controller!"
   ],
   "cell_type": "markdown",
   "metadata": {}
  },
  {
   "source": [
    "### Specify the settings\n",
    "\n",
    "The cell below defines some settings for the simulator such as the time of day and weather conditions. You can just leave these as is for now."
   ],
   "cell_type": "markdown",
   "metadata": {}
  },
  {
   "cell_type": "code",
   "execution_count": null,
   "metadata": {},
   "outputs": [],
   "source": [
    "# Time of day in local time, e.g. 8.0 = 8AM, 17.0 = 5PM\n",
    "TIME_OF_DAY = 8.0\n",
    "\n",
    "# Cloud cover (higher numbers are cloudier/darker)\n",
    "# 0 = Clear, 1 = Cirrus, 2 = Scattered, 3 = Broken, 4 = Overcast\n",
    "CLOUD_COVER = 0\n",
    "\n",
    "# Start downtrack position (322 m is a good starting place)\n",
    "START_DTP = 322.0\n",
    "\n",
    "# Set weather and time of day\n",
    "client.sendDREF(\"sim/time/zulu_time_sec\", TIME_OF_DAY * 3600 + 8 * 3600)\n",
    "client.sendDREF(\"sim/weather/cloud_type[0]\", CLOUD_COVER)"
   ]
  },
  {
   "source": [
    "### Run a single simulation\n",
    "The line below will run a single simulation and store the results in arrays called `cte_history`, `he_history`, and `dtp_history`. Run this cell now to watch your controller in action! It will pause for 5 seconds before starting and then run for 20 seconds."
   ],
   "cell_type": "markdown",
   "metadata": {}
  },
  {
   "cell_type": "code",
   "execution_count": null,
   "metadata": {},
   "outputs": [],
   "source": [
    "cte_history, he_history, dtp_history = simulate_controller(client, 6.0, 0.0, START_DTP, getState, getControl)"
   ]
  },
  {
   "source": [
    "### Plot the results\n",
    "\n",
    "Sometime, it is helpful to visualize the trajectory that the aircraft followed. We can use this to see if the aircraft is behaving how we expect it to. Also, we can use it to show others how our system performs (like in your final presentation!). The following two cells contain code for you to do this. The first cell imports some python plotting packages that you will use. The second cell plots the trajectory on the road. We have implemented a function for you to get a plot of the road in the `plotting_helper.py` file."
   ],
   "cell_type": "markdown",
   "metadata": {}
  },
  {
   "source": [
    "import matplotlib.pyplot as plt\n",
    "from matplotlib.path import Path\n",
    "import matplotlib.patches as patches"
   ],
   "cell_type": "code",
   "metadata": {},
   "execution_count": null,
   "outputs": []
  },
  {
   "cell_type": "code",
   "execution_count": null,
   "metadata": {},
   "outputs": [],
   "source": [
    "# Get the plot of the road\n",
    "fig, ax = plot_road()\n",
    "# Plot the trajectory on the road\n",
    "ax.plot(dtp_history - START_DTP, cte_history, 'b', linewidth=1)\n",
    "# Add axis labels\n",
    "ax.set_xlabel('Downtrack Position (m)')\n",
    "ax.set_ylabel('Crosstrack Error (m)')\n",
    "# Display the plot\n",
    "plt.show()"
   ]
  },
  {
   "source": [
    "### Run many simulations\n",
    "\n",
    "Now that we have confirmed that our controller is working as intended for one scenario, let's test out some other scenarios. It is important that we make sure our controller will work in many different scenarios. To test this, your next task is to write some code to find the trajectory of the aircraft from a number of starting crosstrack errors by filling in the code cells below."
   ],
   "cell_type": "markdown",
   "metadata": {}
  },
  {
   "source": [
    "First, let's initialize some lists to store our outputs:"
   ],
   "cell_type": "markdown",
   "metadata": {}
  },
  {
   "cell_type": "code",
   "execution_count": null,
   "metadata": {},
   "outputs": [],
   "source": [
    "cte_histories = []\n",
    "he_histories = []\n",
    "dtp_histories = []"
   ]
  },
  {
   "source": [
    "Next, let's call our simulation function from a number of ctes and append the resuts to our lists:"
   ],
   "cell_type": "markdown",
   "metadata": {}
  },
  {
   "cell_type": "code",
   "execution_count": null,
   "metadata": {},
   "outputs": [],
   "source": [
    "start_ctes = [-8.0, -6.0, -4.0, -2.0, 0.0, 2.0, 4.0, 6.0, 8.0]\n",
    "\n",
    "for start_cte in start_ctes:\n",
    "    # STUDENT CODE START\n",
    "    # Simulate the trajectory and get the results\n",
    "    \n",
    "    # Append to the lists\n",
    "\n",
    "    # STUDENT CODE END"
   ]
  },
  {
   "source": [
    "Finally, let's plot the results! Our goal is to generate a plot similar to the one above for the single trajectory but with all of the trajectories we tested on it. You can use similar code to the plotting code used for the single trajectory. For this case, instead of adding a single trajectory, you will want to loop through the histories and add each trajectory to the plot."
   ],
   "cell_type": "markdown",
   "metadata": {}
  },
  {
   "cell_type": "code",
   "execution_count": null,
   "metadata": {},
   "outputs": [],
   "source": [
    "# STUDENT CODE START\n",
    "# Get the plot of the road\n",
    "\n",
    "# Plot the trajectory on the road\n",
    "\n",
    "# Add axis labels\n",
    "\n",
    "# STUDENT CODE END\n",
    "\n",
    "# Display the plot\n",
    "plt.show()"
   ]
  }
 ]
}